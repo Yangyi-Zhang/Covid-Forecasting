{
 "cells": [
  {
   "cell_type": "markdown",
   "metadata": {},
   "source": [
    "# The ARI Model of Time Series\n",
    "- An ARI model using lag number 7 and differenced once\n",
    "- Trained and tested on a 63+18 dataset, step = 7\n",
    "    - one model per trial instead of Walk Forward\n",
    "- Evaluated with average RMSE, MAE, MAPE"
   ]
  },
  {
   "cell_type": "code",
   "execution_count": 1,
   "metadata": {},
   "outputs": [],
   "source": [
    "import pandas as pd\n",
    "import numpy as np\n",
    "import random\n",
    "from statsmodels.tsa.stattools import pacf\n",
    "from matplotlib.pyplot import figure\n",
    "from statsmodels.tsa.arima.model import ARIMA\n",
    "# !pip install scikit-learn==0.24\n",
    "from sklearn.metrics import mean_squared_error, mean_absolute_error, mean_absolute_percentage_error\n",
    "import matplotlib.pyplot as plt"
   ]
  },
  {
   "cell_type": "code",
   "execution_count": 2,
   "metadata": {},
   "outputs": [],
   "source": [
    "import warnings\n",
    "warnings.filterwarnings('ignore')"
   ]
  },
  {
   "cell_type": "code",
   "execution_count": 3,
   "metadata": {},
   "outputs": [
    {
     "data": {
      "text/html": [
       "<div>\n",
       "<style scoped>\n",
       "    .dataframe tbody tr th:only-of-type {\n",
       "        vertical-align: middle;\n",
       "    }\n",
       "\n",
       "    .dataframe tbody tr th {\n",
       "        vertical-align: top;\n",
       "    }\n",
       "\n",
       "    .dataframe thead th {\n",
       "        text-align: right;\n",
       "    }\n",
       "</style>\n",
       "<table border=\"1\" class=\"dataframe\">\n",
       "  <thead>\n",
       "    <tr style=\"text-align: right;\">\n",
       "      <th></th>\n",
       "      <th>date</th>\n",
       "      <th>cases</th>\n",
       "    </tr>\n",
       "  </thead>\n",
       "  <tbody>\n",
       "    <tr>\n",
       "      <th>0</th>\n",
       "      <td>2020-07-27</td>\n",
       "      <td>207.0</td>\n",
       "    </tr>\n",
       "    <tr>\n",
       "      <th>1</th>\n",
       "      <td>2020-07-28</td>\n",
       "      <td>128.0</td>\n",
       "    </tr>\n",
       "    <tr>\n",
       "      <th>2</th>\n",
       "      <td>2020-07-29</td>\n",
       "      <td>126.0</td>\n",
       "    </tr>\n",
       "    <tr>\n",
       "      <th>3</th>\n",
       "      <td>2020-07-30</td>\n",
       "      <td>105.0</td>\n",
       "    </tr>\n",
       "    <tr>\n",
       "      <th>4</th>\n",
       "      <td>2020-07-31</td>\n",
       "      <td>112.0</td>\n",
       "    </tr>\n",
       "  </tbody>\n",
       "</table>\n",
       "</div>"
      ],
      "text/plain": [
       "         date  cases\n",
       "0  2020-07-27  207.0\n",
       "1  2020-07-28  128.0\n",
       "2  2020-07-29  126.0\n",
       "3  2020-07-30  105.0\n",
       "4  2020-07-31  112.0"
      ]
     },
     "execution_count": 3,
     "metadata": {},
     "output_type": "execute_result"
    }
   ],
   "source": [
    "# import data\n",
    "df = pd.read_csv(\"JointData.csv\", index_col = False)\n",
    "df = df[[\"date\",\"cases\"]]  # use only daily increment of cases to forcast\n",
    "df.reset_index(drop=True, inplace=True)\n",
    "df.head()"
   ]
  },
  {
   "cell_type": "markdown",
   "metadata": {},
   "source": [
    "# Data Smoothing\n",
    "- Remove day of week effect by replace $y_t$ with an average of 7 previous days(inclusive)\n",
    "    - Each value is an average of data from all 7 different weekdays, thud day of week effect removed"
   ]
  },
  {
   "cell_type": "code",
   "execution_count": 4,
   "metadata": {},
   "outputs": [],
   "source": [
    "# create a time series of cases, each value is an average of 7 previous days(include the current date)\n",
    "# starting from the 7th day:\n",
    "cases_ave = []\n",
    "for i in range(6,len(df)):\n",
    "    # remove day of week effect\n",
    "    temp = np.mean(df.cases.iloc[i-6:i+1])  # 6 previous days and the exact date, 7 days' average\n",
    "    cases_ave.append(temp)\n",
    "\n",
    "df = df.iloc[6:].reset_index(drop = True)  # start on day 7, update index\n",
    "df['case'] = cases_ave"
   ]
  },
  {
   "cell_type": "code",
   "execution_count": 5,
   "metadata": {},
   "outputs": [
    {
     "data": {
      "image/png": "[encoded data removed]",
      "text/plain": [
       "<Figure size 432x288 with 1 Axes>"
      ]
     },
     "metadata": {
      "needs_background": "light"
     },
     "output_type": "display_data"
    }
   ],
   "source": [
    "df.plot()\n",
    "plt.show()  # cases- original data, case- smoothed version w/o day of week effect"
   ]
  },
  {
   "cell_type": "code",
   "execution_count": 6,
   "metadata": {},
   "outputs": [
    {
     "data": {
      "text/html": [
       "<div>\n",
       "<style scoped>\n",
       "    .dataframe tbody tr th:only-of-type {\n",
       "        vertical-align: middle;\n",
       "    }\n",
       "\n",
       "    .dataframe tbody tr th {\n",
       "        vertical-align: top;\n",
       "    }\n",
       "\n",
       "    .dataframe thead th {\n",
       "        text-align: right;\n",
       "    }\n",
       "</style>\n",
       "<table border=\"1\" class=\"dataframe\">\n",
       "  <thead>\n",
       "    <tr style=\"text-align: right;\">\n",
       "      <th></th>\n",
       "      <th>date</th>\n",
       "      <th>cases</th>\n",
       "      <th>case</th>\n",
       "    </tr>\n",
       "  </thead>\n",
       "  <tbody>\n",
       "    <tr>\n",
       "      <th>0</th>\n",
       "      <td>2020-08-02</td>\n",
       "      <td>46.0</td>\n",
       "      <td>114.142857</td>\n",
       "    </tr>\n",
       "    <tr>\n",
       "      <th>1</th>\n",
       "      <td>2020-08-03</td>\n",
       "      <td>147.0</td>\n",
       "      <td>105.571429</td>\n",
       "    </tr>\n",
       "    <tr>\n",
       "      <th>2</th>\n",
       "      <td>2020-08-04</td>\n",
       "      <td>91.0</td>\n",
       "      <td>100.285714</td>\n",
       "    </tr>\n",
       "    <tr>\n",
       "      <th>3</th>\n",
       "      <td>2020-08-05</td>\n",
       "      <td>114.0</td>\n",
       "      <td>98.571429</td>\n",
       "    </tr>\n",
       "    <tr>\n",
       "      <th>4</th>\n",
       "      <td>2020-08-06</td>\n",
       "      <td>116.0</td>\n",
       "      <td>100.142857</td>\n",
       "    </tr>\n",
       "  </tbody>\n",
       "</table>\n",
       "</div>"
      ],
      "text/plain": [
       "         date  cases        case\n",
       "0  2020-08-02   46.0  114.142857\n",
       "1  2020-08-03  147.0  105.571429\n",
       "2  2020-08-04   91.0  100.285714\n",
       "3  2020-08-05  114.0   98.571429\n",
       "4  2020-08-06  116.0  100.142857"
      ]
     },
     "execution_count": 6,
     "metadata": {},
     "output_type": "execute_result"
    }
   ],
   "source": [
    "df.head()"
   ]
  },
  {
   "cell_type": "code",
   "execution_count": 7,
   "metadata": {},
   "outputs": [
    {
     "name": "stdout",
     "output_type": "stream",
     "text": [
      "<class 'pandas.core.frame.DataFrame'>\n",
      "Index: 577 entries, 2020-08-02 to 2022-03-01\n",
      "Data columns (total 1 columns):\n",
      " #   Column  Non-Null Count  Dtype  \n",
      "---  ------  --------------  -----  \n",
      " 0   case    577 non-null    float64\n",
      "dtypes: float64(1)\n",
      "memory usage: 9.0+ KB\n"
     ]
    }
   ],
   "source": [
    "# work with time series:\n",
    "df1 = df[[\"date\", \"case\"]]\n",
    "# df1[\"date\"] = pd.to_datetime(df1[\"date\"])  # convert to datatime\n",
    "df1.set_index(\"date\", inplace=True)\n",
    "df1.info()"
   ]
  },
  {
   "cell_type": "code",
   "execution_count": 8,
   "metadata": {},
   "outputs": [],
   "source": [
    "df1 = df1.to_dict()['case']  # convert to dict in order to convert to series\n",
    "s = pd.Series(df1)"
   ]
  },
  {
   "cell_type": "markdown",
   "metadata": {},
   "source": [
    "# Data Reshaping"
   ]
  },
  {
   "cell_type": "code",
   "execution_count": 9,
   "metadata": {},
   "outputs": [],
   "source": [
    "# convert to supervised learning\n",
    "def series_to_supervised(data, n_in=1, n_out=1, dropnan=True):\n",
    "    n_vars = 1 if type(data) is list else data.shape[1]\n",
    "    df = pd.DataFrame(data)\n",
    "    cols, names = list(), list()\n",
    "    # input sequence (t-n, ... t-1)\n",
    "    for i in range(n_in, 0, -1):\n",
    "        cols.append(df.shift(i))\n",
    "        names += [('var%d(t-%d)' % (j+1, i)) for j in range(n_vars)]\n",
    "    # forecast sequence (t, t+1, ... t+n)\n",
    "    for i in range(0, n_out):\n",
    "        cols.append(df.shift(-i))\n",
    "        if i == 0:\n",
    "            names += [('var%d(t)' % (j+1)) for j in range(n_vars)]\n",
    "        else:\n",
    "            names += [('var%d(t+%d)' % (j+1, i)) for j in range(n_vars)]\n",
    "    # put it all together\n",
    "    agg = pd.concat(cols, axis=1)\n",
    "    agg.columns = names\n",
    "    # drop rows with NaN values\n",
    "    if dropnan:\n",
    "        agg.dropna(inplace=True)\n",
    "    return agg\n",
    "# transform series into train and test sets for supervised learning\n",
    "def prepare_data(series, n_test, n_lag, n_seq):\n",
    "    # extract raw values\n",
    "    raw_values = series.values\n",
    "    raw_values = raw_values.reshape(len(raw_values), 1)\n",
    "    # transform into supervised learning problem X, y\n",
    "    supervised = series_to_supervised(raw_values, n_lag, n_seq)\n",
    "    supervised_values = supervised.values\n",
    "    # split into train and test sets\n",
    "    # rescale training data, no need to rescale testing data\n",
    "    train, test = raw_values[-(test_size+train_size):-test_size], supervised_values[-test_size:]\n",
    "    return train, test"
   ]
  },
  {
   "cell_type": "markdown",
   "metadata": {},
   "source": [
    "## Evaluation with RMSE, MAE, MAPE"
   ]
  },
  {
   "cell_type": "code",
   "execution_count": 10,
   "metadata": {},
   "outputs": [],
   "source": [
    "# evaluate RMSE for each step in forcasting\n",
    "def evaluate_forecasts(test, forecasts):\n",
    "    rmse = np.sqrt(mean_squared_error(test, forecasts))\n",
    "    mae = mean_absolute_error(test, forecasts)\n",
    "    test = np.array(test)\n",
    "    forecasts = np.array(forecasts)\n",
    "    mape = mean_absolute_percentage_error(test, forecasts)*100\n",
    "    return rmse, mae, mape"
   ]
  },
  {
   "cell_type": "markdown",
   "metadata": {},
   "source": [
    "# Training Model"
   ]
  },
  {
   "cell_type": "markdown",
   "metadata": {},
   "source": [
    "### AutoRegression\n",
    "- assume observations from previous time steps are useful to predict values at latter time steps\n",
    "    - true for Time Series\n",
    "- choose a proper lag\n",
    "    - use lag as variable\n",
    "    - if all lag variables show no correlation with output, then the time series problem could be not predictable\n",
    "    - Use the same lag number for AR, LSTM, and combined, for comparison\n",
    "\n",
    "$$y_t = \\phi_1 y_{t-1} + \\phi_2 y_{t-2} + ... + \\phi_p y_{t-p} + \\epsilon_t$$\n",
    "where $p$ is the lag number, p = 7"
   ]
  },
  {
   "cell_type": "markdown",
   "metadata": {},
   "source": [
    "# A Single Trial as Demo"
   ]
  },
  {
   "cell_type": "code",
   "execution_count": 11,
   "metadata": {},
   "outputs": [],
   "source": [
    "# given historical observations (t, t-1, t-2, … t-n+1) forecast t+1(future 1 day)\n",
    "n_lag = 7  # number of lag, use 7 past days\n",
    "n_seq = 1  # predict 1 future days\n",
    "train_size = 63  # train set size\n",
    "test_size = 18 # test set size\n",
    "# prepare data\n",
    "train, test = prepare_data(s, test_size, n_lag, n_seq)"
   ]
  },
  {
   "cell_type": "code",
   "execution_count": 12,
   "metadata": {},
   "outputs": [],
   "source": [
    "model = ARIMA(train, order = (n_lag,1,0))  # AR, I, MA\n",
    "model = model.fit()"
   ]
  },
  {
   "cell_type": "code",
   "execution_count": 13,
   "metadata": {},
   "outputs": [
    {
     "data": {
      "text/html": [
       "<table class=\"simpletable\">\n",
       "<caption>SARIMAX Results</caption>\n",
       "<tr>\n",
       "  <th>Dep. Variable:</th>           <td>y</td>        <th>  No. Observations:  </th>    <td>63</td>   \n",
       "</tr>\n",
       "<tr>\n",
       "  <th>Model:</th>            <td>ARIMA(7, 1, 0)</td>  <th>  Log Likelihood     </th> <td>-329.399</td>\n",
       "</tr>\n",
       "<tr>\n",
       "  <th>Date:</th>            <td>Mon, 15 Aug 2022</td> <th>  AIC                </th>  <td>674.798</td>\n",
       "</tr>\n",
       "<tr>\n",
       "  <th>Time:</th>                <td>01:23:19</td>     <th>  BIC                </th>  <td>691.815</td>\n",
       "</tr>\n",
       "<tr>\n",
       "  <th>Sample:</th>                  <td>0</td>        <th>  HQIC               </th>  <td>681.479</td>\n",
       "</tr>\n",
       "<tr>\n",
       "  <th></th>                       <td> - 63</td>      <th>                     </th>     <td> </td>   \n",
       "</tr>\n",
       "<tr>\n",
       "  <th>Covariance Type:</th>        <td>opg</td>       <th>                     </th>     <td> </td>   \n",
       "</tr>\n",
       "</table>\n",
       "<table class=\"simpletable\">\n",
       "<tr>\n",
       "     <td></td>       <th>coef</th>     <th>std err</th>      <th>z</th>      <th>P>|z|</th>  <th>[0.025</th>    <th>0.975]</th>  \n",
       "</tr>\n",
       "<tr>\n",
       "  <th>ar.L1</th>  <td>    0.7734</td> <td>    0.105</td> <td>    7.367</td> <td> 0.000</td> <td>    0.568</td> <td>    0.979</td>\n",
       "</tr>\n",
       "<tr>\n",
       "  <th>ar.L2</th>  <td>    0.0617</td> <td>    0.138</td> <td>    0.448</td> <td> 0.654</td> <td>   -0.209</td> <td>    0.332</td>\n",
       "</tr>\n",
       "<tr>\n",
       "  <th>ar.L3</th>  <td>    0.1093</td> <td>    0.200</td> <td>    0.545</td> <td> 0.586</td> <td>   -0.284</td> <td>    0.502</td>\n",
       "</tr>\n",
       "<tr>\n",
       "  <th>ar.L4</th>  <td>   -0.1251</td> <td>    0.200</td> <td>   -0.624</td> <td> 0.533</td> <td>   -0.518</td> <td>    0.268</td>\n",
       "</tr>\n",
       "<tr>\n",
       "  <th>ar.L5</th>  <td>   -0.0779</td> <td>    0.184</td> <td>   -0.423</td> <td> 0.673</td> <td>   -0.439</td> <td>    0.283</td>\n",
       "</tr>\n",
       "<tr>\n",
       "  <th>ar.L6</th>  <td>    0.0833</td> <td>    0.188</td> <td>    0.443</td> <td> 0.658</td> <td>   -0.286</td> <td>    0.452</td>\n",
       "</tr>\n",
       "<tr>\n",
       "  <th>ar.L7</th>  <td>    0.0454</td> <td>    0.128</td> <td>    0.355</td> <td> 0.722</td> <td>   -0.205</td> <td>    0.296</td>\n",
       "</tr>\n",
       "<tr>\n",
       "  <th>sigma2</th> <td> 2358.6499</td> <td>  353.892</td> <td>    6.665</td> <td> 0.000</td> <td> 1665.034</td> <td> 3052.266</td>\n",
       "</tr>\n",
       "</table>\n",
       "<table class=\"simpletable\">\n",
       "<tr>\n",
       "  <th>Ljung-Box (L1) (Q):</th>     <td>0.00</td> <th>  Jarque-Bera (JB):  </th> <td>15.01</td>\n",
       "</tr>\n",
       "<tr>\n",
       "  <th>Prob(Q):</th>                <td>0.97</td> <th>  Prob(JB):          </th> <td>0.00</td> \n",
       "</tr>\n",
       "<tr>\n",
       "  <th>Heteroskedasticity (H):</th> <td>0.61</td> <th>  Skew:              </th> <td>-0.42</td>\n",
       "</tr>\n",
       "<tr>\n",
       "  <th>Prob(H) (two-sided):</th>    <td>0.27</td> <th>  Kurtosis:          </th> <td>5.26</td> \n",
       "</tr>\n",
       "</table><br/><br/>Warnings:<br/>[1] Covariance matrix calculated using the outer product of gradients (complex-step)."
      ],
      "text/plain": [
       "<class 'statsmodels.iolib.summary.Summary'>\n",
       "\"\"\"\n",
       "                               SARIMAX Results                                \n",
       "==============================================================================\n",
       "Dep. Variable:                      y   No. Observations:                   63\n",
       "Model:                 ARIMA(7, 1, 0)   Log Likelihood                -329.399\n",
       "Date:                Mon, 15 Aug 2022   AIC                            674.798\n",
       "Time:                        01:23:19   BIC                            691.815\n",
       "Sample:                             0   HQIC                           681.479\n",
       "                                 - 63                                         \n",
       "Covariance Type:                  opg                                         \n",
       "==============================================================================\n",
       "                 coef    std err          z      P>|z|      [0.025      0.975]\n",
       "------------------------------------------------------------------------------\n",
       "ar.L1          0.7734      0.105      7.367      0.000       0.568       0.979\n",
       "ar.L2          0.0617      0.138      0.448      0.654      -0.209       0.332\n",
       "ar.L3          0.1093      0.200      0.545      0.586      -0.284       0.502\n",
       "ar.L4         -0.1251      0.200     -0.624      0.533      -0.518       0.268\n",
       "ar.L5         -0.0779      0.184     -0.423      0.673      -0.439       0.283\n",
       "ar.L6          0.0833      0.188      0.443      0.658      -0.286       0.452\n",
       "ar.L7          0.0454      0.128      0.355      0.722      -0.205       0.296\n",
       "sigma2      2358.6499    353.892      6.665      0.000    1665.034    3052.266\n",
       "===================================================================================\n",
       "Ljung-Box (L1) (Q):                   0.00   Jarque-Bera (JB):                15.01\n",
       "Prob(Q):                              0.97   Prob(JB):                         0.00\n",
       "Heteroskedasticity (H):               0.61   Skew:                            -0.42\n",
       "Prob(H) (two-sided):                  0.27   Kurtosis:                         5.26\n",
       "===================================================================================\n",
       "\n",
       "Warnings:\n",
       "[1] Covariance matrix calculated using the outer product of gradients (complex-step).\n",
       "\"\"\""
      ]
     },
     "execution_count": 13,
     "metadata": {},
     "output_type": "execute_result"
    }
   ],
   "source": [
    "model.summary()"
   ]
  },
  {
   "cell_type": "markdown",
   "metadata": {},
   "source": [
    "## Model Evaluation"
   ]
  },
  {
   "cell_type": "code",
   "execution_count": 14,
   "metadata": {},
   "outputs": [
    {
     "name": "stdout",
     "output_type": "stream",
     "text": [
      "Test RMSE: 74.0684397007439\n",
      "\n",
      "Test MAE: 69.98885280055502\n",
      "\n",
      "Test MAPE: 56.01826252741399\n"
     ]
    }
   ],
   "source": [
    "# make predictions\n",
    "predictions = []\n",
    "for i in range(test_size):\n",
    "    # forecast for all test\n",
    "    temp = 0  # initlialize with coefficient\n",
    "    for j in range(n_lag):\n",
    "        temp += model.params[j] * test[i][j]  # use real values\n",
    "    predictions.append(temp)\n",
    "# make real\n",
    "actual = [row[n_lag:].tolist()[0] for row in test]\n",
    "# compare and evaluate\n",
    "rmse, mae, mape = evaluate_forecasts(actual, predictions)\n",
    "print(\"Test RMSE: {}\\n\".format(rmse))\n",
    "print(\"Test MAE: {}\\n\".format(mae))\n",
    "print(\"Test MAPE: {}\".format(mape))"
   ]
  },
  {
   "cell_type": "code",
   "execution_count": 15,
   "metadata": {},
   "outputs": [
    {
     "data": {
      "image/png": "[encoded data removed]",
      "text/plain": [
       "<Figure size 432x288 with 1 Axes>"
      ]
     },
     "metadata": {
      "needs_background": "light"
     },
     "output_type": "display_data"
    }
   ],
   "source": [
    "plt.plot(s.values[-test_size:], color = 'blue', label = \"ground truth\")\n",
    "plt.plot(predictions, color = 'orange', label = \"prediction\")\n",
    "plt.legend()\n",
    "plt.show()"
   ]
  },
  {
   "cell_type": "code",
   "execution_count": 16,
   "metadata": {},
   "outputs": [
    {
     "data": {
      "image/png": "[encoded data removed]",
      "text/plain": [
       "<Figure size 432x288 with 1 Axes>"
      ]
     },
     "metadata": {
      "needs_background": "light"
     },
     "output_type": "display_data"
    }
   ],
   "source": [
    "original_train = s[-(test_size+train_size):-test_size]\n",
    "x = range(0,len(original_train))\n",
    "plt.plot(x,original_train, label = \"original training data\")\n",
    "plt.legend()\n",
    "plt.show()"
   ]
  },
  {
   "cell_type": "markdown",
   "metadata": {},
   "source": [
    "Notice: absence of a periodic trend. As a result, including more data does not always give us a better result\n",
    "- how does the algorithm work on different training and testing sets, given the same size of each?"
   ]
  },
  {
   "cell_type": "markdown",
   "metadata": {},
   "source": [
    "# Evaluate AR Method on Various Training & Testing Sets"
   ]
  },
  {
   "cell_type": "code",
   "execution_count": 17,
   "metadata": {},
   "outputs": [],
   "source": [
    "n_step = 7  # step size\n",
    "n_lag = 7  # number of lag, use 7 past days\n",
    "n_seq = 1  # predict 1 future days\n",
    "train_size = 63  # train set size\n",
    "test_size = 18 # test set size"
   ]
  },
  {
   "cell_type": "code",
   "execution_count": 18,
   "metadata": {},
   "outputs": [],
   "source": [
    "# for each date t\n",
    "    # use [t, t + train_size) as training set\n",
    "    # use [t + train_size, t + train_size + test_size) as testing set\n",
    "    # evaluate by calculating RMSE\n",
    "\n",
    "# holder for rmse:\n",
    "RMSE = []\n",
    "MAE = []\n",
    "MAPE = []\n",
    "for i in range(0, len(df)-(train_size+test_size)+1, n_step):  # len(df)-(train_size+test_size)+1\n",
    "    # cut a data trial from original dataset\n",
    "    X = df['case'][i:i+(train_size+test_size)]  # smoothed data\n",
    "    train, test = prepare_data(X, test_size, n_lag, n_seq)\n",
    "    # fit model\n",
    "    model = ARIMA(train, order = (n_lag,1,0))  # AR, I, MA\n",
    "    model = model.fit()\n",
    "    # make prediction\n",
    "    predictions = []\n",
    "    for i in range(test_size):\n",
    "        # forecast for all test\n",
    "        temp = 0  # initlialize with coefficient\n",
    "        for j in range(n_lag):\n",
    "            temp += model.params[j] * test[i][j]  # use real values\n",
    "        predictions.append(temp)\n",
    "    # make real\n",
    "    actual = [row[n_lag:].tolist()[0] for row in test]\n",
    "    # evaluate\n",
    "    rmse, mae, mape = evaluate_forecasts(predictions, actual)\n",
    "    RMSE.append(rmse)\n",
    "    MAE.append(mae)\n",
    "    MAPE.append(mape)"
   ]
  },
  {
   "cell_type": "code",
   "execution_count": 19,
   "metadata": {},
   "outputs": [
    {
     "data": {
      "text/html": [
       "<div>\n",
       "<style scoped>\n",
       "    .dataframe tbody tr th:only-of-type {\n",
       "        vertical-align: middle;\n",
       "    }\n",
       "\n",
       "    .dataframe tbody tr th {\n",
       "        vertical-align: top;\n",
       "    }\n",
       "\n",
       "    .dataframe thead th {\n",
       "        text-align: right;\n",
       "    }\n",
       "</style>\n",
       "<table border=\"1\" class=\"dataframe\">\n",
       "  <thead>\n",
       "    <tr style=\"text-align: right;\">\n",
       "      <th></th>\n",
       "      <th>date</th>\n",
       "      <th>rmse</th>\n",
       "      <th>mae</th>\n",
       "      <th>mape</th>\n",
       "    </tr>\n",
       "  </thead>\n",
       "  <tbody>\n",
       "    <tr>\n",
       "      <th>0</th>\n",
       "      <td>2020-08-02</td>\n",
       "      <td>65.896319</td>\n",
       "      <td>65.745558</td>\n",
       "      <td>540.833722</td>\n",
       "    </tr>\n",
       "    <tr>\n",
       "      <th>1</th>\n",
       "      <td>2020-08-09</td>\n",
       "      <td>76.821218</td>\n",
       "      <td>76.544862</td>\n",
       "      <td>354.476948</td>\n",
       "    </tr>\n",
       "    <tr>\n",
       "      <th>2</th>\n",
       "      <td>2020-08-16</td>\n",
       "      <td>99.121248</td>\n",
       "      <td>96.666029</td>\n",
       "      <td>336.312025</td>\n",
       "    </tr>\n",
       "    <tr>\n",
       "      <th>3</th>\n",
       "      <td>2020-08-23</td>\n",
       "      <td>150.457239</td>\n",
       "      <td>143.114204</td>\n",
       "      <td>309.032792</td>\n",
       "    </tr>\n",
       "    <tr>\n",
       "      <th>4</th>\n",
       "      <td>2020-08-30</td>\n",
       "      <td>195.225323</td>\n",
       "      <td>187.191120</td>\n",
       "      <td>464.262609</td>\n",
       "    </tr>\n",
       "    <tr>\n",
       "      <th>...</th>\n",
       "      <td>...</td>\n",
       "      <td>...</td>\n",
       "      <td>...</td>\n",
       "      <td>...</td>\n",
       "    </tr>\n",
       "    <tr>\n",
       "      <th>66</th>\n",
       "      <td>2021-11-07</td>\n",
       "      <td>492.372125</td>\n",
       "      <td>459.022882</td>\n",
       "      <td>23.435753</td>\n",
       "    </tr>\n",
       "    <tr>\n",
       "      <th>67</th>\n",
       "      <td>2021-11-14</td>\n",
       "      <td>380.894691</td>\n",
       "      <td>368.008229</td>\n",
       "      <td>25.543105</td>\n",
       "    </tr>\n",
       "    <tr>\n",
       "      <th>68</th>\n",
       "      <td>2021-11-21</td>\n",
       "      <td>307.037356</td>\n",
       "      <td>286.564494</td>\n",
       "      <td>30.443151</td>\n",
       "    </tr>\n",
       "    <tr>\n",
       "      <th>69</th>\n",
       "      <td>2021-11-28</td>\n",
       "      <td>258.385143</td>\n",
       "      <td>223.493162</td>\n",
       "      <td>34.696850</td>\n",
       "    </tr>\n",
       "    <tr>\n",
       "      <th>70</th>\n",
       "      <td>2021-12-05</td>\n",
       "      <td>115.825867</td>\n",
       "      <td>106.332328</td>\n",
       "      <td>31.775820</td>\n",
       "    </tr>\n",
       "  </tbody>\n",
       "</table>\n",
       "<p>71 rows × 4 columns</p>\n",
       "</div>"
      ],
      "text/plain": [
       "          date        rmse         mae        mape\n",
       "0   2020-08-02   65.896319   65.745558  540.833722\n",
       "1   2020-08-09   76.821218   76.544862  354.476948\n",
       "2   2020-08-16   99.121248   96.666029  336.312025\n",
       "3   2020-08-23  150.457239  143.114204  309.032792\n",
       "4   2020-08-30  195.225323  187.191120  464.262609\n",
       "..         ...         ...         ...         ...\n",
       "66  2021-11-07  492.372125  459.022882   23.435753\n",
       "67  2021-11-14  380.894691  368.008229   25.543105\n",
       "68  2021-11-21  307.037356  286.564494   30.443151\n",
       "69  2021-11-28  258.385143  223.493162   34.696850\n",
       "70  2021-12-05  115.825867  106.332328   31.775820\n",
       "\n",
       "[71 rows x 4 columns]"
      ]
     },
     "execution_count": 19,
     "metadata": {},
     "output_type": "execute_result"
    }
   ],
   "source": [
    "# create a data frame of \n",
    "    # date i\n",
    "    # rmse of data trial starting on date i\n",
    "date = [df['date'][i] for i in range(0, len(df)-(train_size+test_size)+1, n_step)]\n",
    "AR_evaluate = {'date': date,\n",
    "              'rmse': RMSE, 'mae': MAE, 'mape': MAPE}\n",
    "AR_evaluate = pd.DataFrame(AR_evaluate)\n",
    "AR_evaluate"
   ]
  },
  {
   "cell_type": "code",
   "execution_count": 20,
   "metadata": {},
   "outputs": [
    {
     "name": "stdout",
     "output_type": "stream",
     "text": [
      "The average Root Mean Square Error for AR(7) algorithm is 142.4511040416624\n",
      "The average Mean Absolute Error for AR(7) algorithm is 129.97488813787473\n",
      "The average Mean Absolute Percentage Error for AR(7) algorithm is 516.1126597982018\n",
      "\n",
      "\n",
      "The maximum of all RMSE is 1044.14080038621\n",
      "The maximum of all MAE is 1014.8416773777361\n",
      "The maximum of all MAPE is 17587.658706198657\n"
     ]
    }
   ],
   "source": [
    "print(\"The average Root Mean Square Error for AR(7) algorithm is {}\".format(np.mean(AR_evaluate['rmse'])))\n",
    "print(\"The average Mean Absolute Error for AR(7) algorithm is {}\".format(np.mean(AR_evaluate['mae'])))\n",
    "print(\"The average Mean Absolute Percentage Error for AR(7) algorithm is {}\".format(np.mean(AR_evaluate['mape'])))\n",
    "print(\"\\n\")\n",
    "print(\"The maximum of all RMSE is {}\".format(max(RMSE)))\n",
    "print(\"The maximum of all MAE is {}\".format(max(MAE)))\n",
    "print(\"The maximum of all MAPE is {}\".format(max(MAPE)))"
   ]
  },
  {
   "cell_type": "code",
   "execution_count": 21,
   "metadata": {},
   "outputs": [
    {
     "data": {
      "image/png": "[encoded data removed]",
      "text/plain": [
       "<Figure size 432x288 with 3 Axes>"
      ]
     },
     "metadata": {
      "needs_background": "light"
     },
     "output_type": "display_data"
    }
   ],
   "source": [
    "# plot RMSE, visualize with its 75% quantile\n",
    "fig, (ax1,ax2,ax3) = plt.subplots(3, 1)\n",
    "\n",
    "ax1.plot(RMSE)\n",
    "up = np.quantile(RMSE, 0.75)\n",
    "ax1.plot(range(len(AR_evaluate)),np.repeat(up,len(AR_evaluate)), 'm--')\n",
    "\n",
    "ax2.plot(MAE)\n",
    "up = np.quantile(MAE, 0.75)\n",
    "ax2.plot(range(len(AR_evaluate)),np.repeat(up,len(AR_evaluate)), 'm--')\n",
    "\n",
    "ax3.plot(MAPE)\n",
    "up = np.quantile(MAPE, 0.75)\n",
    "ax3.plot(range(len(AR_evaluate)),np.repeat(up,len(AR_evaluate)), 'm--')\n",
    "\n",
    "plt.show()"
   ]
  },
  {
   "cell_type": "markdown",
   "metadata": {},
   "source": [
    "From the graph, we observed that the abnormalty of RMSE and MAE generally corresponds."
   ]
  },
  {
   "cell_type": "markdown",
   "metadata": {},
   "source": [
    "# Identify and Visualize the Outliers"
   ]
  },
  {
   "cell_type": "markdown",
   "metadata": {},
   "source": [
    "## The Maximum MAPE"
   ]
  },
  {
   "cell_type": "code",
   "execution_count": 22,
   "metadata": {},
   "outputs": [
    {
     "data": {
      "text/plain": [
       "'2021-04-18'"
      ]
     },
     "execution_count": 22,
     "metadata": {},
     "output_type": "execute_result"
    }
   ],
   "source": [
    "# locate where the maximum MAPE take place\n",
    "maximum = max(MAPE)\n",
    "max_index = MAPE.index(maximum)*n_step\n",
    "# print out the dates around maximum MAPE\n",
    "df['date'][max_index]"
   ]
  },
  {
   "cell_type": "code",
   "execution_count": 23,
   "metadata": {},
   "outputs": [
    {
     "name": "stdout",
     "output_type": "stream",
     "text": [
      "Test RMSE: 29.023495342097018\n",
      "\n",
      "Test MAE: 26.751594596958817\n",
      "\n",
      "Test MAPE: 17587.658706198657\n"
     ]
    }
   ],
   "source": [
    "# fit the model on maximum RMSE\n",
    "X = df['case'][max_index:max_index+(train_size+test_size)]  # smoothed data\n",
    "train, test = prepare_data(X, test_size, n_lag, n_seq)\n",
    "\n",
    "predictions = []\n",
    "# model\n",
    "model = ARIMA(train, order = (n_lag,1,0))  # AR, I, MA\n",
    "model = model.fit()\n",
    "# make prediction\n",
    "predictions = []\n",
    "for i in range(test_size):\n",
    "    # forecast for all test\n",
    "    temp = 0  # initlialize with coefficient\n",
    "    for j in range(n_lag):\n",
    "        temp += model.params[j] * test[i][j]  # use real values\n",
    "    predictions.append(temp)\n",
    "# make real\n",
    "actual = [row[n_lag:].tolist()[0] for row in test]\n",
    "# evaluate\n",
    "rmse, mae, mape = evaluate_forecasts(predictions, actual)\n",
    "print(\"Test RMSE: {}\\n\".format(rmse))\n",
    "print(\"Test MAE: {}\\n\".format(mae))\n",
    "print(\"Test MAPE: {}\".format(mape))"
   ]
  },
  {
   "cell_type": "code",
   "execution_count": 24,
   "metadata": {},
   "outputs": [
    {
     "data": {
      "image/png": "[encoded data removed]",
      "text/plain": [
       "<Figure size 432x288 with 1 Axes>"
      ]
     },
     "metadata": {
      "needs_background": "light"
     },
     "output_type": "display_data"
    }
   ],
   "source": [
    "# visualize the model on maximum RMSE\n",
    "plt.plot(actual, color = 'blue', label = \"ground truth\")\n",
    "plt.plot(predictions, color = 'orange', label = \"prediction\")\n",
    "plt.title(\"Testing Data v.s. Prediction by the Model with Maximum MAPE\")\n",
    "plt.legend()\n",
    "plt.show()"
   ]
  },
  {
   "cell_type": "code",
   "execution_count": 25,
   "metadata": {},
   "outputs": [
    {
     "data": {
      "image/png": "[encoded data removed]",
      "text/plain": [
       "<Figure size 432x288 with 1 Axes>"
      ]
     },
     "metadata": {
      "needs_background": "light"
     },
     "output_type": "display_data"
    }
   ],
   "source": [
    "plt.plot(X, color = 'cornflowerblue')\n",
    "# visualize the split of test/train\n",
    "plt.axvline(x = max_index+train_size, color = 'orange', label = 'train/test split')\n",
    "plt.title(\"Training and Training Set for the Model with Maximum MAPE\")\n",
    "plt.legend()\n",
    "plt.show()"
   ]
  },
  {
   "cell_type": "markdown",
   "metadata": {},
   "source": [
    "## The Maximum RMSE"
   ]
  },
  {
   "cell_type": "code",
   "execution_count": 26,
   "metadata": {},
   "outputs": [
    {
     "data": {
      "text/plain": [
       "'2021-10-24'"
      ]
     },
     "execution_count": 26,
     "metadata": {},
     "output_type": "execute_result"
    }
   ],
   "source": [
    "# locate where the maximum RMSE take place\n",
    "maximum = max(RMSE)\n",
    "max_index = RMSE.index(maximum)*n_step\n",
    "# print out the dates around maximum RMSE\n",
    "df['date'][max_index]"
   ]
  },
  {
   "cell_type": "code",
   "execution_count": 27,
   "metadata": {},
   "outputs": [
    {
     "name": "stdout",
     "output_type": "stream",
     "text": [
      "Test RMSE: 1044.14080038621\n",
      "\n",
      "Test MAE: 1014.8416773777361\n",
      "\n",
      "Test MAPE: 208.18347342824984\n"
     ]
    }
   ],
   "source": [
    "# fit the model on maximum RMSE\n",
    "X = df['case'][max_index:max_index+(train_size+test_size)]  # smoothed data\n",
    "train, test = prepare_data(X, test_size, n_lag, n_seq)\n",
    "\n",
    "predictions = []\n",
    "# model\n",
    "model = ARIMA(train, order = (n_lag,1,0))  # AR, I, MA\n",
    "model = model.fit()\n",
    "# make prediction\n",
    "predictions = []\n",
    "for i in range(test_size):\n",
    "    # forecast for all test\n",
    "    temp = 0  # initlialize with coefficient\n",
    "    for j in range(n_lag):\n",
    "        temp += model.params[j] * test[i][j]  # use real values\n",
    "    predictions.append(temp)\n",
    "# make real\n",
    "actual = [row[n_lag:].tolist()[0] for row in test]\n",
    "# evaluate\n",
    "rmse, mae, mape = evaluate_forecasts(predictions, actual)\n",
    "print(\"Test RMSE: {}\\n\".format(rmse))\n",
    "print(\"Test MAE: {}\\n\".format(mae))\n",
    "print(\"Test MAPE: {}\".format(mape))"
   ]
  },
  {
   "cell_type": "code",
   "execution_count": 28,
   "metadata": {},
   "outputs": [
    {
     "data": {
      "image/png": "[encoded data removed]",
      "text/plain": [
       "<Figure size 432x288 with 1 Axes>"
      ]
     },
     "metadata": {
      "needs_background": "light"
     },
     "output_type": "display_data"
    }
   ],
   "source": [
    "# visualize the model on maximum RMSE\n",
    "plt.plot(actual, color = 'blue', label = \"ground truth\")\n",
    "plt.plot(predictions, color = 'orange', label = \"prediction\")\n",
    "plt.title(\"Testing Data v.s. Prediction by the Model with Maximum RMSE\")\n",
    "plt.legend()\n",
    "plt.show()"
   ]
  },
  {
   "cell_type": "code",
   "execution_count": 29,
   "metadata": {},
   "outputs": [
    {
     "data": {
      "image/png": "[encoded data removed]",
      "text/plain": [
       "<Figure size 432x288 with 1 Axes>"
      ]
     },
     "metadata": {
      "needs_background": "light"
     },
     "output_type": "display_data"
    }
   ],
   "source": [
    "plt.plot(X, color = 'cornflowerblue')\n",
    "# visualize the split of test/train\n",
    "plt.axvline(x = max_index+train_size, color = 'orange', label = 'train/test split')\n",
    "plt.title(\"Training and Training Set for the Model with Minimum RMSE\")\n",
    "plt.legend()\n",
    "plt.show()"
   ]
  },
  {
   "cell_type": "markdown",
   "metadata": {},
   "source": [
    "## The Minimum RMSE\n",
    "\n",
    "- check where the model works the best"
   ]
  },
  {
   "cell_type": "code",
   "execution_count": 30,
   "metadata": {},
   "outputs": [
    {
     "data": {
      "text/plain": [
       "'2021-03-07'"
      ]
     },
     "execution_count": 30,
     "metadata": {},
     "output_type": "execute_result"
    }
   ],
   "source": [
    "# locate where the minimum RMSE take place\n",
    "minimum = min(RMSE)\n",
    "min_index = RMSE.index(minimum)*n_step\n",
    "# print out the dates around minimum RMSE\n",
    "df['date'][min_index]"
   ]
  },
  {
   "cell_type": "code",
   "execution_count": 31,
   "metadata": {},
   "outputs": [
    {
     "name": "stdout",
     "output_type": "stream",
     "text": [
      "Test RMSE: 2.900867521367455\n",
      "\n",
      "Test MAE: 2.367251218580384\n",
      "\n",
      "Test MAPE: 14.112470108803713\n"
     ]
    }
   ],
   "source": [
    "# fit the model on minimum RMSE\n",
    "X = df['case'][min_index:min_index+(train_size+test_size)]  # smoothed data\n",
    "train, test = prepare_data(X, test_size, n_lag, n_seq)\n",
    "\n",
    "predictions = []\n",
    "# model\n",
    "model = ARIMA(train, order = (n_lag,1,0))  # AR, I, MA\n",
    "model = model.fit()\n",
    "# make prediction\n",
    "predictions = []\n",
    "for i in range(test_size):\n",
    "    # forecast for all test\n",
    "    temp = 0  # initlialize with coefficient\n",
    "    for j in range(n_lag):\n",
    "        temp += model.params[j] * test[i][j]  # use real values\n",
    "    predictions.append(temp)\n",
    "# make real\n",
    "actual = [row[n_lag:].tolist()[0] for row in test]\n",
    "# evaluate\n",
    "rmse, mae, mape = evaluate_forecasts(predictions, actual)\n",
    "print(\"Test RMSE: {}\\n\".format(rmse))\n",
    "print(\"Test MAE: {}\\n\".format(mae))\n",
    "print(\"Test MAPE: {}\".format(mape))"
   ]
  },
  {
   "cell_type": "code",
   "execution_count": 32,
   "metadata": {},
   "outputs": [
    {
     "data": {
      "image/png": "[encoded data removed]",
      "text/plain": [
       "<Figure size 432x288 with 1 Axes>"
      ]
     },
     "metadata": {
      "needs_background": "light"
     },
     "output_type": "display_data"
    }
   ],
   "source": [
    "# visualize the model on maximum RMSE\n",
    "plt.plot(actual, color = 'blue', label = \"ground truth\")\n",
    "plt.plot(predictions, color = 'orange', label = \"prediction\")\n",
    "plt.title(\"Testing Data v.s. Prediction by the Model with Minimum RMSE\")\n",
    "plt.legend()\n",
    "plt.show()"
   ]
  },
  {
   "cell_type": "code",
   "execution_count": 33,
   "metadata": {},
   "outputs": [
    {
     "data": {
      "image/png": "[encoded data removed]",
      "text/plain": [
       "<Figure size 432x288 with 1 Axes>"
      ]
     },
     "metadata": {
      "needs_background": "light"
     },
     "output_type": "display_data"
    }
   ],
   "source": [
    "plt.plot(X, color = 'cornflowerblue')\n",
    "# visualize the split of test/train\n",
    "plt.axvline(x = min_index+train_size, color = 'orange', label = 'train/test split')\n",
    "plt.title(\"Training and Training Set for the Model with Minimum RMSE\")\n",
    "plt.legend()\n",
    "plt.show()"
   ]
  }
 ],
 "metadata": {
  "kernelspec": {
   "display_name": "Python 3",
   "language": "python",
   "name": "python3"
  },
  "language_info": {
   "codemirror_mode": {
    "name": "ipython",
    "version": 3
   },
   "file_extension": ".py",
   "mimetype": "text/x-python",
   "name": "python",
   "nbconvert_exporter": "python",
   "pygments_lexer": "ipython3",
   "version": "3.8.5"
  }
 },
 "nbformat": 4,
 "nbformat_minor": 4
}
