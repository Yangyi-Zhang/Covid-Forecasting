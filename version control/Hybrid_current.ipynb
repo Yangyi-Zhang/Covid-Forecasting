{
 "cells": [
  {
   "cell_type": "markdown",
   "metadata": {},
   "source": [
    "# The Hybrid Model"
   ]
  },
  {
   "cell_type": "markdown",
   "metadata": {},
   "source": [
    "Version Control:\n",
    "- Last Trial\n",
    "- 8 CA counties\n",
    "- Averaged on 5 runs"
   ]
  },
  {
   "cell_type": "code",
   "execution_count": 1,
   "metadata": {},
   "outputs": [],
   "source": [
    "import pandas as pd\n",
    "import numpy as np\n",
    "from sklearn.preprocessing import MinMaxScaler\n",
    "from sklearn.metrics import mean_squared_error, mean_absolute_error, mean_absolute_percentage_error\n",
    "import matplotlib.pyplot as plt\n",
    "import tensorflow as tf\n",
    "from tensorflow import keras\n",
    "from tensorflow.keras import layers\n",
    "import tensorflow_lattice as tfl\n",
    "import time"
   ]
  },
  {
   "cell_type": "code",
   "execution_count": 2,
   "metadata": {},
   "outputs": [
    {
     "data": {
      "text/html": [
       "<div>\n",
       "<style scoped>\n",
       "    .dataframe tbody tr th:only-of-type {\n",
       "        vertical-align: middle;\n",
       "    }\n",
       "\n",
       "    .dataframe tbody tr th {\n",
       "        vertical-align: top;\n",
       "    }\n",
       "\n",
       "    .dataframe thead th {\n",
       "        text-align: right;\n",
       "    }\n",
       "</style>\n",
       "<table border=\"1\" class=\"dataframe\">\n",
       "  <thead>\n",
       "    <tr style=\"text-align: right;\">\n",
       "      <th></th>\n",
       "      <th>date</th>\n",
       "      <th>Los Angeles</th>\n",
       "      <th>San Diego</th>\n",
       "      <th>San Francisco</th>\n",
       "      <th>Santa Barbara</th>\n",
       "      <th>Fresno</th>\n",
       "      <th>Sacramento</th>\n",
       "      <th>Ventura</th>\n",
       "      <th>Riverside</th>\n",
       "    </tr>\n",
       "  </thead>\n",
       "  <tbody>\n",
       "    <tr>\n",
       "      <th>0</th>\n",
       "      <td>2020-02-01</td>\n",
       "      <td>13.0</td>\n",
       "      <td>0.0</td>\n",
       "      <td>1.0</td>\n",
       "      <td>0.0</td>\n",
       "      <td>0.0</td>\n",
       "      <td>0.0</td>\n",
       "      <td>0.0</td>\n",
       "      <td>2.0</td>\n",
       "    </tr>\n",
       "    <tr>\n",
       "      <th>1</th>\n",
       "      <td>2020-02-02</td>\n",
       "      <td>4.0</td>\n",
       "      <td>0.0</td>\n",
       "      <td>0.0</td>\n",
       "      <td>0.0</td>\n",
       "      <td>0.0</td>\n",
       "      <td>0.0</td>\n",
       "      <td>0.0</td>\n",
       "      <td>1.0</td>\n",
       "    </tr>\n",
       "    <tr>\n",
       "      <th>2</th>\n",
       "      <td>2020-02-03</td>\n",
       "      <td>4.0</td>\n",
       "      <td>0.0</td>\n",
       "      <td>0.0</td>\n",
       "      <td>0.0</td>\n",
       "      <td>0.0</td>\n",
       "      <td>0.0</td>\n",
       "      <td>0.0</td>\n",
       "      <td>1.0</td>\n",
       "    </tr>\n",
       "    <tr>\n",
       "      <th>3</th>\n",
       "      <td>2020-02-04</td>\n",
       "      <td>1.0</td>\n",
       "      <td>0.0</td>\n",
       "      <td>0.0</td>\n",
       "      <td>0.0</td>\n",
       "      <td>0.0</td>\n",
       "      <td>0.0</td>\n",
       "      <td>0.0</td>\n",
       "      <td>0.0</td>\n",
       "    </tr>\n",
       "    <tr>\n",
       "      <th>4</th>\n",
       "      <td>2020-02-05</td>\n",
       "      <td>0.0</td>\n",
       "      <td>0.0</td>\n",
       "      <td>0.0</td>\n",
       "      <td>0.0</td>\n",
       "      <td>0.0</td>\n",
       "      <td>0.0</td>\n",
       "      <td>0.0</td>\n",
       "      <td>0.0</td>\n",
       "    </tr>\n",
       "  </tbody>\n",
       "</table>\n",
       "</div>"
      ],
      "text/plain": [
       "         date  Los Angeles  San Diego  San Francisco  Santa Barbara  Fresno  \\\n",
       "0  2020-02-01         13.0        0.0            1.0            0.0     0.0   \n",
       "1  2020-02-02          4.0        0.0            0.0            0.0     0.0   \n",
       "2  2020-02-03          4.0        0.0            0.0            0.0     0.0   \n",
       "3  2020-02-04          1.0        0.0            0.0            0.0     0.0   \n",
       "4  2020-02-05          0.0        0.0            0.0            0.0     0.0   \n",
       "\n",
       "   Sacramento  Ventura  Riverside  \n",
       "0         0.0      0.0        2.0  \n",
       "1         0.0      0.0        1.0  \n",
       "2         0.0      0.0        1.0  \n",
       "3         0.0      0.0        0.0  \n",
       "4         0.0      0.0        0.0  "
      ]
     },
     "execution_count": 2,
     "metadata": {},
     "output_type": "execute_result"
    }
   ],
   "source": [
    "# import data\n",
    "df = pd.read_csv(\"CACases.csv\", index_col = False)\n",
    "df.reset_index(drop=True, inplace=True)\n",
    "df.head()"
   ]
  },
  {
   "cell_type": "code",
   "execution_count": 3,
   "metadata": {},
   "outputs": [],
   "source": [
    "# counties we are interested in\n",
    "counties = [\"Los Angeles\", \"San Diego\", \"San Francisco\", \"Santa Barbara\",\\\n",
    "            \"Fresno\", \"Sacramento\", \"Ventura\", \"Riverside\"]"
   ]
  },
  {
   "cell_type": "markdown",
   "metadata": {},
   "source": [
    "# Data Smoothing\n",
    "- Remove day of week effect by replace $y_t$ with an average of 7 previous days(inclusive)\n",
    "    - Each value is an average of data from all 7 different weekdays, thud day of week effect removed"
   ]
  },
  {
   "cell_type": "code",
   "execution_count": 4,
   "metadata": {},
   "outputs": [],
   "source": [
    "# create a time series of cases, each value is an average of 7 previous days(include the current date)\n",
    "# for each county\n",
    "df1 = df.copy()  # deep copy\n",
    "df1 = df1.iloc[6:]\n",
    "for county in counties:\n",
    "    # holder\n",
    "    temp = []\n",
    "    # take average, starting from 7th day\n",
    "    for i in range(6,len(df)):\n",
    "        # remove day of week effect\n",
    "        ave = np.mean(df[county].iloc[i-6:i+1])  # 6 previous days and the exact date, 7 days' average\n",
    "        temp.append(ave)\n",
    "    df1[county] = temp"
   ]
  },
  {
   "cell_type": "code",
   "execution_count": 5,
   "metadata": {},
   "outputs": [],
   "source": [
    "df1.set_index(\"date\", inplace=True)"
   ]
  },
  {
   "cell_type": "code",
   "execution_count": 6,
   "metadata": {},
   "outputs": [],
   "source": [
    "# input: original dataset, county we want\n",
    "# output: all data, sorted by date, of that county\n",
    "def extract(dataset, county):\n",
    "    # select data only from the input county\n",
    "    temp = dataset.to_dict()[county]\n",
    "    temp = pd.Series(temp)\n",
    "    # reset index\n",
    "    # temp.reset_index(drop=True, inplace=True)\n",
    "    return temp"
   ]
  },
  {
   "cell_type": "markdown",
   "metadata": {},
   "source": [
    "# Data Preprocessing\n",
    "## Differencing\n",
    "- Differencing of time series in discrete time\n",
    "- transformation of series to a new time series wehre values are the difference between consecutive values of previous series\n",
    "- help stablizing the mean of time series by removing trend"
   ]
  },
  {
   "cell_type": "code",
   "execution_count": 7,
   "metadata": {},
   "outputs": [],
   "source": [
    "# create a differenced series, output as Series\n",
    "# interval: order of differencing, default = 1\n",
    "def difference(dataset, interval=1):\n",
    "    diff = []\n",
    "    for i in range(interval, len(dataset)):\n",
    "        # no need to difference\n",
    "        if (interval == 0):\n",
    "            value = dataset[i]\n",
    "        else:\n",
    "            value = dataset[i] - dataset[i - interval]\n",
    "        diff.append(value)\n",
    "    return pd.Series(diff)\n",
    "# invert differenced value\n",
    "# input: single original, single prediction, interval(default as 1)\n",
    "def invert_difference(history, yhat, interval=1):\n",
    "    if (interval == 0):\n",
    "        return yhat\n",
    "    else:\n",
    "        return yhat + history"
   ]
  },
  {
   "cell_type": "markdown",
   "metadata": {},
   "source": [
    "## Scaling\n",
    "- Scale the data to [-1,1]"
   ]
  },
  {
   "cell_type": "code",
   "execution_count": 8,
   "metadata": {},
   "outputs": [],
   "source": [
    "# scale train and test data to [-1, 1]\n",
    "# input: train(np array, train_size*1), test(np array, test_size*1)\n",
    "def scale(train, test):\n",
    "    # find scalers\n",
    "    aveTrain = np.mean(train)\n",
    "    maxTrain = max(train)\n",
    "    minTrain = min(train)\n",
    "    scaler = [aveTrain, maxTrain, minTrain]\n",
    "    # transform train\n",
    "    train = train.reshape(train.shape[0], train.shape[1])\n",
    "    train_scaled = (train - aveTrain)/(maxTrain-minTrain)\n",
    "    # transform test\n",
    "    test = test.reshape(test.shape[0], test.shape[1])\n",
    "    test_scaled = (test - aveTrain)/(maxTrain-minTrain)\n",
    "    return scaler, train_scaled, test_scaled\n",
    "# inverse scaling for a forecasted value\n",
    "# input: scaler, single prediction yhat\n",
    "def invert_scale(scaler, yhat):\n",
    "    inverted = yhat*(scaler[1]-scaler[2]) + scaler[0]\n",
    "    return inverted[0][0]  # output: a number"
   ]
  },
  {
   "cell_type": "markdown",
   "metadata": {},
   "source": [
    "## Reshaping"
   ]
  },
  {
   "cell_type": "code",
   "execution_count": 9,
   "metadata": {},
   "outputs": [],
   "source": [
    "# convert to supervised learning\n",
    "def series_to_supervised(data, n_in=1, n_out=1, dropnan=True):\n",
    "    n_vars = 1 if type(data) is list else data.shape[1]\n",
    "    df = pd.DataFrame(data)\n",
    "    cols, names = [], []\n",
    "    # input sequence (t-n, ... t-1)\n",
    "    for i in range(n_in, 0, -1):\n",
    "        cols.append(df.shift(i))\n",
    "        names += [('var%d(t-%d)' % (j+1, i)) for j in range(n_vars)]\n",
    "    # forecast sequence (t, t+1, ... t+n)\n",
    "    for i in range(0, n_out):\n",
    "        cols.append(df.shift(-i))\n",
    "        if i == 0:\n",
    "            names += [('var%d(t)' % (j+1)) for j in range(n_vars)]\n",
    "        else:\n",
    "            names += [('var%d(t+%d)' % (j+1, i)) for j in range(n_vars)]\n",
    "    # put it all together\n",
    "    agg = pd.concat(cols, axis=1)\n",
    "    agg.columns = names\n",
    "    # drop rows with NaN values\n",
    "    if dropnan:\n",
    "        agg.dropna(inplace=True)\n",
    "    return agg\n",
    "# transform series into train and test sets for supervised learning\n",
    "def prepare_data(series, diff, train_size, test_size, n_lag, n_seq):\n",
    "    # extract raw values\n",
    "    raw_values = series.values\n",
    "    raw_values = raw_values.reshape(len(raw_values), 1)\n",
    "    # differencing\n",
    "    diff_series = difference(raw_values, diff)\n",
    "    diff_values = diff_series.values\n",
    "    diff_values = diff_values.reshape(len(diff_values), 1)\n",
    "    # split into train & test\n",
    "    train_diff, test_diff = diff_values[:(train_size-diff)], diff_values[(train_size-diff):]\n",
    "    # rescaling\n",
    "    scaler, train_scaled, test_scaled = scale(train_diff, test_diff)\n",
    "    # adjust data type for train_scaled, test_scaled\n",
    "    train_scaled = [row[0][0] for row in train_scaled]\n",
    "    test_scaled = [row[0][0] for row in test_scaled]\n",
    "    # convert to supervised\n",
    "    train = series_to_supervised(train_scaled, n_lag, n_seq).values\n",
    "    test = series_to_supervised(test_scaled, n_lag, n_seq).values\n",
    "    return scaler, train, test  # scaler: list of np array, train: np array, test: np array"
   ]
  },
  {
   "cell_type": "markdown",
   "metadata": {},
   "source": [
    "# Long Short-Term Memory(LSTM)\n",
    "- The Long Short-Term Memory network or LSTM is a recurrent neural network that can learn and forecast long sequences.\n",
    "- Walk forward model validation: a prediction will be made for a time step, then the real value used for model to predict next time step\n",
    "    - stimulates the reality\n",
    "- RMSE will be used: punishes large errors and results in a score that is in the same units as the forecast data"
   ]
  },
  {
   "cell_type": "code",
   "execution_count": 10,
   "metadata": {},
   "outputs": [],
   "source": [
    "def fit_comb(train, n_lag, n_seq, n_batch, n_epoch, n_neurons):\n",
    "    X, y = train[:, 0:n_lag], train[:, n_lag:]\n",
    "    Z = X.reshape(X.shape[0], 1, X.shape[1])\n",
    "    # AR layer\n",
    "    input1 = tf.keras.layers.Input(shape=(X.shape[1],))\n",
    "    AR = tfl.layers.Linear(num_input_dims=X.shape[1], units=n_seq)(input1)\n",
    "    # lstm layer\n",
    "    input2 = tf.keras.layers.Input(shape=(Z.shape[1],Z.shape[2]))\n",
    "    lstm = layers.LSTM(n_seq)(input2)\n",
    "    # combine\n",
    "    added = tf.keras.layers.add([AR, lstm])\n",
    "    out = tf.keras.layers.Dense(n_seq)(added)\n",
    "    model = tf.keras.models.Model(inputs=[input1,input2], outputs=out)\n",
    "    # compile before training or testing\n",
    "    model.compile(loss='mean_squared_error', optimizer='adam')\n",
    "    # fit network\n",
    "    for i in range(n_epoch):\n",
    "        model.fit([X, Z], y, epochs=1, batch_size=n_batch, verbose=0, shuffle=False)\n",
    "        model.reset_states()\n",
    "    return model"
   ]
  },
  {
   "cell_type": "markdown",
   "metadata": {},
   "source": [
    "# Prediction and Evaluation"
   ]
  },
  {
   "cell_type": "code",
   "execution_count": 11,
   "metadata": {},
   "outputs": [],
   "source": [
    "# make one forecast with a hybird model\n",
    "def forecast_comb(model, X, n_batch):\n",
    "    # reshape input pattern to [samples, timesteps, features]\n",
    "    Z = X.reshape(1, 1, len(X))\n",
    "    X = X.reshape(1, len(X))\n",
    "    # make forecast\n",
    "    forecast = model.predict([X,Z], batch_size=n_batch)\n",
    "    return [x for x in forecast[0, :]][0]\n",
    "    return [x for x in forecast[0, :]][0]\n",
    "# evaluate the model\n",
    "def make_forecasts(model, n_batch, raw_value, test, test_size, n_lag, n_seq, diff):\n",
    "    forecasts = []\n",
    "    prev = raw_value[-(test_size+diff):(len(raw_value)-diff)]  # Y_(t-diff)\n",
    "    for i in range(len(test)):\n",
    "        X = test[i, 0:n_lag]\n",
    "        # make forecast\n",
    "        forecast = forecast_comb(model, X, n_batch)\n",
    "        # invert scaling\n",
    "        forecast = invert_scale(scaler, forecast)\n",
    "        # invert differencing\n",
    "        forecast = invert_difference(prev[i], forecast)\n",
    "        # store the forecast\n",
    "        forecasts.append(forecast)\n",
    "    return forecasts"
   ]
  },
  {
   "cell_type": "code",
   "execution_count": 12,
   "metadata": {},
   "outputs": [],
   "source": [
    "# evaluate forcasts\n",
    "def evaluate_forecasts(actual, forecasts):\n",
    "    rmse = np.sqrt(mean_squared_error(actual, forecasts))\n",
    "    mae = mean_absolute_error(actual, forecasts)\n",
    "    mape = mean_absolute_percentage_error(actual, forecasts)*100\n",
    "    return rmse, mae, mape"
   ]
  },
  {
   "cell_type": "markdown",
   "metadata": {},
   "source": [
    "## A Single Trial as Demo"
   ]
  },
  {
   "cell_type": "code",
   "execution_count": 13,
   "metadata": {},
   "outputs": [],
   "source": [
    "# given historical observations (t, t-1, t-2, … t-n+1) forecast t+1(future 1 day)\n",
    "n_lag = 7  # number of lag, use 7 past days\n",
    "n_seq = 1  # predict 1 future days\n",
    "diff = 1 # order of difference\n",
    "train_size = 63  # train set size\n",
    "test_size = 18 # test set size\n",
    "\n",
    "n_batch = 1\n",
    "nb_epoch = 100\n",
    "n_neurons = 1"
   ]
  },
  {
   "cell_type": "code",
   "execution_count": 14,
   "metadata": {},
   "outputs": [],
   "source": [
    "county = \"Los Angeles\""
   ]
  },
  {
   "cell_type": "code",
   "execution_count": 15,
   "metadata": {
    "scrolled": true
   },
   "outputs": [],
   "source": [
    "# prepare data\n",
    "s = extract(df1, county)\n",
    "raw_value = s[-(train_size+test_size+n_lag):]\n",
    "scaler, train, test = prepare_data(raw_value, diff, train_size, test_size, n_lag, n_seq)\n",
    "# fit model\n",
    "model = fit_comb(train, n_lag, n_seq, n_batch, nb_epoch, n_neurons)"
   ]
  },
  {
   "cell_type": "code",
   "execution_count": 16,
   "metadata": {},
   "outputs": [
    {
     "data": {
      "text/plain": [
       "2022-06-10    4483.571429\n",
       "2022-06-11    4458.000000\n",
       "2022-06-12    4442.285714\n",
       "2022-06-13    4282.142857\n",
       "2022-06-14    4128.714286\n",
       "                 ...     \n",
       "2022-09-01    1748.571429\n",
       "2022-09-02    1608.714286\n",
       "2022-09-03    1470.285714\n",
       "2022-09-04    1311.714286\n",
       "2022-09-05     946.000000\n",
       "Length: 88, dtype: float64"
      ]
     },
     "execution_count": 16,
     "metadata": {},
     "output_type": "execute_result"
    }
   ],
   "source": [
    "raw_value = s[-(train_size+test_size+n_lag):]\n",
    "raw_value"
   ]
  },
  {
   "cell_type": "code",
   "execution_count": 17,
   "metadata": {},
   "outputs": [
    {
     "data": {
      "text/plain": [
       "(74.58492135111452, 54.61031793701753, 3.543172459020258)"
      ]
     },
     "execution_count": 17,
     "metadata": {},
     "output_type": "execute_result"
    }
   ],
   "source": [
    "# make forecasts\n",
    "forecasts = make_forecasts(model, n_batch, raw_value, test, test_size, n_lag, n_seq, diff)\n",
    "evaluate_forecasts(raw_value[-test_size:], forecasts)"
   ]
  },
  {
   "cell_type": "code",
   "execution_count": 18,
   "metadata": {},
   "outputs": [
    {
     "data": {
      "image/png": "[encoded data removed]",
      "text/plain": [
       "<Figure size 432x288 with 1 Axes>"
      ]
     },
     "metadata": {
      "needs_background": "light"
     },
     "output_type": "display_data"
    }
   ],
   "source": [
    "truth = raw_value[-test_size:].to_list()\n",
    "plt.plot(truth, color = 'blue', label = \"ground truth\")\n",
    "plt.plot(forecasts, color = 'orange', label = \"prediction\")\n",
    "plt.legend()\n",
    "plt.savefig(\"comb_demo.png\", dpi=600)"
   ]
  },
  {
   "cell_type": "markdown",
   "metadata": {},
   "source": [
    "# Evaluate LSTM Method on All Counties"
   ]
  },
  {
   "cell_type": "code",
   "execution_count": 19,
   "metadata": {},
   "outputs": [],
   "source": [
    "# for each date t\n",
    "    # use [t, t + train_size) as training set\n",
    "    # use [t + train_size, t + train_size + test_size) as testing set\n",
    "    # evaluate by calculating RMSE\n",
    "\n",
    "# holder for metrics:\n",
    "RMSE = []\n",
    "MAE = []\n",
    "MAPE = []\n",
    "trainingTime = []\n",
    "for county in counties:\n",
    "    # cut a data trial from original dataset\n",
    "    # prepare data\n",
    "    s = extract(df1, county)\n",
    "    raw_value = s[-(train_size+test_size+n_lag):]\n",
    "    scaler, train, test = prepare_data(raw_value, diff, train_size, test_size, n_lag, n_seq)\n",
    "    # for each dataset, fit model 5 time, take average    \n",
    "    rmse, mae, mape, training_time = 0, 0, 0, 0\n",
    "    for i in range(5):\n",
    "        tic = time.perf_counter()\n",
    "        model = fit_comb(train, n_lag, n_seq, n_batch, nb_epoch, n_neurons)\n",
    "        toc = time.perf_counter()\n",
    "        # make forecasts\n",
    "        forecasts = make_forecasts(model, n_batch, raw_value, test, test_size, n_lag, n_seq, diff)\n",
    "        temp = evaluate_forecasts(raw_value[-test_size:], forecasts)\n",
    "        rmse += temp[0]\n",
    "        mae += temp[1]\n",
    "        mape += temp[2]\n",
    "        training_time += (toc - tic)\n",
    "    RMSE.append(rmse/5)\n",
    "    MAE.append(mae/5)\n",
    "    MAPE.append(mape/5)\n",
    "    trainingTime.append(training_time/5)"
   ]
  },
  {
   "cell_type": "code",
   "execution_count": 20,
   "metadata": {},
   "outputs": [
    {
     "data": {
      "text/html": [
       "<div>\n",
       "<style scoped>\n",
       "    .dataframe tbody tr th:only-of-type {\n",
       "        vertical-align: middle;\n",
       "    }\n",
       "\n",
       "    .dataframe tbody tr th {\n",
       "        vertical-align: top;\n",
       "    }\n",
       "\n",
       "    .dataframe thead th {\n",
       "        text-align: right;\n",
       "    }\n",
       "</style>\n",
       "<table border=\"1\" class=\"dataframe\">\n",
       "  <thead>\n",
       "    <tr style=\"text-align: right;\">\n",
       "      <th></th>\n",
       "      <th>county</th>\n",
       "      <th>rmse</th>\n",
       "      <th>mae</th>\n",
       "      <th>mape</th>\n",
       "      <th>training time</th>\n",
       "    </tr>\n",
       "  </thead>\n",
       "  <tbody>\n",
       "    <tr>\n",
       "      <th>0</th>\n",
       "      <td>Los Angeles</td>\n",
       "      <td>71.199080</td>\n",
       "      <td>48.676731</td>\n",
       "      <td>3.249719</td>\n",
       "      <td>15.889470</td>\n",
       "    </tr>\n",
       "    <tr>\n",
       "      <th>1</th>\n",
       "      <td>San Diego</td>\n",
       "      <td>24.054506</td>\n",
       "      <td>15.658275</td>\n",
       "      <td>3.493302</td>\n",
       "      <td>14.928890</td>\n",
       "    </tr>\n",
       "    <tr>\n",
       "      <th>2</th>\n",
       "      <td>San Francisco</td>\n",
       "      <td>5.398897</td>\n",
       "      <td>3.835630</td>\n",
       "      <td>3.967490</td>\n",
       "      <td>14.732026</td>\n",
       "    </tr>\n",
       "    <tr>\n",
       "      <th>3</th>\n",
       "      <td>Santa Barbara</td>\n",
       "      <td>4.319714</td>\n",
       "      <td>2.863664</td>\n",
       "      <td>4.087025</td>\n",
       "      <td>16.541464</td>\n",
       "    </tr>\n",
       "    <tr>\n",
       "      <th>4</th>\n",
       "      <td>Fresno</td>\n",
       "      <td>7.459437</td>\n",
       "      <td>4.651550</td>\n",
       "      <td>2.893591</td>\n",
       "      <td>16.856812</td>\n",
       "    </tr>\n",
       "    <tr>\n",
       "      <th>5</th>\n",
       "      <td>Sacramento</td>\n",
       "      <td>12.030466</td>\n",
       "      <td>7.092764</td>\n",
       "      <td>3.752989</td>\n",
       "      <td>14.872025</td>\n",
       "    </tr>\n",
       "    <tr>\n",
       "      <th>6</th>\n",
       "      <td>Ventura</td>\n",
       "      <td>6.019643</td>\n",
       "      <td>3.832741</td>\n",
       "      <td>3.320205</td>\n",
       "      <td>15.383927</td>\n",
       "    </tr>\n",
       "    <tr>\n",
       "      <th>7</th>\n",
       "      <td>Riverside</td>\n",
       "      <td>17.159565</td>\n",
       "      <td>11.208413</td>\n",
       "      <td>3.021557</td>\n",
       "      <td>12.815695</td>\n",
       "    </tr>\n",
       "  </tbody>\n",
       "</table>\n",
       "</div>"
      ],
      "text/plain": [
       "          county       rmse        mae      mape  training time\n",
       "0    Los Angeles  71.199080  48.676731  3.249719      15.889470\n",
       "1      San Diego  24.054506  15.658275  3.493302      14.928890\n",
       "2  San Francisco   5.398897   3.835630  3.967490      14.732026\n",
       "3  Santa Barbara   4.319714   2.863664  4.087025      16.541464\n",
       "4         Fresno   7.459437   4.651550  2.893591      16.856812\n",
       "5     Sacramento  12.030466   7.092764  3.752989      14.872025\n",
       "6        Ventura   6.019643   3.832741  3.320205      15.383927\n",
       "7      Riverside  17.159565  11.208413  3.021557      12.815695"
      ]
     },
     "execution_count": 20,
     "metadata": {},
     "output_type": "execute_result"
    }
   ],
   "source": [
    "Hybrid_evaluate = {'county': counties, 'rmse': RMSE, 'mae': MAE, 'mape': MAPE, \"training time\": trainingTime}\n",
    "Hybrid_evaluate = pd.DataFrame(Hybrid_evaluate)\n",
    "Hybrid_evaluate"
   ]
  }
 ],
 "metadata": {
  "celltoolbar": "Raw Cell Format",
  "kernelspec": {
   "display_name": "Python 3",
   "language": "python",
   "name": "python3"
  },
  "language_info": {
   "codemirror_mode": {
    "name": "ipython",
    "version": 3
   },
   "file_extension": ".py",
   "mimetype": "text/x-python",
   "name": "python",
   "nbconvert_exporter": "python",
   "pygments_lexer": "ipython3",
   "version": "3.8.5"
  }
 },
 "nbformat": 4,
 "nbformat_minor": 4
}
