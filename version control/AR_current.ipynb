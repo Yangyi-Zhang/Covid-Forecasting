{
 "cells": [
  {
   "cell_type": "markdown",
   "metadata": {},
   "source": [
    "# The ARI Model of Time Series\n",
    "- An ARI model using lag number 7 and differenced once\n",
    "- Trained and tested on a 63+18 dataset, step = 7\n",
    "    - one model per trial instead of Walk Forward\n",
    "- Evaluated with average RMSE, MAE, MAPE"
   ]
  },
  {
   "cell_type": "code",
   "execution_count": 1,
   "metadata": {},
   "outputs": [],
   "source": [
    "import pandas as pd\n",
    "import numpy as np\n",
    "import random\n",
    "from statsmodels.tsa.stattools import pacf\n",
    "from matplotlib.pyplot import figure\n",
    "from statsmodels.tsa.arima.model import ARIMA\n",
    "# !pip install scikit-learn==0.24\n",
    "from sklearn.metrics import mean_squared_error, mean_absolute_error, mean_absolute_percentage_error\n",
    "import matplotlib.pyplot as plt\n",
    "from statsmodels.tsa.stattools import adfuller\n",
    "from statsmodels.tsa.stattools import kpss\n",
    "import time"
   ]
  },
  {
   "cell_type": "code",
   "execution_count": 2,
   "metadata": {},
   "outputs": [],
   "source": [
    "import warnings\n",
    "warnings.filterwarnings('ignore')"
   ]
  },
  {
   "cell_type": "code",
   "execution_count": 3,
   "metadata": {},
   "outputs": [
    {
     "data": {
      "text/html": [
       "<div>\n",
       "<style scoped>\n",
       "    .dataframe tbody tr th:only-of-type {\n",
       "        vertical-align: middle;\n",
       "    }\n",
       "\n",
       "    .dataframe tbody tr th {\n",
       "        vertical-align: top;\n",
       "    }\n",
       "\n",
       "    .dataframe thead th {\n",
       "        text-align: right;\n",
       "    }\n",
       "</style>\n",
       "<table border=\"1\" class=\"dataframe\">\n",
       "  <thead>\n",
       "    <tr style=\"text-align: right;\">\n",
       "      <th></th>\n",
       "      <th>date</th>\n",
       "      <th>Los Angeles</th>\n",
       "      <th>San Diego</th>\n",
       "      <th>San Francisco</th>\n",
       "      <th>Santa Barbara</th>\n",
       "      <th>Fresno</th>\n",
       "      <th>Sacramento</th>\n",
       "      <th>Ventura</th>\n",
       "      <th>Riverside</th>\n",
       "    </tr>\n",
       "  </thead>\n",
       "  <tbody>\n",
       "    <tr>\n",
       "      <th>0</th>\n",
       "      <td>2020-02-01</td>\n",
       "      <td>13.0</td>\n",
       "      <td>0.0</td>\n",
       "      <td>1.0</td>\n",
       "      <td>0.0</td>\n",
       "      <td>0.0</td>\n",
       "      <td>0.0</td>\n",
       "      <td>0.0</td>\n",
       "      <td>2.0</td>\n",
       "    </tr>\n",
       "    <tr>\n",
       "      <th>1</th>\n",
       "      <td>2020-02-02</td>\n",
       "      <td>4.0</td>\n",
       "      <td>0.0</td>\n",
       "      <td>0.0</td>\n",
       "      <td>0.0</td>\n",
       "      <td>0.0</td>\n",
       "      <td>0.0</td>\n",
       "      <td>0.0</td>\n",
       "      <td>1.0</td>\n",
       "    </tr>\n",
       "    <tr>\n",
       "      <th>2</th>\n",
       "      <td>2020-02-03</td>\n",
       "      <td>4.0</td>\n",
       "      <td>0.0</td>\n",
       "      <td>0.0</td>\n",
       "      <td>0.0</td>\n",
       "      <td>0.0</td>\n",
       "      <td>0.0</td>\n",
       "      <td>0.0</td>\n",
       "      <td>1.0</td>\n",
       "    </tr>\n",
       "    <tr>\n",
       "      <th>3</th>\n",
       "      <td>2020-02-04</td>\n",
       "      <td>1.0</td>\n",
       "      <td>0.0</td>\n",
       "      <td>0.0</td>\n",
       "      <td>0.0</td>\n",
       "      <td>0.0</td>\n",
       "      <td>0.0</td>\n",
       "      <td>0.0</td>\n",
       "      <td>0.0</td>\n",
       "    </tr>\n",
       "    <tr>\n",
       "      <th>4</th>\n",
       "      <td>2020-02-05</td>\n",
       "      <td>0.0</td>\n",
       "      <td>0.0</td>\n",
       "      <td>0.0</td>\n",
       "      <td>0.0</td>\n",
       "      <td>0.0</td>\n",
       "      <td>0.0</td>\n",
       "      <td>0.0</td>\n",
       "      <td>0.0</td>\n",
       "    </tr>\n",
       "  </tbody>\n",
       "</table>\n",
       "</div>"
      ],
      "text/plain": [
       "         date  Los Angeles  San Diego  San Francisco  Santa Barbara  Fresno  \\\n",
       "0  2020-02-01         13.0        0.0            1.0            0.0     0.0   \n",
       "1  2020-02-02          4.0        0.0            0.0            0.0     0.0   \n",
       "2  2020-02-03          4.0        0.0            0.0            0.0     0.0   \n",
       "3  2020-02-04          1.0        0.0            0.0            0.0     0.0   \n",
       "4  2020-02-05          0.0        0.0            0.0            0.0     0.0   \n",
       "\n",
       "   Sacramento  Ventura  Riverside  \n",
       "0         0.0      0.0        2.0  \n",
       "1         0.0      0.0        1.0  \n",
       "2         0.0      0.0        1.0  \n",
       "3         0.0      0.0        0.0  \n",
       "4         0.0      0.0        0.0  "
      ]
     },
     "execution_count": 3,
     "metadata": {},
     "output_type": "execute_result"
    }
   ],
   "source": [
    "# import data\n",
    "df = pd.read_csv(\"CACases.csv\", index_col = False)\n",
    "df.reset_index(drop=True, inplace=True)\n",
    "df.head()"
   ]
  },
  {
   "cell_type": "code",
   "execution_count": 4,
   "metadata": {},
   "outputs": [],
   "source": [
    "# counties we are interested in\n",
    "counties = [\"Los Angeles\", \"San Diego\", \"San Francisco\", \"Santa Barbara\",\\\n",
    "            \"Fresno\", \"Sacramento\", \"Ventura\", \"Riverside\"]"
   ]
  },
  {
   "cell_type": "markdown",
   "metadata": {},
   "source": [
    "# Data Smoothing\n",
    "- Remove day of week effect by replace $y_t$ with an average of 7 previous days(inclusive)\n",
    "    - Each value is an average of data from all 7 different weekdays, thud day of week effect removed"
   ]
  },
  {
   "cell_type": "code",
   "execution_count": 5,
   "metadata": {},
   "outputs": [],
   "source": [
    "# create a time series of cases, each value is an average of 7 previous days(include the current date)\n",
    "# for each county\n",
    "df1 = df.copy()  # deep copy\n",
    "df1 = df1.iloc[6:]\n",
    "for county in counties:\n",
    "    # holder\n",
    "    temp = []\n",
    "    # take average, starting from 7th day\n",
    "    for i in range(6,len(df)):\n",
    "        # remove day of week effect\n",
    "        ave = np.mean(df[county].iloc[i-6:i+1])  # 6 previous days and the exact date, 7 days' average\n",
    "        temp.append(ave)\n",
    "    df1[county] = temp"
   ]
  },
  {
   "cell_type": "code",
   "execution_count": 6,
   "metadata": {},
   "outputs": [],
   "source": [
    "df1.set_index(\"date\", inplace=True)"
   ]
  },
  {
   "cell_type": "code",
   "execution_count": 7,
   "metadata": {
    "scrolled": true
   },
   "outputs": [
    {
     "data": {
      "image/png": "[encoded data removed]",
      "text/plain": [
       "<Figure size 432x288 with 1 Axes>"
      ]
     },
     "metadata": {
      "needs_background": "light"
     },
     "output_type": "display_data"
    }
   ],
   "source": [
    "df1[\"Ventura\"].plot()\n",
    "plt.show()"
   ]
  },
  {
   "cell_type": "code",
   "execution_count": 8,
   "metadata": {},
   "outputs": [],
   "source": [
    "# input: original dataset, county we want\n",
    "# output: all data, sorted by date, of that county\n",
    "def extract(dataset, county):\n",
    "    # select data only from the input county\n",
    "    temp = dataset.to_dict()[county]\n",
    "    temp = pd.Series(temp)\n",
    "    # reset index\n",
    "    # temp.reset_index(drop=True, inplace=True)\n",
    "    return temp"
   ]
  },
  {
   "cell_type": "markdown",
   "metadata": {},
   "source": [
    "# Differencing"
   ]
  },
  {
   "cell_type": "code",
   "execution_count": 9,
   "metadata": {},
   "outputs": [],
   "source": [
    "# create a differenced series, output as Series\n",
    "# interval: order of differencing, default = 1\n",
    "def difference(dataset, interval=1):\n",
    "    diff = []\n",
    "    for i in range(interval, len(dataset)):\n",
    "        # no need to difference\n",
    "        if (interval == 0):\n",
    "            value = dataset[i]\n",
    "        else:\n",
    "            value = dataset[i] - dataset[i - interval]\n",
    "        diff.append(value)\n",
    "    return pd.Series(diff)\n",
    "# invert differenced value\n",
    "# input: single original, single prediction, interval(default as 1)\n",
    "def invert_difference(history, yhat, interval=1):\n",
    "    if (interval == 0):\n",
    "        return yhat\n",
    "    else:\n",
    "        return yhat + history"
   ]
  },
  {
   "cell_type": "markdown",
   "metadata": {},
   "source": [
    "# Data Rescaling"
   ]
  },
  {
   "cell_type": "code",
   "execution_count": 10,
   "metadata": {},
   "outputs": [],
   "source": [
    "# scale train and test data to [-1, 1]\n",
    "# input: train(np array, train_size*1), test(np array, test_size*1)\n",
    "def scale(train, test):\n",
    "    # find scalers\n",
    "    aveTrain = np.mean(train)\n",
    "    maxTrain = max(train)\n",
    "    minTrain = min(train)\n",
    "    scaler = [aveTrain, maxTrain, minTrain]\n",
    "    # transform train\n",
    "    train = train.reshape(train.shape[0], train.shape[1])\n",
    "    train_scaled = (train - aveTrain)/(maxTrain-minTrain)\n",
    "    # transform test\n",
    "    test = test.reshape(test.shape[0], test.shape[1])\n",
    "    test_scaled = (test - aveTrain)/(maxTrain-minTrain)\n",
    "    return scaler, train_scaled, test_scaled\n",
    "# inverse scaling for a forecasted value\n",
    "# input: scaler, single prediction yhat\n",
    "def invert_scale(scaler, yhat):\n",
    "    inverted = yhat*(scaler[1]-scaler[2]) + scaler[0]\n",
    "    return inverted[0][0]  # output: a number"
   ]
  },
  {
   "cell_type": "markdown",
   "metadata": {},
   "source": [
    "# Data Reshaping"
   ]
  },
  {
   "cell_type": "code",
   "execution_count": 11,
   "metadata": {},
   "outputs": [],
   "source": [
    "# convert to supervised learning\n",
    "def series_to_supervised(data, n_in=1, n_out=1, dropnan=True):\n",
    "    n_vars = 1 if type(data) is list else data.shape[1]\n",
    "    df = pd.DataFrame(data)\n",
    "    cols, names = [], []\n",
    "    # input sequence (t-n, ... t-1)\n",
    "    for i in range(n_in, 0, -1):\n",
    "        cols.append(df.shift(i))\n",
    "        names += [('var%d(t-%d)' % (j+1, i)) for j in range(n_vars)]\n",
    "    # forecast sequence (t, t+1, ... t+n)\n",
    "    for i in range(0, n_out):\n",
    "        cols.append(df.shift(-i))\n",
    "        if i == 0:\n",
    "            names += [('var%d(t)' % (j+1)) for j in range(n_vars)]\n",
    "        else:\n",
    "            names += [('var%d(t+%d)' % (j+1, i)) for j in range(n_vars)]\n",
    "    # put it all together\n",
    "    agg = pd.concat(cols, axis=1)\n",
    "    agg.columns = names\n",
    "    # drop rows with NaN values\n",
    "    if dropnan:\n",
    "        agg.dropna(inplace=True)\n",
    "    return agg  # output: a data frame\n",
    "# transform series into train and test sets for supervised learning\n",
    "def prepare_data(series, diff, train_size, test_size, n_lag, n_seq):\n",
    "    # extract raw values\n",
    "    raw_values = series.values\n",
    "    raw_values = raw_values.reshape(len(raw_values), 1)\n",
    "    # differencing\n",
    "    diff_series = difference(raw_values, diff)\n",
    "    diff_values = diff_series.values\n",
    "    diff_values = diff_values.reshape(len(diff_values), 1)\n",
    "    # split into train & test\n",
    "    train_diff, test_diff = diff_values[:(train_size-diff)], diff_values[(train_size-diff):]\n",
    "    # rescaling\n",
    "    scaler, train_scaled, test_scaled = scale(train_diff, test_diff)\n",
    "    # adjust data type for test_scaled\n",
    "    # test_scaled = [row[0][0] for row in test_scaled]\n",
    "    # convert to supervised\n",
    "    train = [row[0][0] for row in train_scaled]\n",
    "    test = series_to_supervised(test_scaled, n_lag, n_seq).values\n",
    "    return scaler, train, test  # scaler: list, train: list, test: np array"
   ]
  },
  {
   "cell_type": "markdown",
   "metadata": {},
   "source": [
    "## Evaluation with RMSE, MAE, MAPE"
   ]
  },
  {
   "cell_type": "code",
   "execution_count": 12,
   "metadata": {},
   "outputs": [],
   "source": [
    "# evaluate RMSE for each step in forcasting\n",
    "def evaluate_forecasts(truth, forecasts):\n",
    "    rmse = np.sqrt(mean_squared_error(truth, forecasts))\n",
    "    mae = mean_absolute_error(truth, forecasts)\n",
    "    truth = np.array(truth)\n",
    "    forecasts = np.array(forecasts)\n",
    "    mape = mean_absolute_percentage_error(truth, forecasts)*100\n",
    "    return rmse, mae, mape"
   ]
  },
  {
   "cell_type": "code",
   "execution_count": 13,
   "metadata": {},
   "outputs": [],
   "source": [
    "# evaluate the model\n",
    "def make_forecasts(model, raw_value, test, test_size, n_lag, n_seq, diff):\n",
    "    forecasts = []\n",
    "    prev = raw_value[-(test_size+diff):(len(raw_value)-diff)]  # Y_(t-diff)  # (train_size+n_lag-1):-1\n",
    "    for i in range(test_size):\n",
    "        X = test[i, 0:n_lag]  # X_test, will not use y_test\n",
    "        # make forecast\n",
    "        forecast = model.params[0]  # initlialize with coefficient\n",
    "        for j in range(n_lag):\n",
    "            forecast += model.params[j+1] * X[j]  # forecast = a0 + a_i * X_i for i = 1,...,7\n",
    "        # invert scaling\n",
    "        forecast = invert_scale(scaler, forecast)\n",
    "        # invert differencing\n",
    "        forecast = invert_difference(prev[i], forecast, diff)\n",
    "        # store the forecast\n",
    "        forecasts.append(forecast)\n",
    "    return forecasts"
   ]
  },
  {
   "cell_type": "markdown",
   "metadata": {},
   "source": [
    "# Training Model"
   ]
  },
  {
   "cell_type": "markdown",
   "metadata": {},
   "source": [
    "### AutoRegression\n",
    "- assume observations from previous time steps are useful to predict values at latter time steps\n",
    "    - true for Time Series\n",
    "- choose a proper lag\n",
    "    - use lag as variable\n",
    "    - if all lag variables show no correlation with output, then the time series problem could be not predictable\n",
    "    - Use the same lag number for AR, LSTM, and combined, for comparison\n",
    "\n",
    "$$y_t = \\phi_1 y_{t-1} + \\phi_2 y_{t-2} + ... + \\phi_p y_{t-p} + \\epsilon_t$$\n",
    "where $p$ is the lag number, p = 7"
   ]
  },
  {
   "cell_type": "markdown",
   "metadata": {},
   "source": [
    "# A Single Trial as Demo"
   ]
  },
  {
   "cell_type": "code",
   "execution_count": 14,
   "metadata": {},
   "outputs": [],
   "source": [
    "# given historical observations (t, t-1, t-2, … t-n+1) forecast t+1(future 1 day)\n",
    "n_lag = 7  # number of lag, use 7 past days\n",
    "n_seq = 1  # predict 1 future days\n",
    "train_size = 63  # train set size\n",
    "test_size = 18 # test set size"
   ]
  },
  {
   "cell_type": "markdown",
   "metadata": {},
   "source": [
    "# Check Stationarity"
   ]
  },
  {
   "cell_type": "code",
   "execution_count": 15,
   "metadata": {},
   "outputs": [],
   "source": [
    "county = \"Los Angeles\""
   ]
  },
  {
   "cell_type": "code",
   "execution_count": 16,
   "metadata": {},
   "outputs": [
    {
     "data": {
      "image/png": "[encoded data removed]",
      "text/plain": [
       "<Figure size 432x288 with 1 Axes>"
      ]
     },
     "metadata": {
      "needs_background": "light"
     },
     "output_type": "display_data"
    }
   ],
   "source": [
    "# Demo: on Los Angeles\n",
    "s = extract(df1, county)\n",
    "raw_value = s[-(train_size+test_size+n_lag):]\n",
    "raw_value.plot()\n",
    "plt.show()"
   ]
  },
  {
   "cell_type": "code",
   "execution_count": 17,
   "metadata": {},
   "outputs": [
    {
     "name": "stdout",
     "output_type": "stream",
     "text": [
      "mean1=4932.366883, mean2=3138.613636\n",
      "variance1=512416.535619, variance2=1247665.984768\n"
     ]
    }
   ],
   "source": [
    "X = raw_value.values\n",
    "split = int(len(X)/2)\n",
    "X1, X2 = X[0:split], X[split:]\n",
    "mean1, mean2 = X1.mean(), X2.mean()\n",
    "var1, var2 = X1.var(), X2.var()\n",
    "print('mean1=%f, mean2=%f' % (mean1, mean2))\n",
    "print('variance1=%f, variance2=%f' % (var1, var2))"
   ]
  },
  {
   "cell_type": "markdown",
   "metadata": {},
   "source": [
    "## Augmented Dickey-Fuller Test"
   ]
  },
  {
   "cell_type": "markdown",
   "metadata": {},
   "source": [
    "Null Hypothesis: not stationary"
   ]
  },
  {
   "cell_type": "code",
   "execution_count": 18,
   "metadata": {},
   "outputs": [
    {
     "name": "stdout",
     "output_type": "stream",
     "text": [
      "ADF Statistic: 0.460336\n",
      "p-value: 0.983616\n",
      "Critical Values:\n",
      "\t1%: -3.516\n",
      "\t5%: -2.899\n",
      "\t10%: -2.587\n"
     ]
    }
   ],
   "source": [
    "result = adfuller(X)\n",
    "print('ADF Statistic: %f' % result[0])\n",
    "print('p-value: %f' % result[1])\n",
    "print('Critical Values:')\n",
    "for key, value in result[4].items():\n",
    "    print('\\t%s: %.3f' % (key, value))## Augmented Dickey-Fuller Test"
   ]
  },
  {
   "cell_type": "markdown",
   "metadata": {},
   "source": [
    "## Kwiatkowski Phillips Schmidt Shin (KPSS) Test"
   ]
  },
  {
   "cell_type": "markdown",
   "metadata": {},
   "source": [
    "Null Hypothesis: stationary"
   ]
  },
  {
   "cell_type": "code",
   "execution_count": 19,
   "metadata": {},
   "outputs": [
    {
     "name": "stdout",
     "output_type": "stream",
     "text": [
      "KPSS Statistic: 0.494570\n",
      "p-value: 0.042890\n",
      "Critical values:\n",
      "\t10%: 0.347\n",
      "\t5%: 0.463\n",
      "\t2.5%: 0.574\n",
      "\t1%: 0.739\n"
     ]
    }
   ],
   "source": [
    "result_kpss = kpss(X,regression=\"c\")\n",
    "print('KPSS Statistic: %f' %result_kpss[0])\n",
    "print('p-value: %f' %result_kpss[1])\n",
    "print('Critical values:')\n",
    "for key, value in result_kpss[3].items():\n",
    "     print('\\t%s: %.3f' %(key, value))"
   ]
  },
  {
   "cell_type": "markdown",
   "metadata": {},
   "source": [
    "The test statistics is greater than the critical value, reject null hypothesis: the data is non-stationary"
   ]
  },
  {
   "cell_type": "code",
   "execution_count": 20,
   "metadata": {},
   "outputs": [],
   "source": [
    "# diff = X  \n",
    "diff = difference(X, 1)"
   ]
  },
  {
   "cell_type": "code",
   "execution_count": 21,
   "metadata": {},
   "outputs": [
    {
     "name": "stdout",
     "output_type": "stream",
     "text": [
      "ADF Statistic: -1.515846\n",
      "p-value: 0.525658\n",
      "Critical Values:\n",
      "\t1%: -3.516\n",
      "\t5%: -2.899\n",
      "\t10%: -2.587\n",
      "KPSS Statistic: 0.416665\n",
      "p-value: 0.069972\n",
      "Critical values:\n",
      "\t10%: 0.347\n",
      "\t5%: 0.463\n",
      "\t2.5%: 0.574\n",
      "\t1%: 0.739\n"
     ]
    }
   ],
   "source": [
    "## ADF\n",
    "result = adfuller(diff)\n",
    "print('ADF Statistic: %f' % result[0])\n",
    "print('p-value: %f' % result[1])\n",
    "print('Critical Values:')\n",
    "for key, value in result[4].items():\n",
    "    print('\\t%s: %.3f' % (key, value))\n",
    "## KPSS\n",
    "result_kpss = kpss(diff,regression=\"c\")\n",
    "print('KPSS Statistic: %f' %result_kpss[0])\n",
    "print('p-value: %f' %result_kpss[1])\n",
    "print('Critical values:')\n",
    "for key, value in result_kpss[3].items():\n",
    "     print('\\t%s: %.3f' %(key, value))"
   ]
  },
  {
   "cell_type": "code",
   "execution_count": 22,
   "metadata": {},
   "outputs": [
    {
     "data": {
      "image/png": "[encoded data removed]",
      "text/plain": [
       "<Figure size 432x288 with 1 Axes>"
      ]
     },
     "metadata": {
      "needs_background": "light"
     },
     "output_type": "display_data"
    }
   ],
   "source": [
    "plt.plot(diff)\n",
    "plt.show()"
   ]
  },
  {
   "cell_type": "markdown",
   "metadata": {},
   "source": [
    "# A Single Trial as Demo"
   ]
  },
  {
   "cell_type": "code",
   "execution_count": 23,
   "metadata": {},
   "outputs": [],
   "source": [
    "# prepare data\n",
    "county = \"Los Angeles\"\n",
    "diff = 1\n",
    "s = extract(df1, county)\n",
    "raw_value = s[-(train_size+test_size+n_lag):]\n",
    "scaler, train, test = prepare_data(raw_value, diff, train_size, test_size, n_lag, n_seq)"
   ]
  },
  {
   "cell_type": "code",
   "execution_count": 24,
   "metadata": {},
   "outputs": [],
   "source": [
    "model = ARIMA(train, order = (n_lag,0,0), trend = 'c')  # AR, I, MA\n",
    "model = model.fit()"
   ]
  },
  {
   "cell_type": "code",
   "execution_count": 25,
   "metadata": {},
   "outputs": [
    {
     "data": {
      "text/html": [
       "<table class=\"simpletable\">\n",
       "<caption>SARIMAX Results</caption>\n",
       "<tr>\n",
       "  <th>Dep. Variable:</th>           <td>y</td>        <th>  No. Observations:  </th>   <td>62</td>   \n",
       "</tr>\n",
       "<tr>\n",
       "  <th>Model:</th>            <td>ARIMA(7, 0, 0)</td>  <th>  Log Likelihood     </th> <td>49.105</td> \n",
       "</tr>\n",
       "<tr>\n",
       "  <th>Date:</th>            <td>Fri, 09 Sep 2022</td> <th>  AIC                </th> <td>-80.210</td>\n",
       "</tr>\n",
       "<tr>\n",
       "  <th>Time:</th>                <td>13:40:14</td>     <th>  BIC                </th> <td>-61.066</td>\n",
       "</tr>\n",
       "<tr>\n",
       "  <th>Sample:</th>                  <td>0</td>        <th>  HQIC               </th> <td>-72.693</td>\n",
       "</tr>\n",
       "<tr>\n",
       "  <th></th>                       <td> - 62</td>      <th>                     </th>    <td> </td>   \n",
       "</tr>\n",
       "<tr>\n",
       "  <th>Covariance Type:</th>        <td>opg</td>       <th>                     </th>    <td> </td>   \n",
       "</tr>\n",
       "</table>\n",
       "<table class=\"simpletable\">\n",
       "<tr>\n",
       "     <td></td>       <th>coef</th>     <th>std err</th>      <th>z</th>      <th>P>|z|</th>  <th>[0.025</th>    <th>0.975]</th>  \n",
       "</tr>\n",
       "<tr>\n",
       "  <th>const</th>  <td>   -0.0022</td> <td>    0.046</td> <td>   -0.048</td> <td> 0.961</td> <td>   -0.092</td> <td>    0.087</td>\n",
       "</tr>\n",
       "<tr>\n",
       "  <th>ar.L1</th>  <td>    0.1594</td> <td>    0.061</td> <td>    2.622</td> <td> 0.009</td> <td>    0.040</td> <td>    0.279</td>\n",
       "</tr>\n",
       "<tr>\n",
       "  <th>ar.L2</th>  <td>    0.1760</td> <td>    0.106</td> <td>    1.665</td> <td> 0.096</td> <td>   -0.031</td> <td>    0.383</td>\n",
       "</tr>\n",
       "<tr>\n",
       "  <th>ar.L3</th>  <td>    0.1648</td> <td>    0.145</td> <td>    1.136</td> <td> 0.256</td> <td>   -0.120</td> <td>    0.449</td>\n",
       "</tr>\n",
       "<tr>\n",
       "  <th>ar.L4</th>  <td>    0.1089</td> <td>    0.161</td> <td>    0.676</td> <td> 0.499</td> <td>   -0.207</td> <td>    0.425</td>\n",
       "</tr>\n",
       "<tr>\n",
       "  <th>ar.L5</th>  <td>    0.0919</td> <td>    0.198</td> <td>    0.463</td> <td> 0.643</td> <td>   -0.297</td> <td>    0.481</td>\n",
       "</tr>\n",
       "<tr>\n",
       "  <th>ar.L6</th>  <td>    0.1749</td> <td>    0.152</td> <td>    1.149</td> <td> 0.251</td> <td>   -0.124</td> <td>    0.473</td>\n",
       "</tr>\n",
       "<tr>\n",
       "  <th>ar.L7</th>  <td>   -0.3418</td> <td>    0.073</td> <td>   -4.698</td> <td> 0.000</td> <td>   -0.484</td> <td>   -0.199</td>\n",
       "</tr>\n",
       "<tr>\n",
       "  <th>sigma2</th> <td>    0.0118</td> <td>    0.001</td> <td>    8.000</td> <td> 0.000</td> <td>    0.009</td> <td>    0.015</td>\n",
       "</tr>\n",
       "</table>\n",
       "<table class=\"simpletable\">\n",
       "<tr>\n",
       "  <th>Ljung-Box (L1) (Q):</th>     <td>0.45</td> <th>  Jarque-Bera (JB):  </th> <td>45.25</td>\n",
       "</tr>\n",
       "<tr>\n",
       "  <th>Prob(Q):</th>                <td>0.50</td> <th>  Prob(JB):          </th> <td>0.00</td> \n",
       "</tr>\n",
       "<tr>\n",
       "  <th>Heteroskedasticity (H):</th> <td>0.74</td> <th>  Skew:              </th> <td>-0.12</td>\n",
       "</tr>\n",
       "<tr>\n",
       "  <th>Prob(H) (two-sided):</th>    <td>0.50</td> <th>  Kurtosis:          </th> <td>7.18</td> \n",
       "</tr>\n",
       "</table><br/><br/>Warnings:<br/>[1] Covariance matrix calculated using the outer product of gradients (complex-step)."
      ],
      "text/plain": [
       "<class 'statsmodels.iolib.summary.Summary'>\n",
       "\"\"\"\n",
       "                               SARIMAX Results                                \n",
       "==============================================================================\n",
       "Dep. Variable:                      y   No. Observations:                   62\n",
       "Model:                 ARIMA(7, 0, 0)   Log Likelihood                  49.105\n",
       "Date:                Fri, 09 Sep 2022   AIC                            -80.210\n",
       "Time:                        13:40:14   BIC                            -61.066\n",
       "Sample:                             0   HQIC                           -72.693\n",
       "                                 - 62                                         \n",
       "Covariance Type:                  opg                                         \n",
       "==============================================================================\n",
       "                 coef    std err          z      P>|z|      [0.025      0.975]\n",
       "------------------------------------------------------------------------------\n",
       "const         -0.0022      0.046     -0.048      0.961      -0.092       0.087\n",
       "ar.L1          0.1594      0.061      2.622      0.009       0.040       0.279\n",
       "ar.L2          0.1760      0.106      1.665      0.096      -0.031       0.383\n",
       "ar.L3          0.1648      0.145      1.136      0.256      -0.120       0.449\n",
       "ar.L4          0.1089      0.161      0.676      0.499      -0.207       0.425\n",
       "ar.L5          0.0919      0.198      0.463      0.643      -0.297       0.481\n",
       "ar.L6          0.1749      0.152      1.149      0.251      -0.124       0.473\n",
       "ar.L7         -0.3418      0.073     -4.698      0.000      -0.484      -0.199\n",
       "sigma2         0.0118      0.001      8.000      0.000       0.009       0.015\n",
       "===================================================================================\n",
       "Ljung-Box (L1) (Q):                   0.45   Jarque-Bera (JB):                45.25\n",
       "Prob(Q):                              0.50   Prob(JB):                         0.00\n",
       "Heteroskedasticity (H):               0.74   Skew:                            -0.12\n",
       "Prob(H) (two-sided):                  0.50   Kurtosis:                         7.18\n",
       "===================================================================================\n",
       "\n",
       "Warnings:\n",
       "[1] Covariance matrix calculated using the outer product of gradients (complex-step).\n",
       "\"\"\""
      ]
     },
     "execution_count": 25,
     "metadata": {},
     "output_type": "execute_result"
    }
   ],
   "source": [
    "model.summary()  # check parameters and compare to the AR component of Hybrid model"
   ]
  },
  {
   "cell_type": "markdown",
   "metadata": {},
   "source": [
    "## Model Evaluation"
   ]
  },
  {
   "cell_type": "code",
   "execution_count": 26,
   "metadata": {},
   "outputs": [
    {
     "name": "stdout",
     "output_type": "stream",
     "text": [
      "Test RMSE: 93.0592601770515\n",
      "\n",
      "Test MAE: 59.25268819505941\n",
      "\n",
      "Test MAPE: 4.221229646394697\n"
     ]
    }
   ],
   "source": [
    "# make predictions\n",
    "predictions = make_forecasts(model, raw_value, test, test_size, n_lag, n_seq, diff)\n",
    "# compare and evaluate\n",
    "rmse, mae, mape = evaluate_forecasts(raw_value[-test_size:], predictions)\n",
    "print(\"Test RMSE: {}\\n\".format(rmse))\n",
    "print(\"Test MAE: {}\\n\".format(mae))\n",
    "print(\"Test MAPE: {}\".format(mape))"
   ]
  },
  {
   "cell_type": "code",
   "execution_count": 27,
   "metadata": {},
   "outputs": [
    {
     "data": {
      "image/png": "[encoded data removed]",
      "text/plain": [
       "<Figure size 432x288 with 1 Axes>"
      ]
     },
     "metadata": {
      "needs_background": "light"
     },
     "output_type": "display_data"
    }
   ],
   "source": [
    "plt.plot(raw_value[-test_size:].values, color = 'blue', label = \"ground truth\")\n",
    "plt.plot(predictions, color = 'orange', label = \"prediction\")\n",
    "plt.legend()\n",
    "plt.ylim(top = 2750)\n",
    "# plt.show()\n",
    "plt.savefig(\"AR_demo.png\", dpi=600)"
   ]
  },
  {
   "cell_type": "code",
   "execution_count": 28,
   "metadata": {},
   "outputs": [
    {
     "data": {
      "image/png": "[encoded data removed]",
      "text/plain": [
       "<Figure size 432x288 with 1 Axes>"
      ]
     },
     "metadata": {
      "needs_background": "light"
     },
     "output_type": "display_data"
    }
   ],
   "source": [
    "original_train = raw_value[:train_size]\n",
    "x = range(0,len(original_train))\n",
    "plt.plot(x,original_train, label = \"original training data\")\n",
    "plt.legend()\n",
    "plt.show()"
   ]
  },
  {
   "cell_type": "markdown",
   "metadata": {},
   "source": [
    "Notice: absence of a periodic trend. As a result, including more data does not always give us a better result\n",
    "- how does the algorithm work on different training and testing sets, given the same size of each?"
   ]
  },
  {
   "cell_type": "markdown",
   "metadata": {},
   "source": [
    "# Evaluate AR Method on All Counties"
   ]
  },
  {
   "cell_type": "code",
   "execution_count": 29,
   "metadata": {},
   "outputs": [],
   "source": [
    "diff = 1\n",
    "RMSE = []\n",
    "MAE = []\n",
    "MAPE = []\n",
    "trainingTime = []\n",
    "for county in counties:\n",
    "    s = extract(df1, county)\n",
    "    raw_value = s[-(train_size+test_size+n_lag):]\n",
    "    scaler, train, test = prepare_data(raw_value, diff, train_size, test_size, n_lag, n_seq)\n",
    "    tic = time.perf_counter()\n",
    "    model = ARIMA(train, order = (n_lag,0,0), trend = 'c')  # AR, I, MA\n",
    "    model = model.fit()\n",
    "    toc = time.perf_counter()\n",
    "    # make predictions\n",
    "    predictions = make_forecasts(model, raw_value, test, test_size, n_lag, n_seq, diff)\n",
    "    # compare and evaluate\n",
    "    rmse, mae, mape = evaluate_forecasts(raw_value[-test_size:], predictions)\n",
    "    RMSE.append(rmse)\n",
    "    MAE.append(mae)\n",
    "    MAPE.append(mape)\n",
    "    trainingTime.append(toc-tic)"
   ]
  },
  {
   "cell_type": "code",
   "execution_count": 30,
   "metadata": {
    "scrolled": true
   },
   "outputs": [
    {
     "data": {
      "text/html": [
       "<div>\n",
       "<style scoped>\n",
       "    .dataframe tbody tr th:only-of-type {\n",
       "        vertical-align: middle;\n",
       "    }\n",
       "\n",
       "    .dataframe tbody tr th {\n",
       "        vertical-align: top;\n",
       "    }\n",
       "\n",
       "    .dataframe thead th {\n",
       "        text-align: right;\n",
       "    }\n",
       "</style>\n",
       "<table border=\"1\" class=\"dataframe\">\n",
       "  <thead>\n",
       "    <tr style=\"text-align: right;\">\n",
       "      <th></th>\n",
       "      <th>county</th>\n",
       "      <th>rmse</th>\n",
       "      <th>mae</th>\n",
       "      <th>mape</th>\n",
       "      <th>training time</th>\n",
       "    </tr>\n",
       "  </thead>\n",
       "  <tbody>\n",
       "    <tr>\n",
       "      <th>0</th>\n",
       "      <td>Los Angeles</td>\n",
       "      <td>93.059260</td>\n",
       "      <td>59.252688</td>\n",
       "      <td>4.221230</td>\n",
       "      <td>0.138752</td>\n",
       "    </tr>\n",
       "    <tr>\n",
       "      <th>1</th>\n",
       "      <td>San Diego</td>\n",
       "      <td>26.829189</td>\n",
       "      <td>16.290531</td>\n",
       "      <td>3.748680</td>\n",
       "      <td>0.122783</td>\n",
       "    </tr>\n",
       "    <tr>\n",
       "      <th>2</th>\n",
       "      <td>San Francisco</td>\n",
       "      <td>6.393149</td>\n",
       "      <td>5.119430</td>\n",
       "      <td>5.251342</td>\n",
       "      <td>0.136453</td>\n",
       "    </tr>\n",
       "    <tr>\n",
       "      <th>3</th>\n",
       "      <td>Santa Barbara</td>\n",
       "      <td>4.719182</td>\n",
       "      <td>3.346302</td>\n",
       "      <td>4.730895</td>\n",
       "      <td>0.095491</td>\n",
       "    </tr>\n",
       "    <tr>\n",
       "      <th>4</th>\n",
       "      <td>Fresno</td>\n",
       "      <td>8.686648</td>\n",
       "      <td>5.422573</td>\n",
       "      <td>3.475220</td>\n",
       "      <td>0.102727</td>\n",
       "    </tr>\n",
       "    <tr>\n",
       "      <th>5</th>\n",
       "      <td>Sacramento</td>\n",
       "      <td>14.178774</td>\n",
       "      <td>9.026248</td>\n",
       "      <td>4.684605</td>\n",
       "      <td>0.168285</td>\n",
       "    </tr>\n",
       "    <tr>\n",
       "      <th>6</th>\n",
       "      <td>Ventura</td>\n",
       "      <td>7.403845</td>\n",
       "      <td>5.029056</td>\n",
       "      <td>4.143153</td>\n",
       "      <td>0.138060</td>\n",
       "    </tr>\n",
       "    <tr>\n",
       "      <th>7</th>\n",
       "      <td>Riverside</td>\n",
       "      <td>23.652928</td>\n",
       "      <td>18.045714</td>\n",
       "      <td>4.752057</td>\n",
       "      <td>0.181892</td>\n",
       "    </tr>\n",
       "  </tbody>\n",
       "</table>\n",
       "</div>"
      ],
      "text/plain": [
       "          county       rmse        mae      mape  training time\n",
       "0    Los Angeles  93.059260  59.252688  4.221230       0.138752\n",
       "1      San Diego  26.829189  16.290531  3.748680       0.122783\n",
       "2  San Francisco   6.393149   5.119430  5.251342       0.136453\n",
       "3  Santa Barbara   4.719182   3.346302  4.730895       0.095491\n",
       "4         Fresno   8.686648   5.422573  3.475220       0.102727\n",
       "5     Sacramento  14.178774   9.026248  4.684605       0.168285\n",
       "6        Ventura   7.403845   5.029056  4.143153       0.138060\n",
       "7      Riverside  23.652928  18.045714  4.752057       0.181892"
      ]
     },
     "execution_count": 30,
     "metadata": {},
     "output_type": "execute_result"
    }
   ],
   "source": [
    "# mape counted in %\n",
    "AR_evaluate = {'county': counties, 'rmse': RMSE, 'mae': MAE, 'mape': MAPE, \"training time\": trainingTime}\n",
    "AR_evaluate = pd.DataFrame(AR_evaluate)\n",
    "AR_evaluate"
   ]
  }
 ],
 "metadata": {
  "kernelspec": {
   "display_name": "Python 3",
   "language": "python",
   "name": "python3"
  },
  "language_info": {
   "codemirror_mode": {
    "name": "ipython",
    "version": 3
   },
   "file_extension": ".py",
   "mimetype": "text/x-python",
   "name": "python",
   "nbconvert_exporter": "python",
   "pygments_lexer": "ipython3",
   "version": "3.8.5"
  }
 },
 "nbformat": 4,
 "nbformat_minor": 4
}
