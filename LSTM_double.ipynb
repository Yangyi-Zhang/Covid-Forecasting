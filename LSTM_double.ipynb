{
 "cells": [
  {
   "cell_type": "markdown",
   "metadata": {},
   "source": [
    "# The LSTM Model"
   ]
  },
  {
   "cell_type": "markdown",
   "metadata": {},
   "source": [
    "Version Control:\n",
    "- Last Trial\n",
    "- 8 CA counties\n",
    "- Averaged on 5 runs\n",
    "- LSTM with 2 layers"
   ]
  },
  {
   "cell_type": "code",
   "execution_count": 1,
   "metadata": {},
   "outputs": [],
   "source": [
    "import pandas as pd\n",
    "import numpy as np\n",
    "from sklearn.preprocessing import MinMaxScaler\n",
    "from sklearn.metrics import mean_squared_error, mean_absolute_error, mean_absolute_percentage_error\n",
    "import matplotlib.pyplot as plt\n",
    "import tensorflow as tf\n",
    "from tensorflow import keras\n",
    "from tensorflow.keras import layers\n",
    "import time"
   ]
  },
  {
   "cell_type": "code",
   "execution_count": 2,
   "metadata": {},
   "outputs": [
    {
     "data": {
      "text/html": [
       "<div>\n",
       "<style scoped>\n",
       "    .dataframe tbody tr th:only-of-type {\n",
       "        vertical-align: middle;\n",
       "    }\n",
       "\n",
       "    .dataframe tbody tr th {\n",
       "        vertical-align: top;\n",
       "    }\n",
       "\n",
       "    .dataframe thead th {\n",
       "        text-align: right;\n",
       "    }\n",
       "</style>\n",
       "<table border=\"1\" class=\"dataframe\">\n",
       "  <thead>\n",
       "    <tr style=\"text-align: right;\">\n",
       "      <th></th>\n",
       "      <th>date</th>\n",
       "      <th>Los Angeles</th>\n",
       "      <th>San Diego</th>\n",
       "      <th>San Francisco</th>\n",
       "      <th>Santa Barbara</th>\n",
       "      <th>Fresno</th>\n",
       "      <th>Sacramento</th>\n",
       "      <th>Ventura</th>\n",
       "      <th>Riverside</th>\n",
       "    </tr>\n",
       "  </thead>\n",
       "  <tbody>\n",
       "    <tr>\n",
       "      <th>0</th>\n",
       "      <td>2020-02-01</td>\n",
       "      <td>13.0</td>\n",
       "      <td>0.0</td>\n",
       "      <td>1.0</td>\n",
       "      <td>0.0</td>\n",
       "      <td>0.0</td>\n",
       "      <td>0.0</td>\n",
       "      <td>0.0</td>\n",
       "      <td>2.0</td>\n",
       "    </tr>\n",
       "    <tr>\n",
       "      <th>1</th>\n",
       "      <td>2020-02-02</td>\n",
       "      <td>4.0</td>\n",
       "      <td>0.0</td>\n",
       "      <td>0.0</td>\n",
       "      <td>0.0</td>\n",
       "      <td>0.0</td>\n",
       "      <td>0.0</td>\n",
       "      <td>0.0</td>\n",
       "      <td>1.0</td>\n",
       "    </tr>\n",
       "    <tr>\n",
       "      <th>2</th>\n",
       "      <td>2020-02-03</td>\n",
       "      <td>4.0</td>\n",
       "      <td>0.0</td>\n",
       "      <td>0.0</td>\n",
       "      <td>0.0</td>\n",
       "      <td>0.0</td>\n",
       "      <td>0.0</td>\n",
       "      <td>0.0</td>\n",
       "      <td>1.0</td>\n",
       "    </tr>\n",
       "    <tr>\n",
       "      <th>3</th>\n",
       "      <td>2020-02-04</td>\n",
       "      <td>1.0</td>\n",
       "      <td>0.0</td>\n",
       "      <td>0.0</td>\n",
       "      <td>0.0</td>\n",
       "      <td>0.0</td>\n",
       "      <td>0.0</td>\n",
       "      <td>0.0</td>\n",
       "      <td>0.0</td>\n",
       "    </tr>\n",
       "    <tr>\n",
       "      <th>4</th>\n",
       "      <td>2020-02-05</td>\n",
       "      <td>0.0</td>\n",
       "      <td>0.0</td>\n",
       "      <td>0.0</td>\n",
       "      <td>0.0</td>\n",
       "      <td>0.0</td>\n",
       "      <td>0.0</td>\n",
       "      <td>0.0</td>\n",
       "      <td>0.0</td>\n",
       "    </tr>\n",
       "  </tbody>\n",
       "</table>\n",
       "</div>"
      ],
      "text/plain": [
       "         date  Los Angeles  San Diego  San Francisco  Santa Barbara  Fresno  \\\n",
       "0  2020-02-01         13.0        0.0            1.0            0.0     0.0   \n",
       "1  2020-02-02          4.0        0.0            0.0            0.0     0.0   \n",
       "2  2020-02-03          4.0        0.0            0.0            0.0     0.0   \n",
       "3  2020-02-04          1.0        0.0            0.0            0.0     0.0   \n",
       "4  2020-02-05          0.0        0.0            0.0            0.0     0.0   \n",
       "\n",
       "   Sacramento  Ventura  Riverside  \n",
       "0         0.0      0.0        2.0  \n",
       "1         0.0      0.0        1.0  \n",
       "2         0.0      0.0        1.0  \n",
       "3         0.0      0.0        0.0  \n",
       "4         0.0      0.0        0.0  "
      ]
     },
     "execution_count": 2,
     "metadata": {},
     "output_type": "execute_result"
    }
   ],
   "source": [
    "# import data\n",
    "df = pd.read_csv(\"CACases.csv\", index_col = False)\n",
    "df.reset_index(drop=True, inplace=True)\n",
    "df.head()"
   ]
  },
  {
   "cell_type": "code",
   "execution_count": 3,
   "metadata": {},
   "outputs": [],
   "source": [
    "# counties we are interested in\n",
    "counties = [\"Los Angeles\", \"San Diego\", \"San Francisco\", \"Santa Barbara\",\\\n",
    "            \"Fresno\", \"Sacramento\", \"Ventura\", \"Riverside\"]"
   ]
  },
  {
   "cell_type": "markdown",
   "metadata": {},
   "source": [
    "# Data Smoothing\n",
    "- Remove day of week effect by replace $y_t$ with an average of 7 previous days(inclusive)\n",
    "    - Each value is an average of data from all 7 different weekdays, thud day of week effect removed"
   ]
  },
  {
   "cell_type": "code",
   "execution_count": 4,
   "metadata": {},
   "outputs": [],
   "source": [
    "# create a time series of cases, each value is an average of 7 previous days(include the current date)\n",
    "# for each county\n",
    "df1 = df.copy()  # deep copy\n",
    "df1 = df1.iloc[6:]\n",
    "for county in counties:\n",
    "    # holder\n",
    "    temp = []\n",
    "    # take average, starting from 7th day\n",
    "    for i in range(6,len(df)):\n",
    "        # remove day of week effect\n",
    "        ave = np.mean(df[county].iloc[i-6:i+1])  # 6 previous days and the exact date, 7 days' average\n",
    "        temp.append(ave)\n",
    "    df1[county] = temp"
   ]
  },
  {
   "cell_type": "code",
   "execution_count": 5,
   "metadata": {},
   "outputs": [],
   "source": [
    "df1.set_index(\"date\", inplace=True)"
   ]
  },
  {
   "cell_type": "code",
   "execution_count": 6,
   "metadata": {},
   "outputs": [],
   "source": [
    "# input: original dataset, county we want\n",
    "# output: all data, sorted by date, of that county\n",
    "def extract(dataset, county):\n",
    "    # select data only from the input county\n",
    "    temp = dataset.to_dict()[county]\n",
    "    temp = pd.Series(temp)\n",
    "    # reset index\n",
    "    # temp.reset_index(drop=True, inplace=True)\n",
    "    return temp"
   ]
  },
  {
   "cell_type": "markdown",
   "metadata": {},
   "source": [
    "# Data Preprocessing\n",
    "## Differencing\n",
    "- Differencing of time series in discrete time\n",
    "- transformation of series to a new time series wehre values are the difference between consecutive values of previous series\n",
    "- help stablizing the mean of time series by removing trend"
   ]
  },
  {
   "cell_type": "code",
   "execution_count": 7,
   "metadata": {},
   "outputs": [],
   "source": [
    "# create a differenced series, output as Series\n",
    "# interval: order of differencing, default = 1\n",
    "def difference(dataset, interval=1):\n",
    "    diff = []\n",
    "    for i in range(interval, len(dataset)):\n",
    "        # no need to difference\n",
    "        if (interval == 0):\n",
    "            value = dataset[i]\n",
    "        else:\n",
    "            value = dataset[i] - dataset[i - interval]\n",
    "        diff.append(value)\n",
    "    return pd.Series(diff)\n",
    "# invert differenced value\n",
    "# input: single original, single prediction, interval(default as 1)\n",
    "def invert_difference(history, yhat, interval=1):\n",
    "    if (interval == 0):\n",
    "        return yhat\n",
    "    else:\n",
    "        return yhat + history"
   ]
  },
  {
   "cell_type": "markdown",
   "metadata": {},
   "source": [
    "## Scaling\n",
    "- Scale the data to [-1,1]"
   ]
  },
  {
   "cell_type": "code",
   "execution_count": 8,
   "metadata": {},
   "outputs": [],
   "source": [
    "# scale train and test data to [-1, 1]\n",
    "# input: train(np array, train_size*1), test(np array, test_size*1)\n",
    "def scale(train, test):\n",
    "    # find scalers\n",
    "    aveTrain = np.mean(train)\n",
    "    maxTrain = max(train)\n",
    "    minTrain = min(train)\n",
    "    scaler = [aveTrain, maxTrain, minTrain]\n",
    "    # transform train\n",
    "    train = train.reshape(train.shape[0], train.shape[1])\n",
    "    train_scaled = (train - aveTrain)/(maxTrain-minTrain)\n",
    "    # transform test\n",
    "    test = test.reshape(test.shape[0], test.shape[1])\n",
    "    test_scaled = (test - aveTrain)/(maxTrain-minTrain)\n",
    "    return scaler, train_scaled, test_scaled\n",
    "# inverse scaling for a forecasted value\n",
    "# input: scaler, single prediction yhat\n",
    "def invert_scale(scaler, yhat):\n",
    "    inverted = yhat*(scaler[1]-scaler[2]) + scaler[0]\n",
    "    return inverted[0][0]  # output: a number"
   ]
  },
  {
   "cell_type": "markdown",
   "metadata": {},
   "source": [
    "## Reshaping"
   ]
  },
  {
   "cell_type": "code",
   "execution_count": 9,
   "metadata": {},
   "outputs": [],
   "source": [
    "# convert to supervised learning\n",
    "def series_to_supervised(data, n_in=1, n_out=1, dropnan=True):\n",
    "    n_vars = 1 if type(data) is list else data.shape[1]\n",
    "    df = pd.DataFrame(data)\n",
    "    cols, names = [], []\n",
    "    # input sequence (t-n, ... t-1)\n",
    "    for i in range(n_in, 0, -1):\n",
    "        cols.append(df.shift(i))\n",
    "        names += [('var%d(t-%d)' % (j+1, i)) for j in range(n_vars)]\n",
    "    # forecast sequence (t, t+1, ... t+n)\n",
    "    for i in range(0, n_out):\n",
    "        cols.append(df.shift(-i))\n",
    "        if i == 0:\n",
    "            names += [('var%d(t)' % (j+1)) for j in range(n_vars)]\n",
    "        else:\n",
    "            names += [('var%d(t+%d)' % (j+1, i)) for j in range(n_vars)]\n",
    "    # put it all together\n",
    "    agg = pd.concat(cols, axis=1)\n",
    "    agg.columns = names\n",
    "    # drop rows with NaN values\n",
    "    if dropnan:\n",
    "        agg.dropna(inplace=True)\n",
    "    return agg\n",
    "# transform series into train and test sets for supervised learning\n",
    "def prepare_data(series, diff, train_size, test_size, n_lag, n_seq):\n",
    "    # extract raw values\n",
    "    raw_values = series.values\n",
    "    raw_values = raw_values.reshape(len(raw_values), 1)\n",
    "    # differencing\n",
    "    diff_series = difference(raw_values, diff)\n",
    "    diff_values = diff_series.values\n",
    "    diff_values = diff_values.reshape(len(diff_values), 1)\n",
    "    # split into train & test\n",
    "    train_diff, test_diff = diff_values[:(train_size-diff)], diff_values[(train_size-diff):]\n",
    "    # rescaling\n",
    "    scaler, train_scaled, test_scaled = scale(train_diff, test_diff)\n",
    "    # adjust data type for train_scaled, test_scaled\n",
    "    train_scaled = [row[0][0] for row in train_scaled]\n",
    "    test_scaled = [row[0][0] for row in test_scaled]\n",
    "    # convert to supervised\n",
    "    train = series_to_supervised(train_scaled, n_lag, n_seq).values\n",
    "    test = series_to_supervised(test_scaled, n_lag, n_seq).values\n",
    "    return scaler, train, test  # scaler: list of np array, train: np array, test: np array"
   ]
  },
  {
   "cell_type": "markdown",
   "metadata": {},
   "source": [
    "# Long Short-Term Memory(LSTM)\n",
    "- The Long Short-Term Memory network or LSTM is a recurrent neural network that can learn and forecast long sequences.\n",
    "- Walk forward model validation: a prediction will be made for a time step, then the real value used for model to predict next time step\n",
    "    - stimulates the reality\n",
    "- RMSE will be used: punishes large errors and results in a score that is in the same units as the forecast data"
   ]
  },
  {
   "cell_type": "code",
   "execution_count": 10,
   "metadata": {},
   "outputs": [],
   "source": [
    "# fit an LSTM network to training data\n",
    "def fit_lstm(train, n_lag, n_seq, n_batch, nb_epoch, n_neurons):\n",
    "    # reshape training into [samples, timesteps, features]\n",
    "    X, y = train[:, 0:n_lag], train[:, n_lag:]\n",
    "    X = X.reshape(X.shape[0], 1, X.shape[1])\n",
    "    # design network\n",
    "    model = keras.Sequential()\n",
    "    # two layers of lstm\n",
    "    model.add(layers.LSTM(n_neurons, return_sequences=True, \n",
    "                          batch_input_shape=(n_batch, X.shape[1], X.shape[2]), stateful=True))\n",
    "    model.add(layers.LSTM(n_neurons, batch_input_shape=(n_batch, X.shape[2], X.shape[2]), stateful=True))\n",
    "    model.add(layers.Dense(y.shape[1]))\n",
    "    model.compile(loss='mean_squared_error', optimizer='adam')\n",
    "    # fit network\n",
    "    for i in range(nb_epoch):\n",
    "        model.fit(X, y, epochs=1, batch_size=n_batch, verbose=0, shuffle=False)\n",
    "        model.reset_states()\n",
    "    return model"
   ]
  },
  {
   "cell_type": "markdown",
   "metadata": {},
   "source": [
    "# Prediction and Evaluation"
   ]
  },
  {
   "cell_type": "code",
   "execution_count": 11,
   "metadata": {},
   "outputs": [],
   "source": [
    "# make one forecast with an LSTM\n",
    "def forecast_lstm(model, X, n_batch):\n",
    "    # reshape input pattern to [samples, timesteps, features]\n",
    "    X = X.reshape(1, 1, len(X))\n",
    "    # make forecast\n",
    "    forecast = model.predict(X, batch_size=n_batch)\n",
    "    # convert to array\n",
    "    return [x for x in forecast[0, :]][0]\n",
    "# evaluate the model\n",
    "def make_forecasts(model, n_batch, raw_value, test, test_size, n_lag, n_seq, diff):\n",
    "    forecasts = []\n",
    "    prev = raw_value[-(test_size+diff):(len(raw_value)-diff)]  # Y_(t-diff)\n",
    "    for i in range(len(test)):\n",
    "        X = test[i, 0:n_lag]\n",
    "        # make forecast\n",
    "        forecast = forecast_lstm(model, X, n_batch)\n",
    "        # invert scaling\n",
    "        forecast = invert_scale(scaler, forecast)\n",
    "        # invert differencing\n",
    "        forecast = invert_difference(prev[i], forecast)\n",
    "        # store the forecast\n",
    "        forecasts.append(forecast)\n",
    "    return forecasts"
   ]
  },
  {
   "cell_type": "code",
   "execution_count": 12,
   "metadata": {},
   "outputs": [],
   "source": [
    "# evaluate forcasts\n",
    "def evaluate_forecasts(actual, forecasts):\n",
    "    rmse = np.sqrt(mean_squared_error(actual, forecasts))\n",
    "    mape = mean_absolute_percentage_error(actual, forecasts)*100\n",
    "    return rmse, mape"
   ]
  },
  {
   "cell_type": "markdown",
   "metadata": {},
   "source": [
    "## A Single Trial as Demo"
   ]
  },
  {
   "cell_type": "code",
   "execution_count": 13,
   "metadata": {},
   "outputs": [],
   "source": [
    "# given historical observations (t, t-1, t-2, … t-n+1) forecast t+1(future 1 day)\n",
    "n_lag = 7  # number of lag, use 7 past days\n",
    "n_seq = 1  # predict 1 future days\n",
    "diff = 1 # order of difference\n",
    "train_size = 63  # train set size\n",
    "test_size = 18 # test set size\n",
    "\n",
    "n_batch = 1\n",
    "nb_epoch = 100\n",
    "n_neurons = 1"
   ]
  },
  {
   "cell_type": "code",
   "execution_count": 14,
   "metadata": {},
   "outputs": [],
   "source": [
    "county = \"Los Angeles\""
   ]
  },
  {
   "cell_type": "code",
   "execution_count": 15,
   "metadata": {
    "scrolled": true
   },
   "outputs": [],
   "source": [
    "# prepare data\n",
    "s = extract(df1, county)\n",
    "raw_value = s[-(train_size+test_size+n_lag):]\n",
    "scaler, train, test = prepare_data(raw_value, diff, train_size, test_size, n_lag, n_seq)"
   ]
  },
  {
   "cell_type": "code",
   "execution_count": 16,
   "metadata": {},
   "outputs": [
    {
     "data": {
      "text/plain": [
       "(73.84037863737015, 3.34883424264508)"
      ]
     },
     "execution_count": 16,
     "metadata": {},
     "output_type": "execute_result"
    }
   ],
   "source": [
    "# fit model\n",
    "model = fit_lstm(train, n_lag, n_seq, n_batch, nb_epoch, n_neurons)\n",
    "# make forecasts\n",
    "forecasts = make_forecasts(model, n_batch, raw_value, test, test_size, n_lag, n_seq, diff)\n",
    "evaluate_forecasts(raw_value[-test_size:], forecasts)"
   ]
  },
  {
   "cell_type": "code",
   "execution_count": 17,
   "metadata": {},
   "outputs": [
    {
     "data": {
      "image/png": "[encoded data removed]",
      "text/plain": [
       "<Figure size 432x288 with 1 Axes>"
      ]
     },
     "metadata": {
      "needs_background": "light"
     },
     "output_type": "display_data"
    }
   ],
   "source": [
    "truth = raw_value[-test_size:].to_list()\n",
    "plt.plot(truth, color = 'blue', label = \"ground truth\")\n",
    "plt.plot(forecasts, color = 'orange', label = \"prediction\")\n",
    "plt.legend()\n",
    "plt.savefig(\"LSTM_demo.png\", dpi=600)"
   ]
  },
  {
   "cell_type": "markdown",
   "metadata": {},
   "source": [
    "# Evaluate LSTM Method on All Counties, LAST Trial"
   ]
  },
  {
   "cell_type": "code",
   "execution_count": 18,
   "metadata": {},
   "outputs": [],
   "source": [
    "# for each date t\n",
    "    # use [t, t + train_size) as training set\n",
    "    # use [t + train_size, t + train_size + test_size) as testing set\n",
    "    # evaluate by calculating RMSE\n",
    "\n",
    "# holder for metrics:\n",
    "RMSE = []\n",
    "MAPE = []\n",
    "trainingTime = []\n",
    "for county in counties:\n",
    "    # cut a data trial from original dataset\n",
    "    # prepare data\n",
    "    s = extract(df1, county)\n",
    "    raw_value = s[-(train_size+test_size+n_lag):]\n",
    "    scaler, train, test = prepare_data(raw_value, diff, train_size, test_size, n_lag, n_seq)\n",
    "    # for each dataset, fit model 5 time, take average    \n",
    "    rmse, mape, training_time = 0, 0, 0\n",
    "    for i in range(5):\n",
    "        tic = time.perf_counter()\n",
    "        model = fit_lstm(train, n_lag, n_seq, n_batch, nb_epoch, n_neurons)\n",
    "        toc = time.perf_counter()\n",
    "        # make forecasts\n",
    "        forecasts = make_forecasts(model, n_batch, raw_value, test, test_size, n_lag, n_seq, diff)\n",
    "        temp = evaluate_forecasts(raw_value[-test_size:], forecasts)\n",
    "        rmse += temp[0]\n",
    "        mape += temp[1]\n",
    "        training_time += (toc - tic)\n",
    "    RMSE.append(rmse/5)\n",
    "    MAPE.append(mape/5)\n",
    "    trainingTime.append(training_time/5)"
   ]
  },
  {
   "cell_type": "code",
   "execution_count": 19,
   "metadata": {},
   "outputs": [
    {
     "data": {
      "text/html": [
       "<div>\n",
       "<style scoped>\n",
       "    .dataframe tbody tr th:only-of-type {\n",
       "        vertical-align: middle;\n",
       "    }\n",
       "\n",
       "    .dataframe tbody tr th {\n",
       "        vertical-align: top;\n",
       "    }\n",
       "\n",
       "    .dataframe thead th {\n",
       "        text-align: right;\n",
       "    }\n",
       "</style>\n",
       "<table border=\"1\" class=\"dataframe\">\n",
       "  <thead>\n",
       "    <tr style=\"text-align: right;\">\n",
       "      <th></th>\n",
       "      <th>county</th>\n",
       "      <th>rmse</th>\n",
       "      <th>mape</th>\n",
       "      <th>training time</th>\n",
       "    </tr>\n",
       "  </thead>\n",
       "  <tbody>\n",
       "    <tr>\n",
       "      <th>0</th>\n",
       "      <td>Los Angeles</td>\n",
       "      <td>77.261208</td>\n",
       "      <td>3.600514</td>\n",
       "      <td>14.059959</td>\n",
       "    </tr>\n",
       "    <tr>\n",
       "      <th>1</th>\n",
       "      <td>San Diego</td>\n",
       "      <td>23.526237</td>\n",
       "      <td>3.328526</td>\n",
       "      <td>14.223563</td>\n",
       "    </tr>\n",
       "    <tr>\n",
       "      <th>2</th>\n",
       "      <td>San Francisco</td>\n",
       "      <td>5.654433</td>\n",
       "      <td>4.570256</td>\n",
       "      <td>14.513732</td>\n",
       "    </tr>\n",
       "    <tr>\n",
       "      <th>3</th>\n",
       "      <td>Santa Barbara</td>\n",
       "      <td>4.598177</td>\n",
       "      <td>4.382971</td>\n",
       "      <td>14.137422</td>\n",
       "    </tr>\n",
       "    <tr>\n",
       "      <th>4</th>\n",
       "      <td>Fresno</td>\n",
       "      <td>7.574384</td>\n",
       "      <td>2.978149</td>\n",
       "      <td>14.096151</td>\n",
       "    </tr>\n",
       "    <tr>\n",
       "      <th>5</th>\n",
       "      <td>Sacramento</td>\n",
       "      <td>11.877995</td>\n",
       "      <td>3.736734</td>\n",
       "      <td>14.063610</td>\n",
       "    </tr>\n",
       "    <tr>\n",
       "      <th>6</th>\n",
       "      <td>Ventura</td>\n",
       "      <td>6.269123</td>\n",
       "      <td>3.499463</td>\n",
       "      <td>13.916514</td>\n",
       "    </tr>\n",
       "    <tr>\n",
       "      <th>7</th>\n",
       "      <td>Riverside</td>\n",
       "      <td>17.634946</td>\n",
       "      <td>3.158211</td>\n",
       "      <td>15.257855</td>\n",
       "    </tr>\n",
       "  </tbody>\n",
       "</table>\n",
       "</div>"
      ],
      "text/plain": [
       "          county       rmse      mape  training time\n",
       "0    Los Angeles  77.261208  3.600514      14.059959\n",
       "1      San Diego  23.526237  3.328526      14.223563\n",
       "2  San Francisco   5.654433  4.570256      14.513732\n",
       "3  Santa Barbara   4.598177  4.382971      14.137422\n",
       "4         Fresno   7.574384  2.978149      14.096151\n",
       "5     Sacramento  11.877995  3.736734      14.063610\n",
       "6        Ventura   6.269123  3.499463      13.916514\n",
       "7      Riverside  17.634946  3.158211      15.257855"
      ]
     },
     "execution_count": 19,
     "metadata": {},
     "output_type": "execute_result"
    }
   ],
   "source": [
    "LSTM_evaluate = {'county': counties, 'rmse': RMSE, 'mape': MAPE, \"training time\": trainingTime}\n",
    "LSTM_evaluate = pd.DataFrame(LSTM_evaluate)\n",
    "LSTM_evaluate"
   ]
  },
  {
   "cell_type": "markdown",
   "metadata": {},
   "source": [
    "# Perform on All Counties, All Trials"
   ]
  },
  {
   "cell_type": "code",
   "execution_count": 20,
   "metadata": {},
   "outputs": [],
   "source": [
    "# given historical observations (t, t-1, t-2, … t-n+1) forecast t+1(future 1 day)\n",
    "n_lag = 7  # number of lag, use 7 past days\n",
    "n_seq = 1  # predict 1 future days\n",
    "diff = 1 # order of difference\n",
    "train_size = 63  # train set size\n",
    "test_size = 18 # test set size\n",
    "\n",
    "n_step = 7  # step size\n",
    "\n",
    "n_batch = 1\n",
    "nb_epoch = 100\n",
    "n_neurons = 1"
   ]
  },
  {
   "cell_type": "code",
   "execution_count": 21,
   "metadata": {},
   "outputs": [
    {
     "name": "stdout",
     "output_type": "stream",
     "text": [
      "Los Angeles\n",
      "San Diego\n",
      "San Francisco\n",
      "Santa Barbara\n",
      "Fresno\n",
      "Sacramento\n",
      "Ventura\n",
      "Riverside\n"
     ]
    }
   ],
   "source": [
    "# holder for rmse:\n",
    "RMSE = []\n",
    "MAPE = []\n",
    "\n",
    "for county in counties:\n",
    "    s = extract(df1, county)\n",
    "    temp_RMSE = []\n",
    "    temp_MAPE = []\n",
    "    for j in range(0, len(df1)-(train_size+test_size+n_lag)+1, n_step):\n",
    "        # prepare data\n",
    "        raw_value = s[j:j+(train_size+test_size+n_lag)]\n",
    "        \n",
    "        # for double layer lstm\n",
    "        scaler, train, test = prepare_data(raw_value, diff, train_size, test_size, n_lag, n_seq)\n",
    "        model = fit_lstm(train, n_lag, n_seq, n_batch, nb_epoch, n_neurons)\n",
    "        forecasts = make_forecasts(model, n_batch, raw_value, test, test_size, n_lag, n_seq, diff)\n",
    "        rmse_LSTM, mape_LSTM = evaluate_forecasts(raw_value[-test_size:], forecasts)\n",
    "\n",
    "        \n",
    "        temp_RMSE.append(rmse_LSTM)\n",
    "        temp_MAPE.append(mape_LSTM)\n",
    "    \n",
    "    RMSE.append(temp_RMSE)\n",
    "    MAPE.append(temp_MAPE)\n",
    "    print(county)"
   ]
  },
  {
   "cell_type": "code",
   "execution_count": 22,
   "metadata": {},
   "outputs": [],
   "source": [
    "for i in range(len(counties)):\n",
    "    county = counties[i]\n",
    "    temp_RMSE = RMSE[i]\n",
    "    temp_MAPE = MAPE[i]\n",
    "    \n",
    "    curr = {\"rmse\": temp_RMSE, \"mape\": temp_MAPE}\n",
    "    curr = pd.DataFrame(curr)\n",
    "    curr.to_csv(county+\"_double_lstm.csv\", index = False)"
   ]
  },
  {
   "cell_type": "code",
   "execution_count": 23,
   "metadata": {},
   "outputs": [
    {
     "data": {
      "text/html": [
       "<div>\n",
       "<style scoped>\n",
       "    .dataframe tbody tr th:only-of-type {\n",
       "        vertical-align: middle;\n",
       "    }\n",
       "\n",
       "    .dataframe tbody tr th {\n",
       "        vertical-align: top;\n",
       "    }\n",
       "\n",
       "    .dataframe thead th {\n",
       "        text-align: right;\n",
       "    }\n",
       "</style>\n",
       "<table border=\"1\" class=\"dataframe\">\n",
       "  <thead>\n",
       "    <tr style=\"text-align: right;\">\n",
       "      <th></th>\n",
       "      <th>rmse</th>\n",
       "      <th>mape</th>\n",
       "    </tr>\n",
       "  </thead>\n",
       "  <tbody>\n",
       "    <tr>\n",
       "      <th>0</th>\n",
       "      <td>5.363593</td>\n",
       "      <td>3.595288</td>\n",
       "    </tr>\n",
       "    <tr>\n",
       "      <th>1</th>\n",
       "      <td>4.571429</td>\n",
       "      <td>3.761020</td>\n",
       "    </tr>\n",
       "    <tr>\n",
       "      <th>2</th>\n",
       "      <td>4.007896</td>\n",
       "      <td>3.153136</td>\n",
       "    </tr>\n",
       "    <tr>\n",
       "      <th>3</th>\n",
       "      <td>3.642373</td>\n",
       "      <td>2.534952</td>\n",
       "    </tr>\n",
       "    <tr>\n",
       "      <th>4</th>\n",
       "      <td>14.418149</td>\n",
       "      <td>4.505698</td>\n",
       "    </tr>\n",
       "    <tr>\n",
       "      <th>...</th>\n",
       "      <td>...</td>\n",
       "      <td>...</td>\n",
       "    </tr>\n",
       "    <tr>\n",
       "      <th>118</th>\n",
       "      <td>45.231747</td>\n",
       "      <td>4.761389</td>\n",
       "    </tr>\n",
       "    <tr>\n",
       "      <th>119</th>\n",
       "      <td>50.811029</td>\n",
       "      <td>6.355832</td>\n",
       "    </tr>\n",
       "    <tr>\n",
       "      <th>120</th>\n",
       "      <td>17.946225</td>\n",
       "      <td>2.224520</td>\n",
       "    </tr>\n",
       "    <tr>\n",
       "      <th>121</th>\n",
       "      <td>16.130812</td>\n",
       "      <td>2.372370</td>\n",
       "    </tr>\n",
       "    <tr>\n",
       "      <th>122</th>\n",
       "      <td>18.194649</td>\n",
       "      <td>3.275202</td>\n",
       "    </tr>\n",
       "  </tbody>\n",
       "</table>\n",
       "<p>123 rows × 2 columns</p>\n",
       "</div>"
      ],
      "text/plain": [
       "          rmse      mape\n",
       "0     5.363593  3.595288\n",
       "1     4.571429  3.761020\n",
       "2     4.007896  3.153136\n",
       "3     3.642373  2.534952\n",
       "4    14.418149  4.505698\n",
       "..         ...       ...\n",
       "118  45.231747  4.761389\n",
       "119  50.811029  6.355832\n",
       "120  17.946225  2.224520\n",
       "121  16.130812  2.372370\n",
       "122  18.194649  3.275202\n",
       "\n",
       "[123 rows x 2 columns]"
      ]
     },
     "execution_count": 23,
     "metadata": {},
     "output_type": "execute_result"
    }
   ],
   "source": [
    "curr"
   ]
  },
  {
   "cell_type": "code",
   "execution_count": 24,
   "metadata": {},
   "outputs": [],
   "source": [
    "ave_rmse = []\n",
    "ave_mape = []\n",
    "for i in range(len(counties)):\n",
    "    county = counties[i]\n",
    "    temp_RMSE = RMSE[i]\n",
    "    temp_MAPE = MAPE[i]\n",
    "    \n",
    "    ave_rmse.append(np.mean(temp_RMSE))\n",
    "    ave_mape.append(np.mean(temp_MAPE))\n",
    "\n",
    "LSTM_db = {\"county\": counties, \"rmse\": ave_rmse, \"mape\": ave_mape}\n",
    "LSTM_db = pd.DataFrame(LSTM_db)"
   ]
  },
  {
   "cell_type": "code",
   "execution_count": 25,
   "metadata": {},
   "outputs": [
    {
     "data": {
      "text/html": [
       "<div>\n",
       "<style scoped>\n",
       "    .dataframe tbody tr th:only-of-type {\n",
       "        vertical-align: middle;\n",
       "    }\n",
       "\n",
       "    .dataframe tbody tr th {\n",
       "        vertical-align: top;\n",
       "    }\n",
       "\n",
       "    .dataframe thead th {\n",
       "        text-align: right;\n",
       "    }\n",
       "</style>\n",
       "<table border=\"1\" class=\"dataframe\">\n",
       "  <thead>\n",
       "    <tr style=\"text-align: right;\">\n",
       "      <th></th>\n",
       "      <th>county</th>\n",
       "      <th>rmse</th>\n",
       "      <th>mape</th>\n",
       "    </tr>\n",
       "  </thead>\n",
       "  <tbody>\n",
       "    <tr>\n",
       "      <th>0</th>\n",
       "      <td>Los Angeles</td>\n",
       "      <td>235.204429</td>\n",
       "      <td>6.072866</td>\n",
       "    </tr>\n",
       "    <tr>\n",
       "      <th>1</th>\n",
       "      <td>San Diego</td>\n",
       "      <td>66.179431</td>\n",
       "      <td>5.249325</td>\n",
       "    </tr>\n",
       "    <tr>\n",
       "      <th>2</th>\n",
       "      <td>San Francisco</td>\n",
       "      <td>12.286740</td>\n",
       "      <td>5.647462</td>\n",
       "    </tr>\n",
       "    <tr>\n",
       "      <th>3</th>\n",
       "      <td>Santa Barbara</td>\n",
       "      <td>8.023189</td>\n",
       "      <td>7.345327</td>\n",
       "    </tr>\n",
       "    <tr>\n",
       "      <th>4</th>\n",
       "      <td>Fresno</td>\n",
       "      <td>18.044344</td>\n",
       "      <td>7.100145</td>\n",
       "    </tr>\n",
       "    <tr>\n",
       "      <th>5</th>\n",
       "      <td>Sacramento</td>\n",
       "      <td>21.873333</td>\n",
       "      <td>4.985715</td>\n",
       "    </tr>\n",
       "    <tr>\n",
       "      <th>6</th>\n",
       "      <td>Ventura</td>\n",
       "      <td>16.962288</td>\n",
       "      <td>6.839934</td>\n",
       "    </tr>\n",
       "    <tr>\n",
       "      <th>7</th>\n",
       "      <td>Riverside</td>\n",
       "      <td>47.462991</td>\n",
       "      <td>6.403141</td>\n",
       "    </tr>\n",
       "  </tbody>\n",
       "</table>\n",
       "</div>"
      ],
      "text/plain": [
       "          county        rmse      mape\n",
       "0    Los Angeles  235.204429  6.072866\n",
       "1      San Diego   66.179431  5.249325\n",
       "2  San Francisco   12.286740  5.647462\n",
       "3  Santa Barbara    8.023189  7.345327\n",
       "4         Fresno   18.044344  7.100145\n",
       "5     Sacramento   21.873333  4.985715\n",
       "6        Ventura   16.962288  6.839934\n",
       "7      Riverside   47.462991  6.403141"
      ]
     },
     "execution_count": 25,
     "metadata": {},
     "output_type": "execute_result"
    }
   ],
   "source": [
    "LSTM_db"
   ]
  }
 ],
 "metadata": {
  "celltoolbar": "Raw Cell Format",
  "kernelspec": {
   "display_name": "Python 3",
   "language": "python",
   "name": "python3"
  },
  "language_info": {
   "codemirror_mode": {
    "name": "ipython",
    "version": 3
   },
   "file_extension": ".py",
   "mimetype": "text/x-python",
   "name": "python",
   "nbconvert_exporter": "python",
   "pygments_lexer": "ipython3",
   "version": "3.8.5"
  }
 },
 "nbformat": 4,
 "nbformat_minor": 4
}
