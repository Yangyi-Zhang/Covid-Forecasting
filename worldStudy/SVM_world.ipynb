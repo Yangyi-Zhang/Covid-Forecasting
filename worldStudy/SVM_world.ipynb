{
 "cells": [
  {
   "cell_type": "markdown",
   "metadata": {},
   "source": [
    "# The SVM Model"
   ]
  },
  {
   "cell_type": "code",
   "execution_count": 1,
   "metadata": {},
   "outputs": [],
   "source": [
    "import pandas as pd\n",
    "import numpy as np\n",
    "import random\n",
    "from statsmodels.tsa.stattools import pacf\n",
    "from matplotlib.pyplot import figure\n",
    "# !pip install scikit-learn==0.24\n",
    "from sklearn.metrics import mean_squared_error, mean_absolute_error, mean_absolute_percentage_error\n",
    "import matplotlib.pyplot as plt\n",
    "from sklearn import svm\n",
    "from sklearn.preprocessing import MinMaxScaler\n",
    "import tensorflow as tf\n",
    "from tensorflow import keras\n",
    "from tensorflow.keras import layers\n",
    "import tensorflow_lattice as tfl\n",
    "import matplotlib.ticker as ticker\n",
    "import time"
   ]
  },
  {
   "cell_type": "code",
   "execution_count": 2,
   "metadata": {},
   "outputs": [],
   "source": [
    "import warnings\n",
    "warnings.filterwarnings('ignore')"
   ]
  },
  {
   "cell_type": "code",
   "execution_count": 3,
   "metadata": {},
   "outputs": [
    {
     "data": {
      "text/html": [
       "<div>\n",
       "<style scoped>\n",
       "    .dataframe tbody tr th:only-of-type {\n",
       "        vertical-align: middle;\n",
       "    }\n",
       "\n",
       "    .dataframe tbody tr th {\n",
       "        vertical-align: top;\n",
       "    }\n",
       "\n",
       "    .dataframe thead th {\n",
       "        text-align: right;\n",
       "    }\n",
       "</style>\n",
       "<table border=\"1\" class=\"dataframe\">\n",
       "  <thead>\n",
       "    <tr style=\"text-align: right;\">\n",
       "      <th></th>\n",
       "      <th>date</th>\n",
       "      <th>Japan</th>\n",
       "      <th>Canada</th>\n",
       "      <th>Brazil</th>\n",
       "      <th>Argentina</th>\n",
       "      <th>Singapore</th>\n",
       "      <th>Italy</th>\n",
       "      <th>The United Kingdom</th>\n",
       "    </tr>\n",
       "  </thead>\n",
       "  <tbody>\n",
       "    <tr>\n",
       "      <th>0</th>\n",
       "      <td>2020-02-01</td>\n",
       "      <td>1</td>\n",
       "      <td>1</td>\n",
       "      <td>0</td>\n",
       "      <td>0</td>\n",
       "      <td>3</td>\n",
       "      <td>0</td>\n",
       "      <td>1</td>\n",
       "    </tr>\n",
       "    <tr>\n",
       "      <th>1</th>\n",
       "      <td>2020-02-02</td>\n",
       "      <td>2</td>\n",
       "      <td>0</td>\n",
       "      <td>0</td>\n",
       "      <td>0</td>\n",
       "      <td>2</td>\n",
       "      <td>0</td>\n",
       "      <td>0</td>\n",
       "    </tr>\n",
       "    <tr>\n",
       "      <th>2</th>\n",
       "      <td>2020-02-03</td>\n",
       "      <td>5</td>\n",
       "      <td>0</td>\n",
       "      <td>0</td>\n",
       "      <td>0</td>\n",
       "      <td>0</td>\n",
       "      <td>0</td>\n",
       "      <td>0</td>\n",
       "    </tr>\n",
       "    <tr>\n",
       "      <th>3</th>\n",
       "      <td>2020-02-04</td>\n",
       "      <td>0</td>\n",
       "      <td>4</td>\n",
       "      <td>0</td>\n",
       "      <td>0</td>\n",
       "      <td>0</td>\n",
       "      <td>0</td>\n",
       "      <td>1</td>\n",
       "    </tr>\n",
       "    <tr>\n",
       "      <th>4</th>\n",
       "      <td>2020-02-05</td>\n",
       "      <td>3</td>\n",
       "      <td>1</td>\n",
       "      <td>0</td>\n",
       "      <td>0</td>\n",
       "      <td>6</td>\n",
       "      <td>0</td>\n",
       "      <td>18</td>\n",
       "    </tr>\n",
       "    <tr>\n",
       "      <th>...</th>\n",
       "      <td>...</td>\n",
       "      <td>...</td>\n",
       "      <td>...</td>\n",
       "      <td>...</td>\n",
       "      <td>...</td>\n",
       "      <td>...</td>\n",
       "      <td>...</td>\n",
       "      <td>...</td>\n",
       "    </tr>\n",
       "    <tr>\n",
       "      <th>943</th>\n",
       "      <td>2022-09-01</td>\n",
       "      <td>167340</td>\n",
       "      <td>0</td>\n",
       "      <td>16806</td>\n",
       "      <td>0</td>\n",
       "      <td>2154</td>\n",
       "      <td>21814</td>\n",
       "      <td>5225</td>\n",
       "    </tr>\n",
       "    <tr>\n",
       "      <th>944</th>\n",
       "      <td>2022-09-02</td>\n",
       "      <td>153313</td>\n",
       "      <td>0</td>\n",
       "      <td>15842</td>\n",
       "      <td>0</td>\n",
       "      <td>2044</td>\n",
       "      <td>20498</td>\n",
       "      <td>4616</td>\n",
       "    </tr>\n",
       "    <tr>\n",
       "      <th>945</th>\n",
       "      <td>2022-09-03</td>\n",
       "      <td>135425</td>\n",
       "      <td>21303</td>\n",
       "      <td>14821</td>\n",
       "      <td>0</td>\n",
       "      <td>1948</td>\n",
       "      <td>19158</td>\n",
       "      <td>4350</td>\n",
       "    </tr>\n",
       "    <tr>\n",
       "      <th>946</th>\n",
       "      <td>2022-09-04</td>\n",
       "      <td>117130</td>\n",
       "      <td>0</td>\n",
       "      <td>11471</td>\n",
       "      <td>11636</td>\n",
       "      <td>1549</td>\n",
       "      <td>17660</td>\n",
       "      <td>3808</td>\n",
       "    </tr>\n",
       "    <tr>\n",
       "      <th>947</th>\n",
       "      <td>2022-09-05</td>\n",
       "      <td>105010</td>\n",
       "      <td>0</td>\n",
       "      <td>11722</td>\n",
       "      <td>0</td>\n",
       "      <td>1309</td>\n",
       "      <td>13196</td>\n",
       "      <td>3417</td>\n",
       "    </tr>\n",
       "  </tbody>\n",
       "</table>\n",
       "<p>948 rows × 8 columns</p>\n",
       "</div>"
      ],
      "text/plain": [
       "           date   Japan  Canada  Brazil  Argentina  Singapore  Italy  \\\n",
       "0    2020-02-01       1       1       0          0          3      0   \n",
       "1    2020-02-02       2       0       0          0          2      0   \n",
       "2    2020-02-03       5       0       0          0          0      0   \n",
       "3    2020-02-04       0       4       0          0          0      0   \n",
       "4    2020-02-05       3       1       0          0          6      0   \n",
       "..          ...     ...     ...     ...        ...        ...    ...   \n",
       "943  2022-09-01  167340       0   16806          0       2154  21814   \n",
       "944  2022-09-02  153313       0   15842          0       2044  20498   \n",
       "945  2022-09-03  135425   21303   14821          0       1948  19158   \n",
       "946  2022-09-04  117130       0   11471      11636       1549  17660   \n",
       "947  2022-09-05  105010       0   11722          0       1309  13196   \n",
       "\n",
       "     The United Kingdom  \n",
       "0                     1  \n",
       "1                     0  \n",
       "2                     0  \n",
       "3                     1  \n",
       "4                    18  \n",
       "..                  ...  \n",
       "943                5225  \n",
       "944                4616  \n",
       "945                4350  \n",
       "946                3808  \n",
       "947                3417  \n",
       "\n",
       "[948 rows x 8 columns]"
      ]
     },
     "execution_count": 3,
     "metadata": {},
     "output_type": "execute_result"
    }
   ],
   "source": [
    "# import data\n",
    "df = pd.read_csv(\"WorldCases.csv\", index_col = False)\n",
    "df.reset_index(drop=True, inplace=True)\n",
    "# countries we are interested in\n",
    "countries = [\"Japan\", \"Canada\", \"Brazil\", \"Argentina\", \"Singapore\", \"Italy\", \"The United Kingdom\"]\n",
    "df1 = df[countries]\n",
    "df1.insert(0, \"date\", df[\"date\"])\n",
    "df = df1\n",
    "df"
   ]
  },
  {
   "cell_type": "markdown",
   "metadata": {},
   "source": [
    "# Data Smoothing\n",
    "- Remove day of week effect by replace $y_t$ with an average of 7 previous days(inclusive)\n",
    "    - Each value is an average of data from all 7 different weekdays, thud day of week effect removed"
   ]
  },
  {
   "cell_type": "code",
   "execution_count": 4,
   "metadata": {},
   "outputs": [],
   "source": [
    "# create a time series of cases, each value is an average of 7 previous days(include the current date)\n",
    "# for each country\n",
    "df1 = df.copy()  # deep copy\n",
    "df1 = df1.iloc[6:]\n",
    "for country in countries:\n",
    "    # holder\n",
    "    temp = []\n",
    "    # take average, starting from 7th day\n",
    "    for i in range(6,len(df)):\n",
    "        # remove day of week effect\n",
    "        ave = np.mean(df[country].iloc[i-6:i+1])  # 6 previous days and the exact date, 7 days' average\n",
    "        temp.append(ave)\n",
    "    df1[country] = temp\n",
    "df1.set_index(\"date\", inplace=True)"
   ]
  },
  {
   "cell_type": "code",
   "execution_count": 5,
   "metadata": {},
   "outputs": [],
   "source": [
    "# input: original dataset, country we want\n",
    "# output: all data, sorted by date, of that country\n",
    "def extract(dataset, country):\n",
    "    # select data only from the input country\n",
    "    temp = dataset.to_dict()[country]\n",
    "    temp = pd.Series(temp)\n",
    "    # reset index\n",
    "    # temp.reset_index(drop=True, inplace=True)\n",
    "    return temp"
   ]
  },
  {
   "cell_type": "markdown",
   "metadata": {},
   "source": [
    "# Data Preprocessing\n",
    "## Differencing\n",
    "- Differencing of time series in discrete time\n",
    "- transformation of series to a new time series wehre values are the difference between consecutive values of previous series\n",
    "- help stablizing the mean of time series by removing trend"
   ]
  },
  {
   "cell_type": "code",
   "execution_count": 6,
   "metadata": {},
   "outputs": [],
   "source": [
    "# create a differenced series, output as Series\n",
    "# interval: order of differencing, default = 1\n",
    "def difference(dataset, interval=1):\n",
    "    diff = []\n",
    "    for i in range(interval, len(dataset)):\n",
    "        # no need to difference\n",
    "        if (interval == 0):\n",
    "            value = dataset[i]\n",
    "        else:\n",
    "            value = dataset[i] - dataset[i - interval]\n",
    "        diff.append(value)\n",
    "    return pd.Series(diff)\n",
    "# invert differenced value\n",
    "# input: single original, single prediction, interval(default as 1)\n",
    "def invert_difference(history, yhat, interval=1):\n",
    "    if (interval == 0):\n",
    "        return yhat\n",
    "    else:\n",
    "        return yhat + history"
   ]
  },
  {
   "cell_type": "markdown",
   "metadata": {},
   "source": [
    "## Scaling\n",
    "- Scale the data to [-1,1]"
   ]
  },
  {
   "cell_type": "code",
   "execution_count": 7,
   "metadata": {},
   "outputs": [],
   "source": [
    "# scale train and test data to [-1, 1]\n",
    "# input: train(np array, train_size*1), test(np array, test_size*1)\n",
    "def scale(train, test):\n",
    "    # find scalers\n",
    "    aveTrain = np.mean(train)\n",
    "    maxTrain = max(train)\n",
    "    minTrain = min(train)\n",
    "    scaler = [aveTrain, maxTrain, minTrain]\n",
    "    # transform train\n",
    "    train = train.reshape(train.shape[0], train.shape[1])\n",
    "    train_scaled = (train - aveTrain)/(maxTrain-minTrain)\n",
    "    # transform test\n",
    "    test = test.reshape(test.shape[0], test.shape[1])\n",
    "    test_scaled = (test - aveTrain)/(maxTrain-minTrain)\n",
    "    return scaler, train_scaled, test_scaled\n",
    "# inverse scaling for a forecasted value\n",
    "# input: scaler, single prediction yhat\n",
    "def invert_scale(scaler, yhat):\n",
    "    inverted = yhat*(scaler[1]-scaler[2]) + scaler[0]\n",
    "    return inverted[0][0]  # output: a number"
   ]
  },
  {
   "cell_type": "markdown",
   "metadata": {},
   "source": [
    "## Reshaping"
   ]
  },
  {
   "cell_type": "code",
   "execution_count": 8,
   "metadata": {},
   "outputs": [],
   "source": [
    "# convert to supervised learning\n",
    "def series_to_supervised(data, n_in=1, n_out=1, dropnan=True):\n",
    "    n_vars = 1 if type(data) is list else data.shape[1]\n",
    "    df = pd.DataFrame(data)\n",
    "    cols, names = [], []\n",
    "    # input sequence (t-n, ... t-1)\n",
    "    for i in range(n_in, 0, -1):\n",
    "        cols.append(df.shift(i))\n",
    "        names += [('var%d(t-%d)' % (j+1, i)) for j in range(n_vars)]\n",
    "    # forecast sequence (t, t+1, ... t+n)\n",
    "    for i in range(0, n_out):\n",
    "        cols.append(df.shift(-i))\n",
    "        if i == 0:\n",
    "            names += [('var%d(t)' % (j+1)) for j in range(n_vars)]\n",
    "        else:\n",
    "            names += [('var%d(t+%d)' % (j+1, i)) for j in range(n_vars)]\n",
    "    # put it all together\n",
    "    agg = pd.concat(cols, axis=1)\n",
    "    agg.columns = names\n",
    "    # drop rows with NaN values\n",
    "    if dropnan:\n",
    "        agg.dropna(inplace=True)\n",
    "    return agg  # output: a data frame\n",
    "# prepare data for neural networks\n",
    "def prepare_nn(series, diff, train_size, test_size, n_lag, n_seq):\n",
    "    # extract raw values\n",
    "    raw_values = series.values\n",
    "    raw_values = raw_values.reshape(len(raw_values), 1)\n",
    "    # differencing\n",
    "    diff_series = difference(raw_values, diff)\n",
    "    diff_values = diff_series.values\n",
    "    diff_values = diff_values.reshape(len(diff_values), 1)\n",
    "    # split into train & test\n",
    "    train_diff, test_diff = diff_values[:(train_size-diff)], diff_values[(train_size-diff):]\n",
    "    # rescaling\n",
    "    scaler, train_scaled, test_scaled = scale(train_diff, test_diff)\n",
    "    # adjust data type for train_scaled, test_scaled\n",
    "    train_scaled = [row[0][0] for row in train_scaled]\n",
    "    test_scaled = [row[0][0] for row in test_scaled]\n",
    "    # convert to supervised\n",
    "    train = series_to_supervised(train_scaled, n_lag, n_seq).values\n",
    "    test = series_to_supervised(test_scaled, n_lag, n_seq).values\n",
    "    return scaler, train, test  # scaler: list of np array, train: np array, test: np array"
   ]
  },
  {
   "cell_type": "markdown",
   "metadata": {},
   "source": [
    "# Model Training"
   ]
  },
  {
   "cell_type": "code",
   "execution_count": 9,
   "metadata": {},
   "outputs": [],
   "source": [
    "# fit an LSTM network to training data\n",
    "def fit_svm(train, n_lag, n_seq):\n",
    "    # reshape training into [samples, timesteps, features]\n",
    "    X, y = train[:, 0:n_lag], train[:, n_lag:]\n",
    "    # design network\n",
    "    model = svm.SVR(kernel=\"rbf\", C=100, gamma=0.05, epsilon=0.05)  # C=100, gamma=0.1, epsilon=0.1\n",
    "    model.fit(X, y)\n",
    "    return model"
   ]
  },
  {
   "cell_type": "markdown",
   "metadata": {},
   "source": [
    "# Make Forecasts"
   ]
  },
  {
   "cell_type": "code",
   "execution_count": 10,
   "metadata": {},
   "outputs": [],
   "source": [
    "# make one forecast with an SVR\n",
    "def forecast_svm(model, X):\n",
    "    # reshape input pattern to [samples, timesteps, features]\n",
    "    X = X.reshape(1,-1)  # or: (1, len(X))\n",
    "    # make forecast\n",
    "    forecast = model.predict(X)\n",
    "    # convert to array\n",
    "    return [x for x in forecast[:]]\n",
    "# evaluate the model\n",
    "def make_svm(model, raw_value, test, test_size, n_lag, n_seq, diff):\n",
    "    forecasts = []\n",
    "    prev = raw_value[-(test_size+diff):(len(raw_value)-diff)]  # Y_(t-diff)\n",
    "    for i in range(len(test)):\n",
    "        X = test[i, 0:n_lag]\n",
    "        # make forecast\n",
    "        forecast = forecast_svm(model, X)\n",
    "        # invert scaling\n",
    "        forecast = invert_scale(scaler, forecast)\n",
    "        # invert differencing\n",
    "        forecast = invert_difference(prev[i], forecast)\n",
    "        # store the forecast\n",
    "        forecasts.append(forecast)\n",
    "    return forecasts"
   ]
  },
  {
   "cell_type": "markdown",
   "metadata": {},
   "source": [
    "## Evaluation with RMSE, MAE, MAPE"
   ]
  },
  {
   "cell_type": "code",
   "execution_count": 11,
   "metadata": {},
   "outputs": [],
   "source": [
    "# evaluate RMSE for each step in forcasting\n",
    "def evaluate_forecasts(truth, forecasts):\n",
    "    rmse = np.sqrt(mean_squared_error(truth, forecasts))\n",
    "    mae = mean_absolute_error(truth, forecasts)\n",
    "    truth = np.array(truth)\n",
    "    forecasts = np.array(forecasts)\n",
    "    mape = mean_absolute_percentage_error(truth, forecasts)*100\n",
    "    return rmse, mae, mape"
   ]
  },
  {
   "cell_type": "markdown",
   "metadata": {},
   "source": [
    "## A Single Trial as Demo"
   ]
  },
  {
   "cell_type": "code",
   "execution_count": 12,
   "metadata": {},
   "outputs": [],
   "source": [
    "# given historical observations (t, t-1, t-2, … t-n+1) forecast t+1(future 1 day)\n",
    "n_lag = 7  # number of lag, use 7 past days\n",
    "n_seq = 1  # predict 1 future days\n",
    "diff = 1 # order of difference\n",
    "train_size = 63  # train set size\n",
    "test_size = 18 # test set size\n",
    "country = \"Singapore\""
   ]
  },
  {
   "cell_type": "code",
   "execution_count": 13,
   "metadata": {},
   "outputs": [],
   "source": [
    "# prepare data\n",
    "s = extract(df1, country)\n",
    "raw_value = s[-(train_size+test_size+n_lag):]\n",
    "scaler, train, test = prepare_nn(raw_value, diff, train_size, test_size, n_lag, n_seq)"
   ]
  },
  {
   "cell_type": "code",
   "execution_count": 14,
   "metadata": {},
   "outputs": [
    {
     "data": {
      "text/plain": [
       "(198.65675104993758, 144.68513857264705, 5.658529224499625)"
      ]
     },
     "execution_count": 14,
     "metadata": {},
     "output_type": "execute_result"
    }
   ],
   "source": [
    "# fit model\n",
    "model = fit_svm(train, n_lag, n_seq)\n",
    "# make forecasts\n",
    "forecasts = make_svm(model, raw_value, test, test_size, n_lag, n_seq, diff)\n",
    "evaluate_forecasts(raw_value[-test_size:], forecasts)"
   ]
  },
  {
   "cell_type": "code",
   "execution_count": 15,
   "metadata": {},
   "outputs": [
    {
     "data": {
      "image/png": "[encoded data removed]",
      "text/plain": [
       "<Figure size 432x288 with 1 Axes>"
      ]
     },
     "metadata": {
      "needs_background": "light"
     },
     "output_type": "display_data"
    }
   ],
   "source": [
    "truth = raw_value[-test_size:].to_list()\n",
    "plt.plot(truth, color = 'blue', label = \"ground truth\")\n",
    "plt.plot(forecasts, color = 'orange', label = \"prediction\")\n",
    "plt.legend()\n",
    "plt.savefig(\"SVM_demo.png\", dpi=600)"
   ]
  },
  {
   "cell_type": "markdown",
   "metadata": {},
   "source": [
    "# Perform on All countries, All Trials"
   ]
  },
  {
   "cell_type": "code",
   "execution_count": 16,
   "metadata": {},
   "outputs": [],
   "source": [
    "# given historical observations (t, t-1, t-2, … t-n+1) forecast t+1(future 1 day)\n",
    "n_lag = 7  # number of lag, use 7 past days\n",
    "n_seq = 1  # predict 1 future days\n",
    "diff = 1 # order of difference\n",
    "train_size = 63  # train set size\n",
    "test_size = 18 # test set size\n",
    "\n",
    "n_step = 7  # step size"
   ]
  },
  {
   "cell_type": "code",
   "execution_count": 17,
   "metadata": {},
   "outputs": [],
   "source": [
    "# holder for rmse:\n",
    "RMSE = []\n",
    "MAE = []\n",
    "MAPE = []\n",
    "\n",
    "for i in range(len(countries)):\n",
    "    country = countries[i]\n",
    "    s = extract(df1, country)\n",
    "    temp_RMSE = []\n",
    "    temp_MAE = []\n",
    "    temp_MAPE = []\n",
    "    # for each trial\n",
    "    for j in range(0, len(df1)-(train_size+test_size+n_lag)+1, n_step):\n",
    "        # prepare data\n",
    "        raw_value = s[j:j+(train_size+test_size+n_lag)]\n",
    "        scaler, train, test = prepare_nn(raw_value, diff, train_size, test_size, n_lag, n_seq)\n",
    "        model = fit_svm(train, n_lag, n_seq)\n",
    "        forecasts = make_svm(model, raw_value, test, test_size, n_lag, n_seq, diff)\n",
    "        rmse_svm, mae_svm, mape_svm = evaluate_forecasts(raw_value[-test_size:], forecasts)\n",
    "        temp_RMSE.append(rmse_svm)\n",
    "        temp_MAE.append(mae_svm)\n",
    "        temp_MAPE.append(mape_svm)\n",
    "        \n",
    "    RMSE.append(temp_RMSE)\n",
    "    MAE.append(temp_MAE)\n",
    "    MAPE.append(temp_MAPE)"
   ]
  },
  {
   "cell_type": "code",
   "execution_count": 18,
   "metadata": {},
   "outputs": [],
   "source": [
    "for i in range(len(countries)):\n",
    "    country = countries[i]\n",
    "    temp_RMSE = RMSE[i]\n",
    "    temp_MAE = MAE[i]\n",
    "    temp_MAPE = MAPE[i]\n",
    "    \n",
    "    curr = {\"rmse\": temp_RMSE, \"mae\": temp_MAE, \"mape\": temp_MAPE}\n",
    "    curr = pd.DataFrame(curr)\n",
    "    curr.to_csv(country+\"_svm.csv\", index = False)"
   ]
  },
  {
   "cell_type": "code",
   "execution_count": 19,
   "metadata": {},
   "outputs": [
    {
     "data": {
      "text/html": [
       "<div>\n",
       "<style scoped>\n",
       "    .dataframe tbody tr th:only-of-type {\n",
       "        vertical-align: middle;\n",
       "    }\n",
       "\n",
       "    .dataframe tbody tr th {\n",
       "        vertical-align: top;\n",
       "    }\n",
       "\n",
       "    .dataframe thead th {\n",
       "        text-align: right;\n",
       "    }\n",
       "</style>\n",
       "<table border=\"1\" class=\"dataframe\">\n",
       "  <thead>\n",
       "    <tr style=\"text-align: right;\">\n",
       "      <th></th>\n",
       "      <th>rmse</th>\n",
       "      <th>mae</th>\n",
       "      <th>mape</th>\n",
       "    </tr>\n",
       "  </thead>\n",
       "  <tbody>\n",
       "    <tr>\n",
       "      <th>0</th>\n",
       "      <td>89.169373</td>\n",
       "      <td>69.443088</td>\n",
       "      <td>1.531358</td>\n",
       "    </tr>\n",
       "    <tr>\n",
       "      <th>1</th>\n",
       "      <td>89.458881</td>\n",
       "      <td>72.790282</td>\n",
       "      <td>1.765504</td>\n",
       "    </tr>\n",
       "    <tr>\n",
       "      <th>2</th>\n",
       "      <td>131.332275</td>\n",
       "      <td>101.996552</td>\n",
       "      <td>2.901279</td>\n",
       "    </tr>\n",
       "    <tr>\n",
       "      <th>3</th>\n",
       "      <td>157.971719</td>\n",
       "      <td>145.979297</td>\n",
       "      <td>4.854453</td>\n",
       "    </tr>\n",
       "    <tr>\n",
       "      <th>4</th>\n",
       "      <td>73.017593</td>\n",
       "      <td>62.789817</td>\n",
       "      <td>2.695732</td>\n",
       "    </tr>\n",
       "    <tr>\n",
       "      <th>...</th>\n",
       "      <td>...</td>\n",
       "      <td>...</td>\n",
       "      <td>...</td>\n",
       "    </tr>\n",
       "    <tr>\n",
       "      <th>118</th>\n",
       "      <td>500.975226</td>\n",
       "      <td>426.080003</td>\n",
       "      <td>3.351134</td>\n",
       "    </tr>\n",
       "    <tr>\n",
       "      <th>119</th>\n",
       "      <td>102.639247</td>\n",
       "      <td>68.633584</td>\n",
       "      <td>0.754048</td>\n",
       "    </tr>\n",
       "    <tr>\n",
       "      <th>120</th>\n",
       "      <td>57.733187</td>\n",
       "      <td>48.837844</td>\n",
       "      <td>0.735217</td>\n",
       "    </tr>\n",
       "    <tr>\n",
       "      <th>121</th>\n",
       "      <td>36.506726</td>\n",
       "      <td>31.781945</td>\n",
       "      <td>0.595548</td>\n",
       "    </tr>\n",
       "    <tr>\n",
       "      <th>122</th>\n",
       "      <td>53.848564</td>\n",
       "      <td>40.420724</td>\n",
       "      <td>0.956450</td>\n",
       "    </tr>\n",
       "  </tbody>\n",
       "</table>\n",
       "<p>123 rows × 3 columns</p>\n",
       "</div>"
      ],
      "text/plain": [
       "           rmse         mae      mape\n",
       "0     89.169373   69.443088  1.531358\n",
       "1     89.458881   72.790282  1.765504\n",
       "2    131.332275  101.996552  2.901279\n",
       "3    157.971719  145.979297  4.854453\n",
       "4     73.017593   62.789817  2.695732\n",
       "..          ...         ...       ...\n",
       "118  500.975226  426.080003  3.351134\n",
       "119  102.639247   68.633584  0.754048\n",
       "120   57.733187   48.837844  0.735217\n",
       "121   36.506726   31.781945  0.595548\n",
       "122   53.848564   40.420724  0.956450\n",
       "\n",
       "[123 rows x 3 columns]"
      ]
     },
     "execution_count": 19,
     "metadata": {},
     "output_type": "execute_result"
    }
   ],
   "source": [
    "curr"
   ]
  },
  {
   "cell_type": "code",
   "execution_count": 20,
   "metadata": {},
   "outputs": [],
   "source": [
    "import scipy.stats\n",
    "\n",
    "def mean_confidence_interval(data, confidence=0.95):\n",
    "    a = 1.0 * np.array(data)\n",
    "    n = len(a)\n",
    "    m, se = np.mean(a), scipy.stats.sem(a)\n",
    "    h = se * scipy.stats.t.ppf((1 + confidence) / 2., n-1)\n",
    "    return m, h\n",
    "\n",
    "# alternative:\n",
    "# scipy.stats.t.interval(alpha=0.95, df=len(data)-1, loc=np.mean(data), scale=st.sem(data))"
   ]
  },
  {
   "cell_type": "code",
   "execution_count": 21,
   "metadata": {},
   "outputs": [],
   "source": [
    "# import data\n",
    "meanCI_rmse = []\n",
    "meanCI_mae = []\n",
    "meanCI_mape = []\n",
    "for country in countries:\n",
    "    df = pd.read_csv(country + '_svm.csv', index_col = False)\n",
    "    df.reset_index(drop=True, inplace=True)\n",
    "    rmse = df[[\"rmse\"]]\n",
    "    mean_rmse, h_rmse = mean_confidence_interval(rmse, confidence=0.95)\n",
    "    meanCI_rmse.append([mean_rmse, h_rmse])\n",
    "    \n",
    "    mae = df[[\"mae\"]]\n",
    "    mean_mae, h_mae = mean_confidence_interval(mae, confidence=0.95)\n",
    "    meanCI_mae.append([mean_mae, h_mae])\n",
    "    \n",
    "    mape = df[[\"mape\"]]\n",
    "    mean_mape, h_mape = mean_confidence_interval(mape, confidence=0.95)\n",
    "    meanCI_mape.append([mean_mape, h_mape])"
   ]
  },
  {
   "cell_type": "code",
   "execution_count": 22,
   "metadata": {},
   "outputs": [
    {
     "data": {
      "text/plain": [
       "[[1066.5494446627938, array([403.8274592])],\n",
       " [221.62361715513745, array([76.47556661])],\n",
       " [2358.600757177868, array([410.93027721])],\n",
       " [633.5809869612125, array([214.0131083])],\n",
       " [127.61337875855399, array([35.18866564])],\n",
       " [1135.8347083705373, array([415.46446631])],\n",
       " [828.8211180725112, array([277.56879667])]]"
      ]
     },
     "execution_count": 22,
     "metadata": {},
     "output_type": "execute_result"
    }
   ],
   "source": [
    "meanCI_rmse"
   ]
  },
  {
   "cell_type": "code",
   "execution_count": 23,
   "metadata": {},
   "outputs": [
    {
     "data": {
      "text/plain": [
       "[[854.9701837164222, array([322.67760618])],\n",
       " [165.3986502701169, array([56.85104404])],\n",
       " [1787.8031829714123, array([313.71061327])],\n",
       " [485.19900139682625, array([173.74632429])],\n",
       " [99.77702247159323, array([27.99225913])],\n",
       " [892.7873426628684, array([336.14325292])],\n",
       " [660.599602999419, array([221.51313941])]]"
      ]
     },
     "execution_count": 23,
     "metadata": {},
     "output_type": "execute_result"
    }
   ],
   "source": [
    "meanCI_mae"
   ]
  },
  {
   "cell_type": "code",
   "execution_count": 24,
   "metadata": {},
   "outputs": [
    {
     "data": {
      "text/plain": [
       "[[7.320824587536539, array([1.91464969])],\n",
       " [3.623815395396235, array([0.64490048])],\n",
       " [5.081393034026977, array([0.61211237])],\n",
       " [5.056032457146951, array([0.85011334])],\n",
       " [8.813892232566014, array([2.18968391])],\n",
       " [3.2750068700764774, array([0.45139285])],\n",
       " [2.2686584637130767, array([0.25754956])]]"
      ]
     },
     "execution_count": 24,
     "metadata": {},
     "output_type": "execute_result"
    }
   ],
   "source": [
    "meanCI_mape"
   ]
  }
 ],
 "metadata": {
  "kernelspec": {
   "display_name": "Python 3",
   "language": "python",
   "name": "python3"
  },
  "language_info": {
   "codemirror_mode": {
    "name": "ipython",
    "version": 3
   },
   "file_extension": ".py",
   "mimetype": "text/x-python",
   "name": "python",
   "nbconvert_exporter": "python",
   "pygments_lexer": "ipython3",
   "version": "3.8.5"
  }
 },
 "nbformat": 4,
 "nbformat_minor": 4
}
