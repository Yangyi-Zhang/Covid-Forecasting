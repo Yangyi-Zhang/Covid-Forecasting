{
 "cells": [
  {
   "cell_type": "code",
   "execution_count": 1,
   "metadata": {},
   "outputs": [],
   "source": [
    "import pandas as pd\n",
    "import numpy as np\n",
    "import random\n",
    "from statsmodels.tsa.stattools import pacf\n",
    "from matplotlib.pyplot import figure\n",
    "from statsmodels.tsa.arima.model import ARIMA\n",
    "# !pip install scikit-learn==0.24\n",
    "from sklearn.metrics import mean_squared_error, mean_absolute_error, mean_absolute_percentage_error\n",
    "import matplotlib.pyplot as plt\n",
    "from statsmodels.tsa.stattools import adfuller\n",
    "from statsmodels.tsa.stattools import kpss\n",
    "from sklearn.preprocessing import MinMaxScaler\n",
    "import tensorflow as tf\n",
    "from tensorflow import keras\n",
    "from tensorflow.keras import layers\n",
    "import tensorflow_lattice as tfl\n",
    "import matplotlib.ticker as ticker"
   ]
  },
  {
   "cell_type": "code",
   "execution_count": 2,
   "metadata": {},
   "outputs": [],
   "source": [
    "import warnings\n",
    "warnings.filterwarnings('ignore')"
   ]
  },
  {
   "cell_type": "code",
   "execution_count": 3,
   "metadata": {},
   "outputs": [
    {
     "data": {
      "text/html": [
       "<div>\n",
       "<style scoped>\n",
       "    .dataframe tbody tr th:only-of-type {\n",
       "        vertical-align: middle;\n",
       "    }\n",
       "\n",
       "    .dataframe tbody tr th {\n",
       "        vertical-align: top;\n",
       "    }\n",
       "\n",
       "    .dataframe thead th {\n",
       "        text-align: right;\n",
       "    }\n",
       "</style>\n",
       "<table border=\"1\" class=\"dataframe\">\n",
       "  <thead>\n",
       "    <tr style=\"text-align: right;\">\n",
       "      <th></th>\n",
       "      <th>date</th>\n",
       "      <th>Los Angeles</th>\n",
       "      <th>San Diego</th>\n",
       "      <th>San Francisco</th>\n",
       "      <th>Santa Barbara</th>\n",
       "      <th>Fresno</th>\n",
       "      <th>Sacramento</th>\n",
       "      <th>Ventura</th>\n",
       "      <th>Riverside</th>\n",
       "    </tr>\n",
       "  </thead>\n",
       "  <tbody>\n",
       "    <tr>\n",
       "      <th>0</th>\n",
       "      <td>2020-02-01</td>\n",
       "      <td>13.0</td>\n",
       "      <td>0.0</td>\n",
       "      <td>1.0</td>\n",
       "      <td>0.0</td>\n",
       "      <td>0.0</td>\n",
       "      <td>0.0</td>\n",
       "      <td>0.0</td>\n",
       "      <td>2.0</td>\n",
       "    </tr>\n",
       "    <tr>\n",
       "      <th>1</th>\n",
       "      <td>2020-02-02</td>\n",
       "      <td>4.0</td>\n",
       "      <td>0.0</td>\n",
       "      <td>0.0</td>\n",
       "      <td>0.0</td>\n",
       "      <td>0.0</td>\n",
       "      <td>0.0</td>\n",
       "      <td>0.0</td>\n",
       "      <td>1.0</td>\n",
       "    </tr>\n",
       "    <tr>\n",
       "      <th>2</th>\n",
       "      <td>2020-02-03</td>\n",
       "      <td>4.0</td>\n",
       "      <td>0.0</td>\n",
       "      <td>0.0</td>\n",
       "      <td>0.0</td>\n",
       "      <td>0.0</td>\n",
       "      <td>0.0</td>\n",
       "      <td>0.0</td>\n",
       "      <td>1.0</td>\n",
       "    </tr>\n",
       "    <tr>\n",
       "      <th>3</th>\n",
       "      <td>2020-02-04</td>\n",
       "      <td>1.0</td>\n",
       "      <td>0.0</td>\n",
       "      <td>0.0</td>\n",
       "      <td>0.0</td>\n",
       "      <td>0.0</td>\n",
       "      <td>0.0</td>\n",
       "      <td>0.0</td>\n",
       "      <td>0.0</td>\n",
       "    </tr>\n",
       "    <tr>\n",
       "      <th>4</th>\n",
       "      <td>2020-02-05</td>\n",
       "      <td>0.0</td>\n",
       "      <td>0.0</td>\n",
       "      <td>0.0</td>\n",
       "      <td>0.0</td>\n",
       "      <td>0.0</td>\n",
       "      <td>0.0</td>\n",
       "      <td>0.0</td>\n",
       "      <td>0.0</td>\n",
       "    </tr>\n",
       "  </tbody>\n",
       "</table>\n",
       "</div>"
      ],
      "text/plain": [
       "         date  Los Angeles  San Diego  San Francisco  Santa Barbara  Fresno  \\\n",
       "0  2020-02-01         13.0        0.0            1.0            0.0     0.0   \n",
       "1  2020-02-02          4.0        0.0            0.0            0.0     0.0   \n",
       "2  2020-02-03          4.0        0.0            0.0            0.0     0.0   \n",
       "3  2020-02-04          1.0        0.0            0.0            0.0     0.0   \n",
       "4  2020-02-05          0.0        0.0            0.0            0.0     0.0   \n",
       "\n",
       "   Sacramento  Ventura  Riverside  \n",
       "0         0.0      0.0        2.0  \n",
       "1         0.0      0.0        1.0  \n",
       "2         0.0      0.0        1.0  \n",
       "3         0.0      0.0        0.0  \n",
       "4         0.0      0.0        0.0  "
      ]
     },
     "execution_count": 3,
     "metadata": {},
     "output_type": "execute_result"
    }
   ],
   "source": [
    "# import data\n",
    "df = pd.read_csv(\"CACases.csv\", index_col = False)\n",
    "df.reset_index(drop=True, inplace=True)\n",
    "df.head()"
   ]
  },
  {
   "cell_type": "code",
   "execution_count": 4,
   "metadata": {},
   "outputs": [],
   "source": [
    "# counties we are interested in\n",
    "counties = [\"Los Angeles\", \"San Diego\", \"San Francisco\", \"Santa Barbara\",\\\n",
    "            \"Fresno\", \"Sacramento\", \"Ventura\", \"Riverside\"]"
   ]
  },
  {
   "cell_type": "markdown",
   "metadata": {},
   "source": [
    "# Data Smoothing\n",
    "- Remove day of week effect by replace $y_t$ with an average of 7 previous days(inclusive)\n",
    "    - Each value is an average of data from all 7 different weekdays, thud day of week effect removed"
   ]
  },
  {
   "cell_type": "code",
   "execution_count": 5,
   "metadata": {},
   "outputs": [],
   "source": [
    "# create a time series of cases, each value is an average of 7 previous days(include the current date)\n",
    "# for each county\n",
    "df1 = df.copy()  # deep copy\n",
    "df1 = df1.iloc[6:]\n",
    "for county in counties:\n",
    "    # holder\n",
    "    temp = []\n",
    "    # take average, starting from 7th day\n",
    "    for i in range(6,len(df)):\n",
    "        # remove day of week effect\n",
    "        ave = np.mean(df[county].iloc[i-6:i+1])  # 6 previous days and the exact date, 7 days' average\n",
    "        temp.append(ave)\n",
    "    df1[county] = temp\n",
    "df1.set_index(\"date\", inplace=True)"
   ]
  },
  {
   "cell_type": "code",
   "execution_count": 6,
   "metadata": {},
   "outputs": [],
   "source": [
    "# input: original dataset, county we want\n",
    "# output: all data, sorted by date, of that county\n",
    "def extract(dataset, county):\n",
    "    # select data only from the input county\n",
    "    temp = dataset.to_dict()[county]\n",
    "    temp = pd.Series(temp)\n",
    "    # reset index\n",
    "    # temp.reset_index(drop=True, inplace=True)\n",
    "    return temp"
   ]
  },
  {
   "cell_type": "markdown",
   "metadata": {},
   "source": [
    "# Data Preprocessing\n",
    "## Differencing\n",
    "- Differencing of time series in discrete time\n",
    "- transformation of series to a new time series wehre values are the difference between consecutive values of previous series\n",
    "- help stablizing the mean of time series by removing trend"
   ]
  },
  {
   "cell_type": "code",
   "execution_count": 7,
   "metadata": {},
   "outputs": [],
   "source": [
    "# create a differenced series, output as Series\n",
    "# interval: order of differencing, default = 1\n",
    "def difference(dataset, interval=1):\n",
    "    diff = []\n",
    "    for i in range(interval, len(dataset)):\n",
    "        # no need to difference\n",
    "        if (interval == 0):\n",
    "            value = dataset[i]\n",
    "        else:\n",
    "            value = dataset[i] - dataset[i - interval]\n",
    "        diff.append(value)\n",
    "    return pd.Series(diff)\n",
    "# invert differenced value\n",
    "# input: single original, single prediction, interval(default as 1)\n",
    "def invert_difference(history, yhat, interval=1):\n",
    "    if (interval == 0):\n",
    "        return yhat\n",
    "    else:\n",
    "        return yhat + history"
   ]
  },
  {
   "cell_type": "markdown",
   "metadata": {},
   "source": [
    "## Scaling\n",
    "- Scale the data to [-1,1]"
   ]
  },
  {
   "cell_type": "code",
   "execution_count": 8,
   "metadata": {},
   "outputs": [],
   "source": [
    "# scale train and test data to [-1, 1]\n",
    "# input: train(np array, train_size*1), test(np array, test_size*1)\n",
    "def scale(train, test):\n",
    "    # find scalers\n",
    "    aveTrain = np.mean(train)\n",
    "    maxTrain = max(train)\n",
    "    minTrain = min(train)\n",
    "    scaler = [aveTrain, maxTrain, minTrain]\n",
    "    # transform train\n",
    "    train = train.reshape(train.shape[0], train.shape[1])\n",
    "    train_scaled = (train - aveTrain)/(maxTrain-minTrain)\n",
    "    # transform test\n",
    "    test = test.reshape(test.shape[0], test.shape[1])\n",
    "    test_scaled = (test - aveTrain)/(maxTrain-minTrain)\n",
    "    return scaler, train_scaled, test_scaled\n",
    "# inverse scaling for a forecasted value\n",
    "# input: scaler, single prediction yhat\n",
    "def invert_scale(scaler, yhat):\n",
    "    inverted = yhat*(scaler[1]-scaler[2]) + scaler[0]\n",
    "    return inverted[0][0]  # output: a number"
   ]
  },
  {
   "cell_type": "markdown",
   "metadata": {},
   "source": [
    "## Reshaping"
   ]
  },
  {
   "cell_type": "code",
   "execution_count": 9,
   "metadata": {},
   "outputs": [],
   "source": [
    "# convert to supervised learning\n",
    "def series_to_supervised(data, n_in=1, n_out=1, dropnan=True):\n",
    "    n_vars = 1 if type(data) is list else data.shape[1]\n",
    "    df = pd.DataFrame(data)\n",
    "    cols, names = [], []\n",
    "    # input sequence (t-n, ... t-1)\n",
    "    for i in range(n_in, 0, -1):\n",
    "        cols.append(df.shift(i))\n",
    "        names += [('var%d(t-%d)' % (j+1, i)) for j in range(n_vars)]\n",
    "    # forecast sequence (t, t+1, ... t+n)\n",
    "    for i in range(0, n_out):\n",
    "        cols.append(df.shift(-i))\n",
    "        if i == 0:\n",
    "            names += [('var%d(t)' % (j+1)) for j in range(n_vars)]\n",
    "        else:\n",
    "            names += [('var%d(t+%d)' % (j+1, i)) for j in range(n_vars)]\n",
    "    # put it all together\n",
    "    agg = pd.concat(cols, axis=1)\n",
    "    agg.columns = names\n",
    "    # drop rows with NaN values\n",
    "    if dropnan:\n",
    "        agg.dropna(inplace=True)\n",
    "    return agg  # output: a data frame\n",
    "# prepare data for AR\n",
    "def prepare_AR(series, diff, train_size, test_size, n_lag, n_seq):\n",
    "    # extract raw values\n",
    "    raw_values = series.values\n",
    "    raw_values = raw_values.reshape(len(raw_values), 1)\n",
    "    # differencing\n",
    "    diff_series = difference(raw_values, diff)\n",
    "    diff_values = diff_series.values\n",
    "    diff_values = diff_values.reshape(len(diff_values), 1)\n",
    "    # split into train & test\n",
    "    train_diff, test_diff = diff_values[:(train_size-diff)], diff_values[(train_size-diff):]\n",
    "    # rescaling\n",
    "    scaler, train_scaled, test_scaled = scale(train_diff, test_diff)\n",
    "    # adjust data type for test_scaled\n",
    "    # test_scaled = [row[0][0] for row in test_scaled]\n",
    "    # convert to supervised\n",
    "    train = [row[0][0] for row in train_scaled]\n",
    "    test = series_to_supervised(test_scaled, n_lag, n_seq).values\n",
    "    return scaler, train, test  # scaler: list, train: list, test: np array\n",
    "# prepare data for neural networks\n",
    "def prepare_nn(series, diff, train_size, test_size, n_lag, n_seq):\n",
    "    # extract raw values\n",
    "    raw_values = series.values\n",
    "    raw_values = raw_values.reshape(len(raw_values), 1)\n",
    "    # differencing\n",
    "    diff_series = difference(raw_values, diff)\n",
    "    diff_values = diff_series.values\n",
    "    diff_values = diff_values.reshape(len(diff_values), 1)\n",
    "    # split into train & test\n",
    "    train_diff, test_diff = diff_values[:(train_size-diff)], diff_values[(train_size-diff):]\n",
    "    # rescaling\n",
    "    scaler, train_scaled, test_scaled = scale(train_diff, test_diff)\n",
    "    # adjust data type for train_scaled, test_scaled\n",
    "    train_scaled = [row[0][0] for row in train_scaled]\n",
    "    test_scaled = [row[0][0] for row in test_scaled]\n",
    "    # convert to supervised\n",
    "    train = series_to_supervised(train_scaled, n_lag, n_seq).values\n",
    "    test = series_to_supervised(test_scaled, n_lag, n_seq).values\n",
    "    return scaler, train, test  # scaler: list of np array, train: np array, test: np array"
   ]
  },
  {
   "cell_type": "markdown",
   "metadata": {},
   "source": [
    "# Model Training"
   ]
  },
  {
   "cell_type": "code",
   "execution_count": 10,
   "metadata": {},
   "outputs": [],
   "source": [
    "# fit an LSTM network to training data\n",
    "def fit_lstm(train, n_lag, n_seq, n_batch, nb_epoch, n_neurons):\n",
    "    # reshape training into [samples, timesteps, features]\n",
    "    X, y = train[:, 0:n_lag], train[:, n_lag:]\n",
    "    X = X.reshape(X.shape[0], 1, X.shape[1])\n",
    "    # design network\n",
    "    model = keras.Sequential()\n",
    "    model.add(layers.LSTM(n_neurons, batch_input_shape=(n_batch, X.shape[1], X.shape[2]), stateful=True))\n",
    "    model.add(layers.Dense(y.shape[1]))\n",
    "    model.compile(loss='mean_squared_error', optimizer='adam')\n",
    "    # fit network\n",
    "    for i in range(nb_epoch):\n",
    "        model.fit(X, y, epochs=1, batch_size=n_batch, verbose=0, shuffle=False)\n",
    "        model.reset_states()\n",
    "    return model"
   ]
  },
  {
   "cell_type": "code",
   "execution_count": 11,
   "metadata": {},
   "outputs": [],
   "source": [
    "def fit_comb(train, n_lag, n_seq, n_batch, n_epoch, n_neurons):\n",
    "    X, y = train[:, 0:n_lag], train[:, n_lag:]\n",
    "    Z = X.reshape(X.shape[0], 1, X.shape[1])\n",
    "    # AR layer\n",
    "    input1 = tf.keras.layers.Input(shape=(X.shape[1],))\n",
    "    AR = tfl.layers.Linear(num_input_dims=X.shape[1], units=n_seq)(input1)\n",
    "    # lstm layer\n",
    "    input2 = tf.keras.layers.Input(shape=(Z.shape[1],Z.shape[2]))\n",
    "    lstm = layers.LSTM(n_seq)(input2)\n",
    "    # combine\n",
    "    added = tf.keras.layers.add([AR, lstm])\n",
    "    out = tf.keras.layers.Dense(n_seq)(added)\n",
    "    model = tf.keras.models.Model(inputs=[input1,input2], outputs=out)\n",
    "    # compile before training or testing\n",
    "    model.compile(loss='mean_squared_error', optimizer='adam')\n",
    "    # fit network\n",
    "    for i in range(n_epoch):\n",
    "        model.fit([X, Z], y, epochs=1, batch_size=n_batch, verbose=0, shuffle=False)\n",
    "        model.reset_states()\n",
    "    return model"
   ]
  },
  {
   "cell_type": "markdown",
   "metadata": {},
   "source": [
    "# Make Forecasts"
   ]
  },
  {
   "cell_type": "code",
   "execution_count": 12,
   "metadata": {},
   "outputs": [],
   "source": [
    "# evaluate the model\n",
    "def make_AR(model, raw_value, test, test_size, n_lag, n_seq, diff):\n",
    "    forecasts = []\n",
    "    prev = raw_value[-(test_size+diff):(len(raw_value)-diff)]  # Y_(t-diff)  # (train_size+n_lag-1):-1\n",
    "    for i in range(test_size):\n",
    "        X = test[i, 0:n_lag]  # X_test, will not use y_test\n",
    "        # make forecast\n",
    "        forecast = model.params[0]  # initlialize with coefficient\n",
    "        for j in range(n_lag):\n",
    "            forecast += model.params[j+1] * X[j]  # forecast = a0 + a_i * X_i for i = 1,...,7\n",
    "        # invert scaling\n",
    "        forecast = invert_scale(scaler, forecast)\n",
    "        # invert differencing\n",
    "        forecast = invert_difference(prev[i], forecast, diff)\n",
    "        # store the forecast\n",
    "        forecasts.append(forecast)\n",
    "    return forecasts"
   ]
  },
  {
   "cell_type": "code",
   "execution_count": 13,
   "metadata": {},
   "outputs": [],
   "source": [
    "# make one forecast with an LSTM\n",
    "def forecast_lstm(model, X, n_batch):\n",
    "    # reshape input pattern to [samples, timesteps, features]\n",
    "    X = X.reshape(1, 1, len(X))\n",
    "    # make forecast\n",
    "    forecast = model.predict(X, batch_size=n_batch)\n",
    "    # convert to array\n",
    "    return [x for x in forecast[0, :]][0]\n",
    "# evaluate the model\n",
    "def make_lstm(model, n_batch, raw_value, test, test_size, n_lag, n_seq, diff):\n",
    "    forecasts = []\n",
    "    prev = raw_value[-(test_size+diff):(len(raw_value)-diff)]  # Y_(t-diff)\n",
    "    for i in range(len(test)):\n",
    "        X = test[i, 0:n_lag]\n",
    "        # make forecast\n",
    "        forecast = forecast_lstm(model, X, n_batch)\n",
    "        # invert scaling\n",
    "        forecast = invert_scale(scaler, forecast)\n",
    "        # invert differencing\n",
    "        forecast = invert_difference(prev[i], forecast)\n",
    "        # store the forecast\n",
    "        forecasts.append(forecast)\n",
    "    return forecasts"
   ]
  },
  {
   "cell_type": "code",
   "execution_count": 14,
   "metadata": {},
   "outputs": [],
   "source": [
    "# make one forecast with a hybird model\n",
    "def forecast_comb(model, X, n_batch):\n",
    "    # reshape input pattern to [samples, timesteps, features]\n",
    "    Z = X.reshape(1, 1, len(X))\n",
    "    X = X.reshape(1, len(X))\n",
    "    # make forecast\n",
    "    forecast = model.predict([X,Z], batch_size=n_batch)\n",
    "    return [x for x in forecast[0, :]][0]\n",
    "    return [x for x in forecast[0, :]][0]\n",
    "# evaluate the model\n",
    "def make_comb(model, n_batch, raw_value, test, test_size, n_lag, n_seq, diff):\n",
    "    forecasts = []\n",
    "    prev = raw_value[-(test_size+diff):(len(raw_value)-diff)]  # Y_(t-diff)\n",
    "    for i in range(len(test)):\n",
    "        X = test[i, 0:n_lag]\n",
    "        # make forecast\n",
    "        forecast = forecast_comb(model, X, n_batch)\n",
    "        # invert scaling\n",
    "        forecast = invert_scale(scaler, forecast)\n",
    "        # invert differencing\n",
    "        forecast = invert_difference(prev[i], forecast)\n",
    "        # store the forecast\n",
    "        forecasts.append(forecast)\n",
    "    return forecasts"
   ]
  },
  {
   "cell_type": "markdown",
   "metadata": {},
   "source": [
    "## Evaluation with RMSE, MAE, MAPE"
   ]
  },
  {
   "cell_type": "code",
   "execution_count": 15,
   "metadata": {},
   "outputs": [],
   "source": [
    "# evaluate RMSE for each step in forcasting\n",
    "def evaluate_forecasts(truth, forecasts):\n",
    "    rmse = np.sqrt(mean_squared_error(truth, forecasts))\n",
    "    # mae = mean_absolute_error(truth, forecasts)\n",
    "    truth = np.array(truth)\n",
    "    forecasts = np.array(forecasts)\n",
    "    mape = mean_absolute_percentage_error(truth, forecasts)*100\n",
    "    return rmse, mape"
   ]
  },
  {
   "cell_type": "markdown",
   "metadata": {},
   "source": [
    "# Perform on All Counties, Latest Trial"
   ]
  },
  {
   "cell_type": "code",
   "execution_count": 16,
   "metadata": {},
   "outputs": [],
   "source": [
    "# given historical observations (t, t-1, t-2, … t-n+1) forecast t+1(future 1 day)\n",
    "n_lag = 7  # number of lag, use 7 past days\n",
    "n_seq = 1  # predict 1 future days\n",
    "diff = 1 # order of difference\n",
    "train_size = 63  # train set size\n",
    "test_size = 18 # test set size\n",
    "\n",
    "n_step = 7  # step size\n",
    "\n",
    "n_batch = 1\n",
    "nb_epoch = 100\n",
    "n_neurons = 1"
   ]
  },
  {
   "cell_type": "code",
   "execution_count": 17,
   "metadata": {},
   "outputs": [],
   "source": [
    "# holder for rmse:\n",
    "RMSE = []\n",
    "MAPE = []\n",
    "\n",
    "for i in range(len(counties)):\n",
    "    county = counties[i]\n",
    "    s = extract(df1, county)\n",
    "    temp_RMSE = []\n",
    "    temp_MAPE = []\n",
    "    for j in range(0, len(df1)-(train_size+test_size+n_lag)+1, n_step):\n",
    "        # prepare data\n",
    "        raw_value = s[j:j+(train_size+test_size+n_lag)]\n",
    "        \n",
    "        # for AR\n",
    "        scaler, train, test = prepare_AR(raw_value, diff, train_size, test_size, n_lag, n_seq)\n",
    "        # fit model\n",
    "        model = ARIMA(train, order = (n_lag,0,0), trend = 'c')  # AR, I, MA\n",
    "        model = model.fit()\n",
    "        # make forecasts\n",
    "        forecasts = make_AR(model, raw_value, test, test_size, n_lag, n_seq, diff)\n",
    "        rmse_AR, mape_AR = evaluate_forecasts(raw_value[-test_size:], forecasts)\n",
    "        # for lstm\n",
    "        scaler, train, test = prepare_nn(raw_value, diff, train_size, test_size, n_lag, n_seq)\n",
    "        model = fit_lstm(train, n_lag, n_seq, n_batch, nb_epoch, n_neurons)\n",
    "        forecasts = make_lstm(model, n_batch, raw_value, test, test_size, n_lag, n_seq, diff)\n",
    "        rmse_LSTM, mape_LSTM = evaluate_forecasts(raw_value[-test_size:], forecasts)\n",
    "    \n",
    "        # for hybrid\n",
    "        model = fit_comb(train, n_lag, n_seq, n_batch, nb_epoch, n_neurons)\n",
    "        forecasts = make_comb(model, n_batch, raw_value, test, test_size, n_lag, n_seq, diff)\n",
    "        rmse_comb, mape_comb = evaluate_forecasts(raw_value[-test_size:], forecasts)\n",
    "        \n",
    "        temp_RMSE.append([rmse_AR, rmse_LSTM, rmse_comb])\n",
    "        temp_MAPE.append([mape_AR, mape_LSTM, mape_comb])\n",
    "    \n",
    "    RMSE.append(temp_RMSE)\n",
    "    MAPE.append(temp_MAPE)"
   ]
  },
  {
   "cell_type": "code",
   "execution_count": 19,
   "metadata": {},
   "outputs": [
    {
     "data": {
      "text/html": [
       "<div>\n",
       "<style scoped>\n",
       "    .dataframe tbody tr th:only-of-type {\n",
       "        vertical-align: middle;\n",
       "    }\n",
       "\n",
       "    .dataframe tbody tr th {\n",
       "        vertical-align: top;\n",
       "    }\n",
       "\n",
       "    .dataframe thead th {\n",
       "        text-align: right;\n",
       "    }\n",
       "</style>\n",
       "<table border=\"1\" class=\"dataframe\">\n",
       "  <thead>\n",
       "    <tr style=\"text-align: right;\">\n",
       "      <th></th>\n",
       "      <th>county</th>\n",
       "      <th>AR</th>\n",
       "      <th>LSTM</th>\n",
       "      <th>Hybrid</th>\n",
       "    </tr>\n",
       "  </thead>\n",
       "  <tbody>\n",
       "    <tr>\n",
       "      <th>0</th>\n",
       "      <td>Los Angeles</td>\n",
       "      <td>5.152817</td>\n",
       "      <td>5.202460</td>\n",
       "      <td>3.555953</td>\n",
       "    </tr>\n",
       "    <tr>\n",
       "      <th>1</th>\n",
       "      <td>San Diego</td>\n",
       "      <td>4.446162</td>\n",
       "      <td>3.983217</td>\n",
       "      <td>3.104579</td>\n",
       "    </tr>\n",
       "    <tr>\n",
       "      <th>2</th>\n",
       "      <td>San Francisco</td>\n",
       "      <td>4.753798</td>\n",
       "      <td>4.193660</td>\n",
       "      <td>3.549347</td>\n",
       "    </tr>\n",
       "    <tr>\n",
       "      <th>3</th>\n",
       "      <td>Santa Barbara</td>\n",
       "      <td>7.706141</td>\n",
       "      <td>6.045992</td>\n",
       "      <td>6.018959</td>\n",
       "    </tr>\n",
       "    <tr>\n",
       "      <th>4</th>\n",
       "      <td>Fresno</td>\n",
       "      <td>6.548729</td>\n",
       "      <td>5.594911</td>\n",
       "      <td>4.304359</td>\n",
       "    </tr>\n",
       "    <tr>\n",
       "      <th>5</th>\n",
       "      <td>Sacramento</td>\n",
       "      <td>5.240402</td>\n",
       "      <td>4.838474</td>\n",
       "      <td>3.924979</td>\n",
       "    </tr>\n",
       "    <tr>\n",
       "      <th>6</th>\n",
       "      <td>Ventura</td>\n",
       "      <td>6.525283</td>\n",
       "      <td>5.909840</td>\n",
       "      <td>4.888776</td>\n",
       "    </tr>\n",
       "    <tr>\n",
       "      <th>7</th>\n",
       "      <td>Riverside</td>\n",
       "      <td>5.660417</td>\n",
       "      <td>4.793583</td>\n",
       "      <td>3.862563</td>\n",
       "    </tr>\n",
       "  </tbody>\n",
       "</table>\n",
       "</div>"
      ],
      "text/plain": [
       "          county        AR      LSTM    Hybrid\n",
       "0    Los Angeles  5.152817  5.202460  3.555953\n",
       "1      San Diego  4.446162  3.983217  3.104579\n",
       "2  San Francisco  4.753798  4.193660  3.549347\n",
       "3  Santa Barbara  7.706141  6.045992  6.018959\n",
       "4         Fresno  6.548729  5.594911  4.304359\n",
       "5     Sacramento  5.240402  4.838474  3.924979\n",
       "6        Ventura  6.525283  5.909840  4.888776\n",
       "7      Riverside  5.660417  4.793583  3.862563"
      ]
     },
     "execution_count": 19,
     "metadata": {},
     "output_type": "execute_result"
    }
   ],
   "source": [
    "# MAPE\n",
    "AR = []\n",
    "LSTM = []\n",
    "Hybrid = []\n",
    "for i in range(len(counties)):\n",
    "    # mape for current county\n",
    "    temp = MAPE[i]\n",
    "    currAR = [element[0] for element in temp]\n",
    "    currLSTM = [element[1] for element in temp]\n",
    "    currcomb = [element[2] for element in temp]\n",
    "    AR.append(np.mean(currAR))\n",
    "    LSTM.append(np.mean(currLSTM))\n",
    "    Hybrid.append(np.mean(currcomb))\n",
    "MAPE_evaluate = {\"county\": counties, \"AR\": AR, \"LSTM\": LSTM, \"Hybrid\": Hybrid}\n",
    "MAPE_evaluate = pd.DataFrame(MAPE_evaluate)\n",
    "MAPE_evaluate "
   ]
  },
  {
   "cell_type": "code",
   "execution_count": 20,
   "metadata": {},
   "outputs": [],
   "source": [
    "# check RMSE plot for certain county\n",
    "def plot_rmse(county, RMSE):\n",
    "    fig, axs = plt.subplots(3,1)\n",
    "    fig.set_size_inches(18.5, 10.5, forward=True)\n",
    "    # extract all rmse for given county\n",
    "    temp = RMSE[counties.index(county)]\n",
    "    rmse_AR = [element[0] for element in temp]\n",
    "    rmse_LSTM = [element[1] for element in temp]\n",
    "    rmse_comb = [element[2] for element in temp]\n",
    "    axs[0].plot(rmse_AR)\n",
    "    axs[1].plot(rmse_LSTM)\n",
    "    axs[2].plot(rmse_comb)\n",
    "    plt.show()"
   ]
  },
  {
   "cell_type": "code",
   "execution_count": 21,
   "metadata": {},
   "outputs": [
    {
     "data": {
      "image/png": "[encoded data removed]",
      "text/plain": [
       "<Figure size 1332x756 with 3 Axes>"
      ]
     },
     "metadata": {
      "needs_background": "light"
     },
     "output_type": "display_data"
    }
   ],
   "source": [
    "county = \"Los Angeles\"\n",
    "plot_rmse(county, RMSE)"
   ]
  },
  {
   "cell_type": "code",
   "execution_count": 22,
   "metadata": {},
   "outputs": [
    {
     "data": {
      "image/png": "[encoded data removed]",
      "text/plain": [
       "<Figure size 1332x756 with 3 Axes>"
      ]
     },
     "metadata": {
      "needs_background": "light"
     },
     "output_type": "display_data"
    }
   ],
   "source": [
    "county = \"Santa Barbara\"\n",
    "plot_rmse(county, RMSE)"
   ]
  },
  {
   "cell_type": "markdown",
   "metadata": {},
   "source": [
    "# Save the Data"
   ]
  },
  {
   "cell_type": "code",
   "execution_count": 26,
   "metadata": {},
   "outputs": [],
   "source": [
    "for i in range(len(counties)):\n",
    "    county = counties[i]\n",
    "    temp = RMSE[i]\n",
    "    rmse_AR = [element[0] for element in temp]\n",
    "    rmse_LSTM = [element[1] for element in temp]\n",
    "    rmse_comb = [element[2] for element in temp]\n",
    "    \n",
    "    curr = {\"AR\": rmse_AR, \"LSTM\": rmse_LSTM, \"Hybrid\": rmse_comb}\n",
    "    curr = pd.DataFrame(curr)\n",
    "    curr.to_csv(county+\"_rmse.csv\", index = False)"
   ]
  },
  {
   "cell_type": "code",
   "execution_count": 27,
   "metadata": {},
   "outputs": [],
   "source": [
    "for i in range(len(counties)):\n",
    "    county = counties[i]\n",
    "    temp = MAPE[i]\n",
    "    mape_AR = [element[0] for element in temp]\n",
    "    mape_LSTM = [element[1] for element in temp]\n",
    "    mape_comb = [element[2] for element in temp]\n",
    "    \n",
    "    curr = {\"AR\": mape_AR, \"LSTM\": mape_LSTM, \"Hybrid\": mape_comb}\n",
    "    curr = pd.DataFrame(curr)\n",
    "    curr.to_csv(county+\"_mape.csv\", index = False)"
   ]
  }
 ],
 "metadata": {
  "kernelspec": {
   "display_name": "Python 3",
   "language": "python",
   "name": "python3"
  },
  "language_info": {
   "codemirror_mode": {
    "name": "ipython",
    "version": 3
   },
   "file_extension": ".py",
   "mimetype": "text/x-python",
   "name": "python",
   "nbconvert_exporter": "python",
   "pygments_lexer": "ipython3",
   "version": "3.8.5"
  }
 },
 "nbformat": 4,
 "nbformat_minor": 4
}
