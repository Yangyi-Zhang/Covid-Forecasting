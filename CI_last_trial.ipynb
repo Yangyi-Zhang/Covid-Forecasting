{
 "cells": [
  {
   "cell_type": "code",
   "execution_count": 4,
   "metadata": {},
   "outputs": [
    {
     "name": "stdout",
     "output_type": "stream",
     "text": [
      "Requirement already satisfied: statsmodels in /Users/yangyi/opt/anaconda3/lib/python3.8/site-packages (0.12.0)\n",
      "Requirement already satisfied: patsy>=0.5 in /Users/yangyi/opt/anaconda3/lib/python3.8/site-packages (from statsmodels) (0.5.1)\n",
      "Requirement already satisfied: numpy>=1.15 in /Users/yangyi/opt/anaconda3/lib/python3.8/site-packages (from statsmodels) (1.22.3)\n",
      "Requirement already satisfied: pandas>=0.21 in /Users/yangyi/opt/anaconda3/lib/python3.8/site-packages (from statsmodels) (1.1.3)\n",
      "Requirement already satisfied: scipy>=1.1 in /Users/yangyi/opt/anaconda3/lib/python3.8/site-packages (from statsmodels) (1.5.2)\n",
      "Requirement already satisfied: six in /Users/yangyi/opt/anaconda3/lib/python3.8/site-packages (from patsy>=0.5->statsmodels) (1.15.0)\n",
      "Requirement already satisfied: pytz>=2017.2 in /Users/yangyi/opt/anaconda3/lib/python3.8/site-packages (from pandas>=0.21->statsmodels) (2020.1)\n",
      "Requirement already satisfied: python-dateutil>=2.7.3 in /Users/yangyi/opt/anaconda3/lib/python3.8/site-packages (from pandas>=0.21->statsmodels) (2.8.1)\n",
      "Requirement already satisfied: scikit-learn==0.24 in /Users/yangyi/opt/anaconda3/lib/python3.8/site-packages (0.24.0)\n",
      "Requirement already satisfied: joblib>=0.11 in /Users/yangyi/opt/anaconda3/lib/python3.8/site-packages (from scikit-learn==0.24) (0.17.0)\n",
      "Requirement already satisfied: threadpoolctl>=2.0.0 in /Users/yangyi/opt/anaconda3/lib/python3.8/site-packages (from scikit-learn==0.24) (2.1.0)\n",
      "Requirement already satisfied: scipy>=0.19.1 in /Users/yangyi/opt/anaconda3/lib/python3.8/site-packages (from scikit-learn==0.24) (1.5.2)\n",
      "Requirement already satisfied: numpy>=1.13.3 in /Users/yangyi/opt/anaconda3/lib/python3.8/site-packages (from scikit-learn==0.24) (1.22.3)\n",
      "Collecting keras==2.6\n",
      "  Downloading keras-2.6.0-py2.py3-none-any.whl (1.3 MB)\n",
      "\u001b[K     |████████████████████████████████| 1.3 MB 2.1 MB/s \n",
      "\u001b[?25hInstalling collected packages: keras\n",
      "  Attempting uninstall: keras\n",
      "    Found existing installation: keras 2.9.0\n",
      "    Uninstalling keras-2.9.0:\n",
      "      Successfully uninstalled keras-2.9.0\n",
      "\u001b[31mERROR: After October 2020 you may experience errors when installing or updating packages. This is because pip will change the way that it resolves dependency conflicts.\n",
      "\n",
      "We recommend you use --use-feature=2020-resolver to test your packages with the new resolver before it becomes the default.\n",
      "\n",
      "tensorflow 2.8.0 requires keras<2.9,>=2.8.0rc0, but you'll have keras 2.6.0 which is incompatible.\u001b[0m\n",
      "Successfully installed keras-2.6.0\n"
     ]
    }
   ],
   "source": [
    "import pandas as pd\n",
    "import numpy as np\n",
    "import random\n",
    "!pip install statsmodels\n",
    "!pip install scikit-learn==0.24\n",
    "!pip install keras==2.6\n",
    "#!pip3 install --force-reinstall tensorflow\n",
    "#!pip install -q tensorflow-lattice pydot\n",
    "#!pip install tensorflow-lattice-gpu\n",
    "from statsmodels.tsa.stattools import pacf\n",
    "from matplotlib.pyplot import figure\n",
    "from statsmodels.tsa.arima.model import ARIMA\n",
    "from sklearn.metrics import mean_absolute_percentage_error\n",
    "import matplotlib.pyplot as plt\n",
    "from statsmodels.tsa.stattools import adfuller\n",
    "from statsmodels.tsa.stattools import kpss\n",
    "from sklearn.preprocessing import MinMaxScaler\n",
    "import tensorflow as tf\n",
    "from tensorflow import keras\n",
    "from tensorflow.keras import layers\n",
    "import tensorflow_lattice as tfl\n",
    "import matplotlib.ticker as ticker"
   ]
  },
  {
   "cell_type": "code",
   "execution_count": 5,
   "metadata": {},
   "outputs": [],
   "source": [
    "import warnings\n",
    "warnings.filterwarnings('ignore')"
   ]
  },
  {
   "cell_type": "code",
   "execution_count": 6,
   "metadata": {},
   "outputs": [],
   "source": [
    "import scipy.stats\n",
    "\n",
    "def mean_confidence_interval(data, confidence=0.95):\n",
    "    a = 1.0 * np.array(data)\n",
    "    n = len(a)\n",
    "    m, se = np.mean(a), scipy.stats.sem(a)\n",
    "    h = se * scipy.stats.t.ppf((1 + confidence) / 2., n-1)\n",
    "    return m, h\n",
    "\n",
    "# alternative:\n",
    "# scipy.stats.t.interval(alpha=0.95, df=len(data)-1, loc=np.mean(data), scale=st.sem(data))"
   ]
  },
  {
   "cell_type": "code",
   "execution_count": 7,
   "metadata": {},
   "outputs": [
    {
     "data": {
      "text/html": [
       "<div>\n",
       "<style scoped>\n",
       "    .dataframe tbody tr th:only-of-type {\n",
       "        vertical-align: middle;\n",
       "    }\n",
       "\n",
       "    .dataframe tbody tr th {\n",
       "        vertical-align: top;\n",
       "    }\n",
       "\n",
       "    .dataframe thead th {\n",
       "        text-align: right;\n",
       "    }\n",
       "</style>\n",
       "<table border=\"1\" class=\"dataframe\">\n",
       "  <thead>\n",
       "    <tr style=\"text-align: right;\">\n",
       "      <th></th>\n",
       "      <th>date</th>\n",
       "      <th>Los Angeles</th>\n",
       "      <th>San Diego</th>\n",
       "      <th>San Francisco</th>\n",
       "      <th>Santa Barbara</th>\n",
       "      <th>Fresno</th>\n",
       "      <th>Sacramento</th>\n",
       "      <th>Ventura</th>\n",
       "      <th>Riverside</th>\n",
       "    </tr>\n",
       "  </thead>\n",
       "  <tbody>\n",
       "    <tr>\n",
       "      <th>0</th>\n",
       "      <td>2020-02-01</td>\n",
       "      <td>13.0</td>\n",
       "      <td>0.0</td>\n",
       "      <td>1.0</td>\n",
       "      <td>0.0</td>\n",
       "      <td>0.0</td>\n",
       "      <td>0.0</td>\n",
       "      <td>0.0</td>\n",
       "      <td>2.0</td>\n",
       "    </tr>\n",
       "    <tr>\n",
       "      <th>1</th>\n",
       "      <td>2020-02-02</td>\n",
       "      <td>4.0</td>\n",
       "      <td>0.0</td>\n",
       "      <td>0.0</td>\n",
       "      <td>0.0</td>\n",
       "      <td>0.0</td>\n",
       "      <td>0.0</td>\n",
       "      <td>0.0</td>\n",
       "      <td>1.0</td>\n",
       "    </tr>\n",
       "    <tr>\n",
       "      <th>2</th>\n",
       "      <td>2020-02-03</td>\n",
       "      <td>4.0</td>\n",
       "      <td>0.0</td>\n",
       "      <td>0.0</td>\n",
       "      <td>0.0</td>\n",
       "      <td>0.0</td>\n",
       "      <td>0.0</td>\n",
       "      <td>0.0</td>\n",
       "      <td>1.0</td>\n",
       "    </tr>\n",
       "    <tr>\n",
       "      <th>3</th>\n",
       "      <td>2020-02-04</td>\n",
       "      <td>1.0</td>\n",
       "      <td>0.0</td>\n",
       "      <td>0.0</td>\n",
       "      <td>0.0</td>\n",
       "      <td>0.0</td>\n",
       "      <td>0.0</td>\n",
       "      <td>0.0</td>\n",
       "      <td>0.0</td>\n",
       "    </tr>\n",
       "    <tr>\n",
       "      <th>4</th>\n",
       "      <td>2020-02-05</td>\n",
       "      <td>0.0</td>\n",
       "      <td>0.0</td>\n",
       "      <td>0.0</td>\n",
       "      <td>0.0</td>\n",
       "      <td>0.0</td>\n",
       "      <td>0.0</td>\n",
       "      <td>0.0</td>\n",
       "      <td>0.0</td>\n",
       "    </tr>\n",
       "  </tbody>\n",
       "</table>\n",
       "</div>"
      ],
      "text/plain": [
       "         date  Los Angeles  San Diego  San Francisco  Santa Barbara  Fresno  \\\n",
       "0  2020-02-01         13.0        0.0            1.0            0.0     0.0   \n",
       "1  2020-02-02          4.0        0.0            0.0            0.0     0.0   \n",
       "2  2020-02-03          4.0        0.0            0.0            0.0     0.0   \n",
       "3  2020-02-04          1.0        0.0            0.0            0.0     0.0   \n",
       "4  2020-02-05          0.0        0.0            0.0            0.0     0.0   \n",
       "\n",
       "   Sacramento  Ventura  Riverside  \n",
       "0         0.0      0.0        2.0  \n",
       "1         0.0      0.0        1.0  \n",
       "2         0.0      0.0        1.0  \n",
       "3         0.0      0.0        0.0  \n",
       "4         0.0      0.0        0.0  "
      ]
     },
     "execution_count": 7,
     "metadata": {},
     "output_type": "execute_result"
    }
   ],
   "source": [
    "# import data\n",
    "df = pd.read_csv(\"CACases.csv\", index_col = False)\n",
    "df.reset_index(drop=True, inplace=True)\n",
    "df.head()"
   ]
  },
  {
   "cell_type": "code",
   "execution_count": 8,
   "metadata": {},
   "outputs": [],
   "source": [
    "# counties we are interested in\n",
    "counties = [\"Los Angeles\", \"San Diego\", \"San Francisco\", \"Santa Barbara\",\\\n",
    "            \"Fresno\", \"Sacramento\", \"Ventura\", \"Riverside\"]"
   ]
  },
  {
   "cell_type": "markdown",
   "metadata": {},
   "source": [
    "# Data Smoothing\n",
    "- Remove day of week effect by replace $y_t$ with an average of 7 previous days(inclusive)\n",
    "    - Each value is an average of data from all 7 different weekdays, thud day of week effect removed"
   ]
  },
  {
   "cell_type": "code",
   "execution_count": 9,
   "metadata": {},
   "outputs": [],
   "source": [
    "# create a time series of cases, each value is an average of 7 previous days(include the current date)\n",
    "# for each county\n",
    "df1 = df.copy()  # deep copy\n",
    "df1 = df1.iloc[6:]\n",
    "for county in counties:\n",
    "    # holder\n",
    "    temp = []\n",
    "    # take average, starting from 7th day\n",
    "    for i in range(6,len(df)):\n",
    "        # remove day of week effect\n",
    "        ave = np.mean(df[county].iloc[i-6:i+1])  # 6 previous days and the exact date, 7 days' average\n",
    "        temp.append(ave)\n",
    "    df1[county] = temp\n",
    "df1.set_index(\"date\", inplace=True)"
   ]
  },
  {
   "cell_type": "code",
   "execution_count": 10,
   "metadata": {},
   "outputs": [],
   "source": [
    "# input: original dataset, county we want\n",
    "# output: all data, sorted by date, of that county\n",
    "def extract(dataset, county):\n",
    "    # select data only from the input county\n",
    "    temp = dataset.to_dict()[county]\n",
    "    temp = pd.Series(temp)\n",
    "    # reset index\n",
    "    # temp.reset_index(drop=True, inplace=True)\n",
    "    return temp"
   ]
  },
  {
   "cell_type": "markdown",
   "metadata": {},
   "source": [
    "# Data Preprocessing\n",
    "## Differencing\n",
    "- Differencing of time series in discrete time\n",
    "- transformation of series to a new time series wehre values are the difference between consecutive values of previous series\n",
    "- help stablizing the mean of time series by removing trend"
   ]
  },
  {
   "cell_type": "code",
   "execution_count": 11,
   "metadata": {},
   "outputs": [],
   "source": [
    "# create a differenced series, output as Series\n",
    "# interval: order of differencing, default = 1\n",
    "def difference(dataset, interval=1):\n",
    "    diff = []\n",
    "    for i in range(interval, len(dataset)):\n",
    "        # no need to difference\n",
    "        if (interval == 0):\n",
    "            value = dataset[i]\n",
    "        else:\n",
    "            value = dataset[i] - dataset[i - interval]\n",
    "        diff.append(value)\n",
    "    return pd.Series(diff)\n",
    "# invert differenced value\n",
    "# input: single original, single prediction, interval(default as 1)\n",
    "def invert_difference(history, yhat, interval=1):\n",
    "    if (interval == 0):\n",
    "        return yhat\n",
    "    else:\n",
    "        return yhat + history"
   ]
  },
  {
   "cell_type": "markdown",
   "metadata": {},
   "source": [
    "## Scaling\n",
    "- Scale the data to [-1,1]"
   ]
  },
  {
   "cell_type": "code",
   "execution_count": 12,
   "metadata": {},
   "outputs": [],
   "source": [
    "# scale train and test data to [-1, 1]\n",
    "# input: train(np array, train_size*1), test(np array, test_size*1)\n",
    "def scale(train, test):\n",
    "    # find scalers\n",
    "    aveTrain = np.mean(train)\n",
    "    maxTrain = max(train)\n",
    "    minTrain = min(train)\n",
    "    scaler = [aveTrain, maxTrain, minTrain]\n",
    "    # transform train\n",
    "    train = train.reshape(train.shape[0], train.shape[1])\n",
    "    train_scaled = (train - aveTrain)/(maxTrain-minTrain)\n",
    "    # transform test\n",
    "    test = test.reshape(test.shape[0], test.shape[1])\n",
    "    test_scaled = (test - aveTrain)/(maxTrain-minTrain)\n",
    "    return scaler, train_scaled, test_scaled\n",
    "# inverse scaling for a forecasted value\n",
    "# input: scaler, single prediction yhat\n",
    "def invert_scale(scaler, yhat):\n",
    "    inverted = yhat*(scaler[1]-scaler[2]) + scaler[0]\n",
    "    return inverted[0][0]  # output: a number"
   ]
  },
  {
   "cell_type": "markdown",
   "metadata": {},
   "source": [
    "## Reshaping"
   ]
  },
  {
   "cell_type": "code",
   "execution_count": 13,
   "metadata": {},
   "outputs": [],
   "source": [
    "# convert to supervised learning\n",
    "def series_to_supervised(data, n_in=1, n_out=1, dropnan=True):\n",
    "    n_vars = 1 if type(data) is list else data.shape[1]\n",
    "    df = pd.DataFrame(data)\n",
    "    cols, names = [], []\n",
    "    # input sequence (t-n, ... t-1)\n",
    "    for i in range(n_in, 0, -1):\n",
    "        cols.append(df.shift(i))\n",
    "        names += [('var%d(t-%d)' % (j+1, i)) for j in range(n_vars)]\n",
    "    # forecast sequence (t, t+1, ... t+n)\n",
    "    for i in range(0, n_out):\n",
    "        cols.append(df.shift(-i))\n",
    "        if i == 0:\n",
    "            names += [('var%d(t)' % (j+1)) for j in range(n_vars)]\n",
    "        else:\n",
    "            names += [('var%d(t+%d)' % (j+1, i)) for j in range(n_vars)]\n",
    "    # put it all together\n",
    "    agg = pd.concat(cols, axis=1)\n",
    "    agg.columns = names\n",
    "    # drop rows with NaN values\n",
    "    if dropnan:\n",
    "        agg.dropna(inplace=True)\n",
    "    return agg  # output: a data frame\n",
    "# prepare data for AR\n",
    "def prepare_AR(series, diff, train_size, test_size, n_lag, n_seq):\n",
    "    # extract raw values\n",
    "    raw_values = series.values\n",
    "    raw_values = raw_values.reshape(len(raw_values), 1)\n",
    "    # differencing\n",
    "    diff_series = difference(raw_values, diff)\n",
    "    diff_values = diff_series.values\n",
    "    diff_values = diff_values.reshape(len(diff_values), 1)\n",
    "    # split into train & test\n",
    "    train_diff, test_diff = diff_values[:(train_size-diff)], diff_values[(train_size-diff):]\n",
    "    # rescaling\n",
    "    scaler, train_scaled, test_scaled = scale(train_diff, test_diff)\n",
    "    # adjust data type for test_scaled\n",
    "    # test_scaled = [row[0][0] for row in test_scaled]\n",
    "    # convert to supervised\n",
    "    train = [row[0][0] for row in train_scaled]\n",
    "    test = series_to_supervised(test_scaled, n_lag, n_seq).values\n",
    "    return scaler, train, test  # scaler: list, train: list, test: np array\n",
    "# prepare data for neural networks\n",
    "def prepare_nn(series, diff, train_size, test_size, n_lag, n_seq):\n",
    "    # extract raw values\n",
    "    raw_values = series.values\n",
    "    raw_values = raw_values.reshape(len(raw_values), 1)\n",
    "    # differencing\n",
    "    diff_series = difference(raw_values, diff)\n",
    "    diff_values = diff_series.values\n",
    "    diff_values = diff_values.reshape(len(diff_values), 1)\n",
    "    # split into train & test\n",
    "    train_diff, test_diff = diff_values[:(train_size-diff)], diff_values[(train_size-diff):]\n",
    "    # rescaling\n",
    "    scaler, train_scaled, test_scaled = scale(train_diff, test_diff)\n",
    "    # adjust data type for train_scaled, test_scaled\n",
    "    train_scaled = [row[0][0] for row in train_scaled]\n",
    "    test_scaled = [row[0][0] for row in test_scaled]\n",
    "    # convert to supervised\n",
    "    train = series_to_supervised(train_scaled, n_lag, n_seq).values\n",
    "    test = series_to_supervised(test_scaled, n_lag, n_seq).values\n",
    "    return scaler, train, test  # scaler: list of np array, train: np array, test: np array"
   ]
  },
  {
   "cell_type": "markdown",
   "metadata": {},
   "source": [
    "# Model Training"
   ]
  },
  {
   "cell_type": "code",
   "execution_count": 14,
   "metadata": {},
   "outputs": [],
   "source": [
    "# fit an LSTM network to training data\n",
    "def fit_lstm(train, n_lag, n_seq, n_batch, nb_epoch, n_neurons):\n",
    "    # reshape training into [samples, timesteps, features]\n",
    "    X, y = train[:, 0:n_lag], train[:, n_lag:]\n",
    "    X = X.reshape(X.shape[0], 1, X.shape[1])\n",
    "    # design network\n",
    "    model = keras.Sequential()\n",
    "    model.add(layers.LSTM(n_neurons, batch_input_shape=(n_batch, X.shape[1], X.shape[2]), stateful=True))\n",
    "    model.add(layers.Dense(y.shape[1]))\n",
    "    model.compile(loss='mean_squared_error', optimizer='adam')\n",
    "    # fit network\n",
    "    for i in range(nb_epoch):\n",
    "        model.fit(X, y, epochs=1, batch_size=n_batch, verbose=0, shuffle=False)\n",
    "        model.reset_states()\n",
    "    return model"
   ]
  },
  {
   "cell_type": "code",
   "execution_count": 15,
   "metadata": {},
   "outputs": [],
   "source": [
    "# fit an 2 layer LSTM network to training data\n",
    "def fit_double_lstm(train, n_lag, n_seq, n_batch, nb_epoch, n_neurons):\n",
    "    # reshape training into [samples, timesteps, features]\n",
    "    X, y = train[:, 0:n_lag], train[:, n_lag:]\n",
    "    X = X.reshape(X.shape[0], 1, X.shape[1])\n",
    "    # design network\n",
    "    model = keras.Sequential()\n",
    "    # two layers of lstm\n",
    "    model.add(layers.LSTM(n_neurons, return_sequences=True, \n",
    "                          batch_input_shape=(n_batch, X.shape[1], X.shape[2]), stateful=True))\n",
    "    model.add(layers.LSTM(n_neurons, batch_input_shape=(n_batch, X.shape[2], X.shape[2]), stateful=True))\n",
    "    model.add(layers.Dense(y.shape[1]))\n",
    "    model.compile(loss='mean_squared_error', optimizer='adam')\n",
    "    # fit network\n",
    "    for i in range(nb_epoch):\n",
    "        model.fit(X, y, epochs=1, batch_size=n_batch, verbose=0, shuffle=False)\n",
    "        model.reset_states()\n",
    "    return model"
   ]
  },
  {
   "cell_type": "code",
   "execution_count": 16,
   "metadata": {},
   "outputs": [],
   "source": [
    "class alpha_layer(keras.layers.Layer):\n",
    "    def __init__(self, input_dim=1, units=1):\n",
    "        super(alpha_layer, self).__init__()\n",
    "        # check with initializer.get_config()\n",
    "        initializer = tf.keras.initializers.RandomUniform(minval = 0, maxval = 1)\n",
    "        self.alpha = self.add_weight(shape=(input_dim, units), initializer=initializer, \n",
    "                                     constraint=lambda x: tf.clip_by_value(x, 0, 1), trainable=True)\n",
    "\n",
    "    def call(self, input1, input2):\n",
    "        return tf.matmul(input1, self.alpha) + tf.matmul(input2, (1-self.alpha))"
   ]
  },
  {
   "cell_type": "code",
   "execution_count": 17,
   "metadata": {},
   "outputs": [],
   "source": [
    "def fit_comb(train, n_lag, n_seq, n_batch, n_epoch, n_neurons):\n",
    "    X, y = train[:, 0:n_lag], train[:, n_lag:]\n",
    "    Z = X.reshape(X.shape[0], 1, X.shape[1])\n",
    "    # AR layer\n",
    "    input1 = tf.keras.layers.Input(shape=(X.shape[1],))\n",
    "    AR = tfl.layers.Linear(num_input_dims=X.shape[1], units=n_seq)(input1)\n",
    "    \n",
    "    # lstm layer\n",
    "    input2 = tf.keras.layers.Input(shape=(Z.shape[1],Z.shape[2]))\n",
    "    lstm = layers.LSTM(n_seq)(input2)\n",
    "    # fully connected lstm\n",
    "    lstm_connected = tf.keras.layers.Dense(n_seq)(lstm)\n",
    "    \n",
    "    # alpha layer\n",
    "    layer = alpha_layer()\n",
    "    #added = layer(AR, lstm)\n",
    "    added = layer(AR, lstm_connected)\n",
    "    model = tf.keras.models.Model(inputs=[input1,input2], outputs=added)\n",
    "    # compile before training or testing\n",
    "    model.compile(loss='mean_squared_error', optimizer='adam')\n",
    "    # fit network\n",
    "    for i in range(n_epoch):\n",
    "        model.fit([X, Z], y, epochs=1, batch_size=n_batch, verbose=0, shuffle=False)\n",
    "        model.reset_states()\n",
    "    return model"
   ]
  },
  {
   "cell_type": "markdown",
   "metadata": {},
   "source": [
    "# Make Forecasts"
   ]
  },
  {
   "cell_type": "code",
   "execution_count": 18,
   "metadata": {},
   "outputs": [],
   "source": [
    "# evaluate the model\n",
    "def make_AR(model, raw_value, test, test_size, n_lag, n_seq, diff):\n",
    "    forecasts = []\n",
    "    prev = raw_value[-(test_size+diff):(len(raw_value)-diff)]  # Y_(t-diff)  # (train_size+n_lag-1):-1\n",
    "    for i in range(test_size):\n",
    "        X = test[i, 0:n_lag]  # X_test, will not use y_test\n",
    "        # make forecast\n",
    "        forecast = model.params[0]  # initlialize with coefficient\n",
    "        for j in range(n_lag):\n",
    "            forecast += model.params[j+1] * X[j]  # forecast = a0 + a_i * X_i for i = 1,...,7\n",
    "        # invert scaling\n",
    "        forecast = invert_scale(scaler, forecast)\n",
    "        # invert differencing\n",
    "        forecast = invert_difference(prev[i], forecast, diff)\n",
    "        # store the forecast\n",
    "        forecasts.append(forecast)\n",
    "    return forecasts"
   ]
  },
  {
   "cell_type": "code",
   "execution_count": 19,
   "metadata": {},
   "outputs": [],
   "source": [
    "# make one forecast with an LSTM\n",
    "def forecast_lstm(model, X, n_batch):\n",
    "    # reshape input pattern to [samples, timesteps, features]\n",
    "    X = X.reshape(1, 1, len(X))\n",
    "    # make forecast\n",
    "    forecast = model.predict(X, batch_size=n_batch)\n",
    "    # convert to array\n",
    "    return [x for x in forecast[0, :]][0]\n",
    "# evaluate the model\n",
    "def make_lstm(model, n_batch, raw_value, test, test_size, n_lag, n_seq, diff):\n",
    "    forecasts = []\n",
    "    prev = raw_value[-(test_size+diff):(len(raw_value)-diff)]  # Y_(t-diff)\n",
    "    for i in range(len(test)):\n",
    "        X = test[i, 0:n_lag]\n",
    "        # make forecast\n",
    "        forecast = forecast_lstm(model, X, n_batch)\n",
    "        # invert scaling\n",
    "        forecast = invert_scale(scaler, forecast)\n",
    "        # invert differencing\n",
    "        forecast = invert_difference(prev[i], forecast)\n",
    "        # store the forecast\n",
    "        forecasts.append(forecast)\n",
    "    return forecasts"
   ]
  },
  {
   "cell_type": "code",
   "execution_count": 20,
   "metadata": {},
   "outputs": [],
   "source": [
    "# make one forecast with a hybird model\n",
    "def forecast_comb(model, X, n_batch):\n",
    "    # reshape input pattern to [samples, timesteps, features]\n",
    "    Z = X.reshape(1, 1, len(X))\n",
    "    X = X.reshape(1, len(X))\n",
    "    # make forecast\n",
    "    forecast = model.predict([X,Z], batch_size=n_batch)\n",
    "    return [x for x in forecast[0, :]][0]\n",
    "    return [x for x in forecast[0, :]][0]\n",
    "# make forecasts in a row\n",
    "def make_comb(model, n_batch, raw_value, test, test_size, n_lag, n_seq, diff):\n",
    "    forecasts = []\n",
    "    prev = raw_value[-(test_size+diff):(len(raw_value)-diff)]  # Y_(t-diff)\n",
    "    for i in range(len(test)):\n",
    "        X = test[i, 0:n_lag]\n",
    "        # make forecast\n",
    "        forecast = forecast_comb(model, X, n_batch)\n",
    "        # invert scaling\n",
    "        forecast = invert_scale(scaler, forecast)\n",
    "        # invert differencing\n",
    "        forecast = invert_difference(prev[i], forecast)\n",
    "        # store the forecast\n",
    "        forecasts.append(forecast)\n",
    "    return forecasts"
   ]
  },
  {
   "cell_type": "markdown",
   "metadata": {},
   "source": [
    "## Evaluation with RMSE, MAE, MAPE"
   ]
  },
  {
   "cell_type": "code",
   "execution_count": 21,
   "metadata": {},
   "outputs": [],
   "source": [
    "# evaluate RMSE for each step in forcasting\n",
    "def evaluate_forecasts(truth, forecasts):\n",
    "    truth = np.array(truth)\n",
    "    forecasts = np.array(forecasts)\n",
    "    mape = mean_absolute_percentage_error(truth, forecasts)*100\n",
    "    return mape"
   ]
  },
  {
   "cell_type": "markdown",
   "metadata": {},
   "source": [
    "# Perform on All Counties, LAST Trials"
   ]
  },
  {
   "cell_type": "code",
   "execution_count": 22,
   "metadata": {},
   "outputs": [],
   "source": [
    "# given historical observations (t, t-1, t-2, … t-n+1) forecast t+1(future 1 day)\n",
    "n_lag = 7  # number of lag, use 7 past days\n",
    "n_seq = 1  # predict 1 future days\n",
    "diff = 1 # order of difference\n",
    "train_size = 63  # train set size\n",
    "test_size = 18 # test set size\n",
    "\n",
    "n_step = 7  # step size\n",
    "\n",
    "n_batch = 1\n",
    "nb_epoch = 100\n",
    "n_neurons = 1"
   ]
  },
  {
   "cell_type": "code",
   "execution_count": 23,
   "metadata": {},
   "outputs": [],
   "source": [
    "# for each date t\n",
    "    # use [t, t + train_size) as training set\n",
    "    # use [t + train_size, t + train_size + test_size) as testing set\n",
    "    # evaluate by calculating RMSE\n",
    "\n",
    "# holder for metrics:\n",
    "MAPE = []\n",
    "trainingTime = []\n",
    "for county in counties:\n",
    "    # cut a data trial from original dataset\n",
    "    # prepare data\n",
    "    s = extract(df1, county)\n",
    "    raw_value = s[-(train_size+test_size+n_lag):]\n",
    "    \n",
    "    mape_AR, mape_LSTM, mape_double, mape_comb = [],[],[],[]\n",
    "    for i in range(100):\n",
    "        # for AR\n",
    "        scaler, train, test = prepare_AR(raw_value, diff, train_size, test_size, n_lag, n_seq)\n",
    "        # fit model\n",
    "        model = ARIMA(train, order = (n_lag,0,0), trend = 'c')  # AR, I, MA\n",
    "        model = model.fit()\n",
    "        # make forecasts\n",
    "        forecasts = make_AR(model, raw_value, test, test_size, n_lag, n_seq, diff)\n",
    "        mape_AR.append(evaluate_forecasts(raw_value[-test_size:], forecasts))\n",
    "\n",
    "        # for lstm\n",
    "        scaler, train, test = prepare_nn(raw_value, diff, train_size, test_size, n_lag, n_seq)\n",
    "        model = fit_lstm(train, n_lag, n_seq, n_batch, nb_epoch, n_neurons)\n",
    "        forecasts = make_lstm(model, n_batch, raw_value, test, test_size, n_lag, n_seq, diff)\n",
    "        mape_LSTM.append(evaluate_forecasts(raw_value[-test_size:], forecasts))\n",
    "\n",
    "        # for lstm(double)\n",
    "        model = fit_double_lstm(train, n_lag, n_seq, n_batch, nb_epoch, n_neurons)\n",
    "        forecasts = make_lstm(model, n_batch, raw_value, test, test_size, n_lag, n_seq, diff)\n",
    "        mape_double.append(evaluate_forecasts(raw_value[-test_size:], forecasts))\n",
    "\n",
    "        # for hybrid\n",
    "        model = fit_comb(train, n_lag, n_seq, n_batch, nb_epoch, n_neurons)\n",
    "        forecasts = make_comb(model, n_batch, raw_value, test, test_size, n_lag, n_seq, diff)\n",
    "        mape_comb.append(evaluate_forecasts(raw_value[-test_size:], forecasts))\n",
    "\n",
    "    MAPE.append([mape_AR, mape_LSTM, mape_double, mape_comb])"
   ]
  },
  {
   "cell_type": "markdown",
   "metadata": {},
   "source": [
    "# AR"
   ]
  },
  {
   "cell_type": "code",
   "execution_count": 24,
   "metadata": {},
   "outputs": [],
   "source": [
    "meanCI_AR = []\n",
    "for i in range(len(counties)):\n",
    "    MAPE_AR = MAPE[i][0]\n",
    "    data = pd.DataFrame(MAPE_AR) # convert to df\n",
    "    mean, h = mean_confidence_interval(data, confidence=0.95)\n",
    "    meanCI_AR.append([mean,h])"
   ]
  },
  {
   "cell_type": "code",
   "execution_count": 25,
   "metadata": {},
   "outputs": [
    {
     "data": {
      "text/plain": [
       "[[4.221229646394697, array([0.])],\n",
       " [3.7486797823741616, array([8.85608507e-17])],\n",
       " [5.251342370628335, array([1.77121701e-16])],\n",
       " [4.7308951315109145, array([1.77121701e-16])],\n",
       " [3.475220333027791, array([8.85608507e-17])],\n",
       " [4.684604915054328, array([0.])],\n",
       " [4.143153191613755, array([0.])],\n",
       " [4.752056901095261, array([0.])]]"
      ]
     },
     "execution_count": 25,
     "metadata": {},
     "output_type": "execute_result"
    }
   ],
   "source": [
    "meanCI_AR"
   ]
  },
  {
   "cell_type": "markdown",
   "metadata": {},
   "source": [
    "# LSTM"
   ]
  },
  {
   "cell_type": "code",
   "execution_count": 26,
   "metadata": {},
   "outputs": [],
   "source": [
    "meanCI_LSTM = []\n",
    "for i in range(len(counties)):\n",
    "    MAPE_LSTM = MAPE[i][1]\n",
    "    data = pd.DataFrame(MAPE_LSTM) # convert to df\n",
    "    mean, h = mean_confidence_interval(data, confidence=0.95)\n",
    "    meanCI_LSTM.append([mean,h])"
   ]
  },
  {
   "cell_type": "code",
   "execution_count": 27,
   "metadata": {},
   "outputs": [
    {
     "data": {
      "text/plain": [
       "[[3.7535974100997906, array([0.11244086])],\n",
       " [3.476215496707176, array([0.03499905])],\n",
       " [4.097200115541444, array([0.06747665])],\n",
       " [4.143279587506932, array([0.03025634])],\n",
       " [3.113757295858047, array([0.07560169])],\n",
       " [3.8308771355591618, array([0.05340304])],\n",
       " [3.563424987959894, array([0.02805286])],\n",
       " [3.418860377174695, array([0.08812663])]]"
      ]
     },
     "execution_count": 27,
     "metadata": {},
     "output_type": "execute_result"
    }
   ],
   "source": [
    "meanCI_LSTM"
   ]
  },
  {
   "cell_type": "markdown",
   "metadata": {},
   "source": [
    "# LSTM(Double)"
   ]
  },
  {
   "cell_type": "code",
   "execution_count": 28,
   "metadata": {},
   "outputs": [],
   "source": [
    "meanCI_double = []\n",
    "for i in range(len(counties)):\n",
    "    MAPE_double = MAPE[i][2]\n",
    "    data = pd.DataFrame(MAPE_double) # convert to df\n",
    "    mean, h = mean_confidence_interval(data, confidence=0.95)\n",
    "    meanCI_double.append([mean,h])"
   ]
  },
  {
   "cell_type": "code",
   "execution_count": 29,
   "metadata": {},
   "outputs": [
    {
     "data": {
      "text/plain": [
       "[[3.5457058144269693, array([0.16038408])],\n",
       " [3.553856464944356, array([0.1259008])],\n",
       " [4.115137972068289, array([0.08372642])],\n",
       " [4.138608170039517, array([0.08861026])],\n",
       " [3.394014143782596, array([0.1489043])],\n",
       " [3.7425188829290477, array([0.07628036])],\n",
       " [3.4871614454114224, array([0.05700479])],\n",
       " [3.304148610034888, array([0.1473473])]]"
      ]
     },
     "execution_count": 29,
     "metadata": {},
     "output_type": "execute_result"
    }
   ],
   "source": [
    "meanCI_double"
   ]
  },
  {
   "cell_type": "markdown",
   "metadata": {},
   "source": [
    "# Hybrid"
   ]
  },
  {
   "cell_type": "code",
   "execution_count": 30,
   "metadata": {},
   "outputs": [],
   "source": [
    "meanCI_Hybrid = []\n",
    "for i in range(len(counties)):\n",
    "    MAPE_Hybrid = MAPE[i][-1]\n",
    "    data = pd.DataFrame(MAPE_Hybrid) # convert to df\n",
    "    mean, h = mean_confidence_interval(data, confidence=0.95)\n",
    "    meanCI_Hybrid.append([mean,h])"
   ]
  },
  {
   "cell_type": "code",
   "execution_count": 31,
   "metadata": {},
   "outputs": [
    {
     "data": {
      "text/plain": [
       "[[3.3476047498079025, array([0.031997])],\n",
       " [3.3282991246648272, array([0.02031813])],\n",
       " [4.136394338038747, array([0.02677222])],\n",
       " [4.16487260938828, array([0.0122634])],\n",
       " [2.9416041219276563, array([0.00946189])],\n",
       " [3.8885353081712477, array([0.02303819])],\n",
       " [3.4177239198143896, array([0.0177399])],\n",
       " [3.2027545276257428, array([0.04111248])]]"
      ]
     },
     "execution_count": 31,
     "metadata": {},
     "output_type": "execute_result"
    }
   ],
   "source": [
    "meanCI_Hybrid"
   ]
  },
  {
   "cell_type": "code",
   "execution_count": null,
   "metadata": {},
   "outputs": [],
   "source": []
  }
 ],
 "metadata": {
  "interpreter": {
   "hash": "a6f43bc8b6817fe41e0368aeedec29e97a64392d98a2288e05ac37c2a985d986"
  },
  "kernelspec": {
   "display_name": "Python 3",
   "language": "python",
   "name": "python3"
  },
  "language_info": {
   "codemirror_mode": {
    "name": "ipython",
    "version": 3
   },
   "file_extension": ".py",
   "mimetype": "text/x-python",
   "name": "python",
   "nbconvert_exporter": "python",
   "pygments_lexer": "ipython3",
   "version": "3.8.5"
  }
 },
 "nbformat": 4,
 "nbformat_minor": 4
}
